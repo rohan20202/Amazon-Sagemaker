{
 "cells": [
  {
   "cell_type": "code",
   "execution_count": 1,
   "metadata": {
    "execution": {
     "iopub.execute_input": "2022-08-27T15:07:17.083314Z",
     "iopub.status.busy": "2022-08-27T15:07:17.082722Z",
     "iopub.status.idle": "2022-08-27T15:07:17.096369Z",
     "shell.execute_reply": "2022-08-27T15:07:17.096845Z"
    },
    "papermill": {
     "duration": 0.033096,
     "end_time": "2022-08-27T15:07:17.097166",
     "exception": false,
     "start_time": "2022-08-27T15:07:17.064070",
     "status": "completed"
    },
    "tags": [
     "hide-input"
    ]
   },
   "outputs": [
    {
     "data": {
      "text/markdown": [
       "# XGBoost Training Report by SageMaker Debugger\n",
       "\t\t\t\t\t\t\t\t\t\t\t\t\t\t\t\t\t\t\t Created on 2022-08-27 15:07:17 \n",
       "\n",
       "The SageMaker Debugger `CreateXgboostReport` built-in rule auto-generates this report. This report provides a summary of the XGBoost model training evaluation results, insights of the model performance, and interactive graphs.\n",
       "\n",
       " **Legal disclaimer:** In this report, plots and and recommendations are provided for informational purposes only and are not definitive. You are responsible for making your own independent assessment of the information.\n",
       "]\n",
       "For more information, see the following documentation:\n",
       "\n",
       "* [Amazon SageMaker Developer Guide](https://docs.aws.amazon.com/sagemaker/latest/dg/train-debugger.html)\n",
       "\n",
       "If you want to use the notebook that generated this report, you need to install the following libraries:\n",
       "\n",
       "* [SageMaker Debugger Client Library Github](https://github.com/awslabs/sagemaker-debugger)\n",
       "* [The Bokeh Python Visualization Tool](http://docs.bokeh.org/en/0.11.0/docs/installation.html)\n"
      ],
      "text/plain": [
       "<IPython.core.display.Markdown object>"
      ]
     },
     "metadata": {},
     "output_type": "display_data"
    }
   ],
   "source": [
    "import datetime\n",
    "from IPython.display import display, Markdown\n",
    "\n",
    "timestamp = datetime.datetime.now().replace(microsecond=0)\n",
    "\n",
    "s = f\"# XGBoost Training Report by SageMaker Debugger\\n\\\n",
    "\\t\\t\\t\\t\\t\\t\\t\\t\\t\\t\\t\\t\\t\\t\\t\\t\\t\\t\\t Created on {timestamp} \\n\\\n",
    "\\n\\\n",
    "The SageMaker Debugger `CreateXgboostReport` built-in rule auto-generates this report. This report provides a summary of the XGBoost model training evaluation results, insights of the model performance, and interactive graphs.\\n\\\n",
    "\\n\\\n",
    " **Legal disclaimer:** In this report, plots and and recommendations are provided for informational purposes only and are not definitive. You are responsible for making your own independent assessment of the information.\\n]\\\n",
    "\\n\\\n",
    "For more information, see the following documentation:\\n\\\n",
    "\\n\\\n",
    "* [Amazon SageMaker Developer Guide](https://docs.aws.amazon.com/sagemaker/latest/dg/train-debugger.html)\\n\\\n",
    "\\n\\\n",
    "If you want to use the notebook that generated this report, you need to install the following libraries:\\n\\\n",
    "\\n\\\n",
    "* [SageMaker Debugger Client Library Github](https://github.com/awslabs/sagemaker-debugger)\\n\\\n",
    "* [The Bokeh Python Visualization Tool](http://docs.bokeh.org/en/0.11.0/docs/installation.html)\\n\\\n",
    "\"\n",
    "display(Markdown(s))"
   ]
  },
  {
   "cell_type": "code",
   "execution_count": 2,
   "metadata": {
    "execution": {
     "iopub.execute_input": "2022-08-27T15:07:17.119211Z",
     "iopub.status.busy": "2022-08-27T15:07:17.118312Z",
     "iopub.status.idle": "2022-08-27T15:07:17.120127Z",
     "shell.execute_reply": "2022-08-27T15:07:17.120614Z"
    },
    "papermill": {
     "duration": 0.014904,
     "end_time": "2022-08-27T15:07:17.120755",
     "exception": false,
     "start_time": "2022-08-27T15:07:17.105851",
     "status": "completed"
    },
    "tags": [
     "parameters",
     "hide-input"
    ]
   },
   "outputs": [],
   "source": [
    "# set your plotting frequency\n",
    "plot_step = -1\n",
    "# set the path to your trial data (debug_data_path)\n",
    "s3_path = \"\"\n",
    "path = \"\"\n",
    "\n",
    "is_regression = None\n",
    "is_classification = None"
   ]
  },
  {
   "cell_type": "code",
   "execution_count": 3,
   "id": "d84f94cb",
   "metadata": {
    "execution": {
     "iopub.execute_input": "2022-08-27T15:07:17.140847Z",
     "iopub.status.busy": "2022-08-27T15:07:17.139990Z",
     "iopub.status.idle": "2022-08-27T15:07:17.142068Z",
     "shell.execute_reply": "2022-08-27T15:07:17.142463Z"
    },
    "papermill": {
     "duration": 0.014234,
     "end_time": "2022-08-27T15:07:17.142599",
     "exception": false,
     "start_time": "2022-08-27T15:07:17.128365",
     "status": "completed"
    },
    "tags": [
     "injected-parameters"
    ]
   },
   "outputs": [],
   "source": [
    "# Parameters\n",
    "path = \"/opt/ml/processing/input/tensors\"\n",
    "plot_step = 45\n",
    "s3_path = \"s3://rohan202/xgboost-as-a-built-in-algo/output/sagemaker-xgboost-2022-08-27-14-58-10-799/debug-output\"\n"
   ]
  },
  {
   "cell_type": "markdown",
   "metadata": {
    "papermill": {
     "duration": 0.010447,
     "end_time": "2022-08-27T15:07:17.160848",
     "exception": false,
     "start_time": "2022-08-27T15:07:17.150401",
     "status": "completed"
    },
    "tags": []
   },
   "source": [
    "The following parameters are the default values auto-generated by the `CreateXgboostReport` built-in rule.\n",
    "\n",
    "- `path (str)` - The local path where Debugger has saved output tensors in the training container.\n",
    "- `plot_step (int)` - The step for which the rule has created the training report.\n",
    "- `s3_path (str)` -  The S3 bucket URI where Debugger has saved the output tensors."
   ]
  },
  {
   "cell_type": "code",
   "execution_count": 4,
   "metadata": {
    "execution": {
     "iopub.execute_input": "2022-08-27T15:07:17.270525Z",
     "iopub.status.busy": "2022-08-27T15:07:17.268973Z",
     "iopub.status.idle": "2022-08-27T15:07:17.271094Z",
     "shell.execute_reply": "2022-08-27T15:07:17.269800Z"
    },
    "papermill": {
     "duration": 0.096091,
     "end_time": "2022-08-27T15:07:17.271238",
     "exception": false,
     "start_time": "2022-08-27T15:07:17.175147",
     "status": "completed"
    },
    "tags": [
     "hide-input",
     "hide-output"
    ]
   },
   "outputs": [],
   "source": [
    "import os\n",
    "if not os.path.exists(\"/opt/ml/config/processingjobconfig.json\"):\n",
    "    path = s3_path\n",
    "    ! pip install smdebug \n",
    "    ! pip install matplotlib\n",
    "    ! pip install scipy\n",
    "    "
   ]
  },
  {
   "cell_type": "code",
   "execution_count": 5,
   "metadata": {
    "execution": {
     "iopub.execute_input": "2022-08-27T15:07:17.364124Z",
     "iopub.status.busy": "2022-08-27T15:07:17.363240Z",
     "iopub.status.idle": "2022-08-27T15:07:17.365894Z",
     "shell.execute_reply": "2022-08-27T15:07:17.365413Z"
    },
    "papermill": {
     "duration": 0.086395,
     "end_time": "2022-08-27T15:07:17.366015",
     "exception": false,
     "start_time": "2022-08-27T15:07:17.279620",
     "status": "completed"
    },
    "tags": [
     "hide-input",
     "hide-output"
    ]
   },
   "outputs": [],
   "source": [
    "if path == \"\":\n",
    "    assert False, \"Path cannot be empty\""
   ]
  },
  {
   "cell_type": "code",
   "execution_count": 6,
   "metadata": {
    "execution": {
     "iopub.execute_input": "2022-08-27T15:07:17.458478Z",
     "iopub.status.busy": "2022-08-27T15:07:17.457525Z",
     "iopub.status.idle": "2022-08-27T15:07:19.290856Z",
     "shell.execute_reply": "2022-08-27T15:07:19.291278Z"
    },
    "papermill": {
     "duration": 1.915577,
     "end_time": "2022-08-27T15:07:19.291423",
     "exception": false,
     "start_time": "2022-08-27T15:07:17.375846",
     "status": "completed"
    },
    "tags": [
     "hide-output",
     "hide-input"
    ]
   },
   "outputs": [
    {
     "name": "stdout",
     "output_type": "stream",
     "text": [
      "[2022-08-27 15:07:18.182 ip-10-0-145-70.us-east-2.compute.internal:15 INFO utils.py:27] RULE_JOB_STOP_SIGNAL_FILENAME: None\n"
     ]
    },
    {
     "name": "stdout",
     "output_type": "stream",
     "text": [
      "[2022-08-27 15:07:18.272 ip-10-0-145-70.us-east-2.compute.internal:15 INFO local_trial.py:35] Loading trial tensors at path /opt/ml/processing/input/tensors\n"
     ]
    },
    {
     "name": "stdout",
     "output_type": "stream",
     "text": [
      "[2022-08-27 15:07:18.282 ip-10-0-145-70.us-east-2.compute.internal:15 INFO trial.py:198] Training has ended, will refresh one final time in 1 sec.\n"
     ]
    },
    {
     "name": "stdout",
     "output_type": "stream",
     "text": [
      "[2022-08-27 15:07:19.285 ip-10-0-145-70.us-east-2.compute.internal:15 INFO trial.py:210] Loaded all steps\n"
     ]
    }
   ],
   "source": [
    "import re\n",
    "from smdebug.trials import create_trial\n",
    "trial = create_trial(path)\n",
    "tensor_names = trial.tensor_names() # Load all tensor names"
   ]
  },
  {
   "cell_type": "code",
   "execution_count": 7,
   "metadata": {
    "execution": {
     "iopub.execute_input": "2022-08-27T15:07:19.318125Z",
     "iopub.status.busy": "2022-08-27T15:07:19.317414Z",
     "iopub.status.idle": "2022-08-27T15:07:19.324813Z",
     "shell.execute_reply": "2022-08-27T15:07:19.324373Z"
    },
    "papermill": {
     "duration": 0.024589,
     "end_time": "2022-08-27T15:07:19.325237",
     "exception": false,
     "start_time": "2022-08-27T15:07:19.300648",
     "status": "completed"
    },
    "tags": [
     "hide-input"
    ]
   },
   "outputs": [
    {
     "data": {
      "text/markdown": [
       "### Table of Contents\n",
       "- [Distribution of True Labels of the Dataset](#section1)\n",
       "- [Loss vs Step Graph](#section2)\n",
       "- [Feature Importance](#section3)\n",
       "\n",
       "- [Confusion Matrix](#section4)\n",
       "- [Evaluation of the Confusion Matrix](#section4-1)\n",
       "- [Accuracy Rate of Each Diagonal Element over Iteration](#section4-2)\n",
       "\n",
       "- [Receiver Operating Characteristic Curve](#section5)\n",
       "\n",
       "- [Distribution of Residuals at Last Saved Step](#section6)\n"
      ],
      "text/plain": [
       "<IPython.core.display.Markdown object>"
      ]
     },
     "metadata": {},
     "output_type": "display_data"
    }
   ],
   "source": [
    "from IPython.display import display, Markdown\n",
    "\n",
    "SUPPORTED_OBJECTIVES = [\"reg:squarederror\", \"binary:logistic\", \"multi:softmax\"]\n",
    "objective_metric = None\n",
    "if 'hyperparameters/objective' in tensor_names:\n",
    "    objective_metric = trial.tensor('hyperparameters/objective').value(0)[0]\n",
    "\n",
    "    \n",
    "if plot_step == 0:\n",
    "    ERROR_MESSAGE = \"### This report renders graphs with metrics collected every five steps.\\n\\\n",
    "### Please consider running training for more than five rounds.\"\n",
    "    display(Markdown(ERROR_MESSAGE))\n",
    "    \n",
    "ERROR_MESSAGE = f\"### Hyperparameter Objective must be reg:squarederror, binary:logistic or multi:softmax\\n\\\n",
    "### This report currently does not support the objective: {objective_metric}\\n\\\n",
    "### Some of the graphs maybe missing.\\n\\\n",
    "\"    \n",
    "\n",
    "s=\"### Table of Contents\\n\\\n",
    "- [Distribution of True Labels of the Dataset](#section1)\\n\\\n",
    "- [Loss vs Step Graph](#section2)\\n\\\n",
    "- [Feature Importance](#section3)\\n\\\n",
    "\"\n",
    "\n",
    "classfication_specific_graphs=\"\\n\\\n",
    "- [Confusion Matrix](#section4)\\n\\\n",
    "- [Evaluation of the Confusion Matrix](#section4-1)\\n\\\n",
    "- [Accuracy Rate of Each Diagonal Element over Iteration](#section4-2)\\n\\\n",
    "\"\n",
    "binary_classification_specific_graphs=\"\\n\\\n",
    "- [Receiver Operating Characteristic Curve](#section5)\\n\\\n",
    "\"\n",
    "if objective_metric in [\"binary:logistic\", \"multi:softmax\"]:\n",
    "    s +=classfication_specific_graphs\n",
    "if objective_metric in [\"binary:logistic\"]:\n",
    "    s += binary_classification_specific_graphs\n",
    "    \n",
    "s+=\"\\n\\\n",
    "- [Distribution of Residuals at Last Saved Step](#section6)\\n\\\n",
    "\"\n",
    "\n",
    "regression_specific_graphs = \"\\n\\\n",
    "- [Absolute Validation Error per Label Bin over Iteration](#section7)\\n\\\n",
    "- [Mean Absolute Validation Error per Label Bin](#section8)\\n\\\n",
    "\"\n",
    "    \n",
    "if objective_metric in [\"reg:squarederror\"]:\n",
    "    s+=regression_specific_graphs\n",
    "\n",
    "if objective_metric not in SUPPORTED_OBJECTIVES:\n",
    "    display(Markdown(ERROR_MESSAGE))\n",
    "else:\n",
    "    display(Markdown(s))"
   ]
  },
  {
   "cell_type": "code",
   "execution_count": 8,
   "metadata": {
    "execution": {
     "iopub.execute_input": "2022-08-27T15:07:19.350569Z",
     "iopub.status.busy": "2022-08-27T15:07:19.349836Z",
     "iopub.status.idle": "2022-08-27T15:07:20.242356Z",
     "shell.execute_reply": "2022-08-27T15:07:20.242737Z"
    },
    "papermill": {
     "duration": 0.908672,
     "end_time": "2022-08-27T15:07:20.242902",
     "exception": false,
     "start_time": "2022-08-27T15:07:19.334230",
     "status": "completed"
    },
    "tags": [
     "hide-input"
    ]
   },
   "outputs": [
    {
     "data": {
      "text/html": [
       "\n",
       "    <div class=\"bk-root\">\n",
       "        <a href=\"https://bokeh.org\" target=\"_blank\" class=\"bk-logo bk-logo-small bk-logo-notebook\"></a>\n",
       "        <span id=\"1001\">Loading BokehJS ...</span>\n",
       "    </div>"
      ]
     },
     "metadata": {},
     "output_type": "display_data"
    },
    {
     "data": {
      "application/javascript": [
       "\n",
       "(function(root) {\n",
       "  function now() {\n",
       "    return new Date();\n",
       "  }\n",
       "\n",
       "  var force = true;\n",
       "\n",
       "  if (typeof root._bokeh_onload_callbacks === \"undefined\" || force === true) {\n",
       "    root._bokeh_onload_callbacks = [];\n",
       "    root._bokeh_is_loading = undefined;\n",
       "  }\n",
       "\n",
       "  var JS_MIME_TYPE = 'application/javascript';\n",
       "  var HTML_MIME_TYPE = 'text/html';\n",
       "  var EXEC_MIME_TYPE = 'application/vnd.bokehjs_exec.v0+json';\n",
       "  var CLASS_NAME = 'output_bokeh rendered_html';\n",
       "\n",
       "  /**\n",
       "   * Render data to the DOM node\n",
       "   */\n",
       "  function render(props, node) {\n",
       "    var script = document.createElement(\"script\");\n",
       "    node.appendChild(script);\n",
       "  }\n",
       "\n",
       "  /**\n",
       "   * Handle when an output is cleared or removed\n",
       "   */\n",
       "  function handleClearOutput(event, handle) {\n",
       "    var cell = handle.cell;\n",
       "\n",
       "    var id = cell.output_area._bokeh_element_id;\n",
       "    var server_id = cell.output_area._bokeh_server_id;\n",
       "    // Clean up Bokeh references\n",
       "    if (id != null && id in Bokeh.index) {\n",
       "      Bokeh.index[id].model.document.clear();\n",
       "      delete Bokeh.index[id];\n",
       "    }\n",
       "\n",
       "    if (server_id !== undefined) {\n",
       "      // Clean up Bokeh references\n",
       "      var cmd = \"from bokeh.io.state import curstate; print(curstate().uuid_to_server['\" + server_id + \"'].get_sessions()[0].document.roots[0]._id)\";\n",
       "      cell.notebook.kernel.execute(cmd, {\n",
       "        iopub: {\n",
       "          output: function(msg) {\n",
       "            var id = msg.content.text.trim();\n",
       "            if (id in Bokeh.index) {\n",
       "              Bokeh.index[id].model.document.clear();\n",
       "              delete Bokeh.index[id];\n",
       "            }\n",
       "          }\n",
       "        }\n",
       "      });\n",
       "      // Destroy server and session\n",
       "      var cmd = \"import bokeh.io.notebook as ion; ion.destroy_server('\" + server_id + \"')\";\n",
       "      cell.notebook.kernel.execute(cmd);\n",
       "    }\n",
       "  }\n",
       "\n",
       "  /**\n",
       "   * Handle when a new output is added\n",
       "   */\n",
       "  function handleAddOutput(event, handle) {\n",
       "    var output_area = handle.output_area;\n",
       "    var output = handle.output;\n",
       "\n",
       "    // limit handleAddOutput to display_data with EXEC_MIME_TYPE content only\n",
       "    if ((output.output_type != \"display_data\") || (!output.data.hasOwnProperty(EXEC_MIME_TYPE))) {\n",
       "      return\n",
       "    }\n",
       "\n",
       "    var toinsert = output_area.element.find(\".\" + CLASS_NAME.split(' ')[0]);\n",
       "\n",
       "    if (output.metadata[EXEC_MIME_TYPE][\"id\"] !== undefined) {\n",
       "      toinsert[toinsert.length - 1].firstChild.textContent = output.data[JS_MIME_TYPE];\n",
       "      // store reference to embed id on output_area\n",
       "      output_area._bokeh_element_id = output.metadata[EXEC_MIME_TYPE][\"id\"];\n",
       "    }\n",
       "    if (output.metadata[EXEC_MIME_TYPE][\"server_id\"] !== undefined) {\n",
       "      var bk_div = document.createElement(\"div\");\n",
       "      bk_div.innerHTML = output.data[HTML_MIME_TYPE];\n",
       "      var script_attrs = bk_div.children[0].attributes;\n",
       "      for (var i = 0; i < script_attrs.length; i++) {\n",
       "        toinsert[toinsert.length - 1].firstChild.setAttribute(script_attrs[i].name, script_attrs[i].value);\n",
       "        toinsert[toinsert.length - 1].firstChild.textContent = bk_div.children[0].textContent\n",
       "      }\n",
       "      // store reference to server id on output_area\n",
       "      output_area._bokeh_server_id = output.metadata[EXEC_MIME_TYPE][\"server_id\"];\n",
       "    }\n",
       "  }\n",
       "\n",
       "  function register_renderer(events, OutputArea) {\n",
       "\n",
       "    function append_mime(data, metadata, element) {\n",
       "      // create a DOM node to render to\n",
       "      var toinsert = this.create_output_subarea(\n",
       "        metadata,\n",
       "        CLASS_NAME,\n",
       "        EXEC_MIME_TYPE\n",
       "      );\n",
       "      this.keyboard_manager.register_events(toinsert);\n",
       "      // Render to node\n",
       "      var props = {data: data, metadata: metadata[EXEC_MIME_TYPE]};\n",
       "      render(props, toinsert[toinsert.length - 1]);\n",
       "      element.append(toinsert);\n",
       "      return toinsert\n",
       "    }\n",
       "\n",
       "    /* Handle when an output is cleared or removed */\n",
       "    events.on('clear_output.CodeCell', handleClearOutput);\n",
       "    events.on('delete.Cell', handleClearOutput);\n",
       "\n",
       "    /* Handle when a new output is added */\n",
       "    events.on('output_added.OutputArea', handleAddOutput);\n",
       "\n",
       "    /**\n",
       "     * Register the mime type and append_mime function with output_area\n",
       "     */\n",
       "    OutputArea.prototype.register_mime_type(EXEC_MIME_TYPE, append_mime, {\n",
       "      /* Is output safe? */\n",
       "      safe: true,\n",
       "      /* Index of renderer in `output_area.display_order` */\n",
       "      index: 0\n",
       "    });\n",
       "  }\n",
       "\n",
       "  // register the mime type if in Jupyter Notebook environment and previously unregistered\n",
       "  if (root.Jupyter !== undefined) {\n",
       "    var events = require('base/js/events');\n",
       "    var OutputArea = require('notebook/js/outputarea').OutputArea;\n",
       "\n",
       "    if (OutputArea.prototype.mime_types().indexOf(EXEC_MIME_TYPE) == -1) {\n",
       "      register_renderer(events, OutputArea);\n",
       "    }\n",
       "  }\n",
       "\n",
       "  \n",
       "  if (typeof (root._bokeh_timeout) === \"undefined\" || force === true) {\n",
       "    root._bokeh_timeout = Date.now() + 5000;\n",
       "    root._bokeh_failed_load = false;\n",
       "  }\n",
       "\n",
       "  var NB_LOAD_WARNING = {'data': {'text/html':\n",
       "     \"<div style='background-color: #fdd'>\\n\"+\n",
       "     \"<p>\\n\"+\n",
       "     \"BokehJS does not appear to have successfully loaded. If loading BokehJS from CDN, this \\n\"+\n",
       "     \"may be due to a slow or bad network connection. Possible fixes:\\n\"+\n",
       "     \"</p>\\n\"+\n",
       "     \"<ul>\\n\"+\n",
       "     \"<li>re-rerun `output_notebook()` to attempt to load from CDN again, or</li>\\n\"+\n",
       "     \"<li>use INLINE resources instead, as so:</li>\\n\"+\n",
       "     \"</ul>\\n\"+\n",
       "     \"<code>\\n\"+\n",
       "     \"from bokeh.resources import INLINE\\n\"+\n",
       "     \"output_notebook(resources=INLINE)\\n\"+\n",
       "     \"</code>\\n\"+\n",
       "     \"</div>\"}};\n",
       "\n",
       "  function display_loaded() {\n",
       "    var el = document.getElementById(\"1001\");\n",
       "    if (el != null) {\n",
       "      el.textContent = \"BokehJS is loading...\";\n",
       "    }\n",
       "    if (root.Bokeh !== undefined) {\n",
       "      if (el != null) {\n",
       "        el.textContent = \"BokehJS \" + root.Bokeh.version + \" successfully loaded.\";\n",
       "      }\n",
       "    } else if (Date.now() < root._bokeh_timeout) {\n",
       "      setTimeout(display_loaded, 100)\n",
       "    }\n",
       "  }\n",
       "\n",
       "\n",
       "  function run_callbacks() {\n",
       "    try {\n",
       "      root._bokeh_onload_callbacks.forEach(function(callback) {\n",
       "        if (callback != null)\n",
       "          callback();\n",
       "      });\n",
       "    } finally {\n",
       "      delete root._bokeh_onload_callbacks\n",
       "    }\n",
       "    console.debug(\"Bokeh: all callbacks have finished\");\n",
       "  }\n",
       "\n",
       "  function load_libs(css_urls, js_urls, callback) {\n",
       "    if (css_urls == null) css_urls = [];\n",
       "    if (js_urls == null) js_urls = [];\n",
       "\n",
       "    root._bokeh_onload_callbacks.push(callback);\n",
       "    if (root._bokeh_is_loading > 0) {\n",
       "      console.debug(\"Bokeh: BokehJS is being loaded, scheduling callback at\", now());\n",
       "      return null;\n",
       "    }\n",
       "    if (js_urls == null || js_urls.length === 0) {\n",
       "      run_callbacks();\n",
       "      return null;\n",
       "    }\n",
       "    console.debug(\"Bokeh: BokehJS not loaded, scheduling load and callback at\", now());\n",
       "    root._bokeh_is_loading = css_urls.length + js_urls.length;\n",
       "\n",
       "    function on_load() {\n",
       "      root._bokeh_is_loading--;\n",
       "      if (root._bokeh_is_loading === 0) {\n",
       "        console.debug(\"Bokeh: all BokehJS libraries/stylesheets loaded\");\n",
       "        run_callbacks()\n",
       "      }\n",
       "    }\n",
       "\n",
       "    function on_error() {\n",
       "      console.error(\"failed to load \" + url);\n",
       "    }\n",
       "\n",
       "    for (var i = 0; i < css_urls.length; i++) {\n",
       "      var url = css_urls[i];\n",
       "      const element = document.createElement(\"link\");\n",
       "      element.onload = on_load;\n",
       "      element.onerror = on_error;\n",
       "      element.rel = \"stylesheet\";\n",
       "      element.type = \"text/css\";\n",
       "      element.href = url;\n",
       "      console.debug(\"Bokeh: injecting link tag for BokehJS stylesheet: \", url);\n",
       "      document.body.appendChild(element);\n",
       "    }\n",
       "\n",
       "    const hashes = {\"https://cdn.bokeh.org/bokeh/release/bokeh-2.2.3.min.js\": \"T2yuo9Oe71Cz/I4X9Ac5+gpEa5a8PpJCDlqKYO0CfAuEszu1JrXLl8YugMqYe3sM\", \"https://cdn.bokeh.org/bokeh/release/bokeh-widgets-2.2.3.min.js\": \"98GDGJ0kOMCUMUePhksaQ/GYgB3+NH9h996V88sh3aOiUNX3N+fLXAtry6xctSZ6\", \"https://cdn.bokeh.org/bokeh/release/bokeh-tables-2.2.3.min.js\": \"89bArO+nlbP3sgakeHjCo1JYxYR5wufVgA3IbUvDY+K7w4zyxJqssu7wVnfeKCq8\"};\n",
       "\n",
       "    for (var i = 0; i < js_urls.length; i++) {\n",
       "      var url = js_urls[i];\n",
       "      var element = document.createElement('script');\n",
       "      element.onload = on_load;\n",
       "      element.onerror = on_error;\n",
       "      element.async = false;\n",
       "      element.src = url;\n",
       "      if (url in hashes) {\n",
       "        element.crossOrigin = \"anonymous\";\n",
       "        element.integrity = \"sha384-\" + hashes[url];\n",
       "      }\n",
       "      console.debug(\"Bokeh: injecting script tag for BokehJS library: \", url);\n",
       "      document.head.appendChild(element);\n",
       "    }\n",
       "  };\n",
       "\n",
       "  function inject_raw_css(css) {\n",
       "    const element = document.createElement(\"style\");\n",
       "    element.appendChild(document.createTextNode(css));\n",
       "    document.body.appendChild(element);\n",
       "  }\n",
       "\n",
       "  \n",
       "  var js_urls = [\"https://cdn.bokeh.org/bokeh/release/bokeh-2.2.3.min.js\", \"https://cdn.bokeh.org/bokeh/release/bokeh-widgets-2.2.3.min.js\", \"https://cdn.bokeh.org/bokeh/release/bokeh-tables-2.2.3.min.js\"];\n",
       "  var css_urls = [];\n",
       "  \n",
       "\n",
       "  var inline_js = [\n",
       "    function(Bokeh) {\n",
       "      Bokeh.set_log_level(\"info\");\n",
       "    },\n",
       "    function(Bokeh) {\n",
       "    \n",
       "    \n",
       "    }\n",
       "  ];\n",
       "\n",
       "  function run_inline_js() {\n",
       "    \n",
       "    if (root.Bokeh !== undefined || force === true) {\n",
       "      \n",
       "    for (var i = 0; i < inline_js.length; i++) {\n",
       "      inline_js[i].call(root, root.Bokeh);\n",
       "    }\n",
       "    if (force === true) {\n",
       "        display_loaded();\n",
       "      }} else if (Date.now() < root._bokeh_timeout) {\n",
       "      setTimeout(run_inline_js, 100);\n",
       "    } else if (!root._bokeh_failed_load) {\n",
       "      console.log(\"Bokeh: BokehJS failed to load within specified timeout.\");\n",
       "      root._bokeh_failed_load = true;\n",
       "    } else if (force !== true) {\n",
       "      var cell = $(document.getElementById(\"1001\")).parents('.cell').data().cell;\n",
       "      cell.output_area.append_execute_result(NB_LOAD_WARNING)\n",
       "    }\n",
       "\n",
       "  }\n",
       "\n",
       "  if (root._bokeh_is_loading === 0) {\n",
       "    console.debug(\"Bokeh: BokehJS loaded, going straight to plotting\");\n",
       "    run_inline_js();\n",
       "  } else {\n",
       "    load_libs(css_urls, js_urls, function() {\n",
       "      console.debug(\"Bokeh: BokehJS plotting callback run at\", now());\n",
       "      run_inline_js();\n",
       "    });\n",
       "  }\n",
       "}(window));"
      ],
      "application/vnd.bokehjs_load.v0+json": "\n(function(root) {\n  function now() {\n    return new Date();\n  }\n\n  var force = true;\n\n  if (typeof root._bokeh_onload_callbacks === \"undefined\" || force === true) {\n    root._bokeh_onload_callbacks = [];\n    root._bokeh_is_loading = undefined;\n  }\n\n  \n\n  \n  if (typeof (root._bokeh_timeout) === \"undefined\" || force === true) {\n    root._bokeh_timeout = Date.now() + 5000;\n    root._bokeh_failed_load = false;\n  }\n\n  var NB_LOAD_WARNING = {'data': {'text/html':\n     \"<div style='background-color: #fdd'>\\n\"+\n     \"<p>\\n\"+\n     \"BokehJS does not appear to have successfully loaded. If loading BokehJS from CDN, this \\n\"+\n     \"may be due to a slow or bad network connection. Possible fixes:\\n\"+\n     \"</p>\\n\"+\n     \"<ul>\\n\"+\n     \"<li>re-rerun `output_notebook()` to attempt to load from CDN again, or</li>\\n\"+\n     \"<li>use INLINE resources instead, as so:</li>\\n\"+\n     \"</ul>\\n\"+\n     \"<code>\\n\"+\n     \"from bokeh.resources import INLINE\\n\"+\n     \"output_notebook(resources=INLINE)\\n\"+\n     \"</code>\\n\"+\n     \"</div>\"}};\n\n  function display_loaded() {\n    var el = document.getElementById(\"1001\");\n    if (el != null) {\n      el.textContent = \"BokehJS is loading...\";\n    }\n    if (root.Bokeh !== undefined) {\n      if (el != null) {\n        el.textContent = \"BokehJS \" + root.Bokeh.version + \" successfully loaded.\";\n      }\n    } else if (Date.now() < root._bokeh_timeout) {\n      setTimeout(display_loaded, 100)\n    }\n  }\n\n\n  function run_callbacks() {\n    try {\n      root._bokeh_onload_callbacks.forEach(function(callback) {\n        if (callback != null)\n          callback();\n      });\n    } finally {\n      delete root._bokeh_onload_callbacks\n    }\n    console.debug(\"Bokeh: all callbacks have finished\");\n  }\n\n  function load_libs(css_urls, js_urls, callback) {\n    if (css_urls == null) css_urls = [];\n    if (js_urls == null) js_urls = [];\n\n    root._bokeh_onload_callbacks.push(callback);\n    if (root._bokeh_is_loading > 0) {\n      console.debug(\"Bokeh: BokehJS is being loaded, scheduling callback at\", now());\n      return null;\n    }\n    if (js_urls == null || js_urls.length === 0) {\n      run_callbacks();\n      return null;\n    }\n    console.debug(\"Bokeh: BokehJS not loaded, scheduling load and callback at\", now());\n    root._bokeh_is_loading = css_urls.length + js_urls.length;\n\n    function on_load() {\n      root._bokeh_is_loading--;\n      if (root._bokeh_is_loading === 0) {\n        console.debug(\"Bokeh: all BokehJS libraries/stylesheets loaded\");\n        run_callbacks()\n      }\n    }\n\n    function on_error() {\n      console.error(\"failed to load \" + url);\n    }\n\n    for (var i = 0; i < css_urls.length; i++) {\n      var url = css_urls[i];\n      const element = document.createElement(\"link\");\n      element.onload = on_load;\n      element.onerror = on_error;\n      element.rel = \"stylesheet\";\n      element.type = \"text/css\";\n      element.href = url;\n      console.debug(\"Bokeh: injecting link tag for BokehJS stylesheet: \", url);\n      document.body.appendChild(element);\n    }\n\n    const hashes = {\"https://cdn.bokeh.org/bokeh/release/bokeh-2.2.3.min.js\": \"T2yuo9Oe71Cz/I4X9Ac5+gpEa5a8PpJCDlqKYO0CfAuEszu1JrXLl8YugMqYe3sM\", \"https://cdn.bokeh.org/bokeh/release/bokeh-widgets-2.2.3.min.js\": \"98GDGJ0kOMCUMUePhksaQ/GYgB3+NH9h996V88sh3aOiUNX3N+fLXAtry6xctSZ6\", \"https://cdn.bokeh.org/bokeh/release/bokeh-tables-2.2.3.min.js\": \"89bArO+nlbP3sgakeHjCo1JYxYR5wufVgA3IbUvDY+K7w4zyxJqssu7wVnfeKCq8\"};\n\n    for (var i = 0; i < js_urls.length; i++) {\n      var url = js_urls[i];\n      var element = document.createElement('script');\n      element.onload = on_load;\n      element.onerror = on_error;\n      element.async = false;\n      element.src = url;\n      if (url in hashes) {\n        element.crossOrigin = \"anonymous\";\n        element.integrity = \"sha384-\" + hashes[url];\n      }\n      console.debug(\"Bokeh: injecting script tag for BokehJS library: \", url);\n      document.head.appendChild(element);\n    }\n  };\n\n  function inject_raw_css(css) {\n    const element = document.createElement(\"style\");\n    element.appendChild(document.createTextNode(css));\n    document.body.appendChild(element);\n  }\n\n  \n  var js_urls = [\"https://cdn.bokeh.org/bokeh/release/bokeh-2.2.3.min.js\", \"https://cdn.bokeh.org/bokeh/release/bokeh-widgets-2.2.3.min.js\", \"https://cdn.bokeh.org/bokeh/release/bokeh-tables-2.2.3.min.js\"];\n  var css_urls = [];\n  \n\n  var inline_js = [\n    function(Bokeh) {\n      Bokeh.set_log_level(\"info\");\n    },\n    function(Bokeh) {\n    \n    \n    }\n  ];\n\n  function run_inline_js() {\n    \n    if (root.Bokeh !== undefined || force === true) {\n      \n    for (var i = 0; i < inline_js.length; i++) {\n      inline_js[i].call(root, root.Bokeh);\n    }\n    if (force === true) {\n        display_loaded();\n      }} else if (Date.now() < root._bokeh_timeout) {\n      setTimeout(run_inline_js, 100);\n    } else if (!root._bokeh_failed_load) {\n      console.log(\"Bokeh: BokehJS failed to load within specified timeout.\");\n      root._bokeh_failed_load = true;\n    } else if (force !== true) {\n      var cell = $(document.getElementById(\"1001\")).parents('.cell').data().cell;\n      cell.output_area.append_execute_result(NB_LOAD_WARNING)\n    }\n\n  }\n\n  if (root._bokeh_is_loading === 0) {\n    console.debug(\"Bokeh: BokehJS loaded, going straight to plotting\");\n    run_inline_js();\n  } else {\n    load_libs(css_urls, js_urls, function() {\n      console.debug(\"Bokeh: BokehJS plotting callback run at\", now());\n      run_inline_js();\n    });\n  }\n}(window));"
     },
     "metadata": {},
     "output_type": "display_data"
    }
   ],
   "source": [
    "from bokeh.io import output_notebook, show\n",
    "from bokeh.layouts import gridplot\n",
    "from bokeh.models import ColumnDataSource\n",
    "from bokeh.plotting import figure\n",
    "output_notebook()"
   ]
  },
  {
   "cell_type": "markdown",
   "metadata": {
    "papermill": {
     "duration": 0.012622,
     "end_time": "2022-08-27T15:07:20.278387",
     "exception": false,
     "start_time": "2022-08-27T15:07:20.265765",
     "status": "completed"
    },
    "tags": []
   },
   "source": [
    "## Distribution of True Labels of the Dataset  <a name=\"section1\"></a>\n",
    "\n",
    "In the following graph, you can check the histogram of the true (target) labels of your raw data. You can see if the distribution of the target labels for prediction are skewed (in case of regression) or imbalanced (in case of classification).\n",
    "\n",
    "* If the data for regression is skewed, you might want to reduce the skewness by taking the log or power transformation on the right-scewed or the left-scewed data respectively. Using the Python [NumPy](https://numpy.org/) library, you can simply apply [numpy.log](https://numpy.org/doc/stable/reference/generated/numpy.log.html?highlight=log#numpy.log) or [numpy.exp](https://numpy.org/doc/stable/reference/generated/numpy.exp.html?highlight=exp#numpy.exp) to your target values.\n",
    "* If the data for classification is imbalanced, you might want to improve your sample by collecting more data, resampling, or generating synthetic samples. This can also be mitigated at the step of evaluating performance metrics, such as Confusion Matrix, Precision, Recall, F-score, and Receiver Operating Characteristic curves.\n",
    "\n",
    "\n"
   ]
  },
  {
   "cell_type": "code",
   "execution_count": 9,
   "metadata": {
    "execution": {
     "iopub.execute_input": "2022-08-27T15:07:20.381538Z",
     "iopub.status.busy": "2022-08-27T15:07:20.380656Z",
     "iopub.status.idle": "2022-08-27T15:07:20.486348Z",
     "shell.execute_reply": "2022-08-27T15:07:20.485161Z"
    },
    "papermill": {
     "duration": 0.124483,
     "end_time": "2022-08-27T15:07:20.486537",
     "exception": false,
     "start_time": "2022-08-27T15:07:20.362054",
     "status": "completed"
    },
    "tags": [
     "hide-input"
    ]
   },
   "outputs": [
    {
     "data": {
      "text/html": [
       "\n",
       "\n",
       "\n",
       "\n",
       "\n",
       "\n",
       "  <div class=\"bk-root\" id=\"e8a910c9-1fe6-44be-87d2-05174295f6fa\" data-root-id=\"1003\"></div>\n"
      ]
     },
     "metadata": {},
     "output_type": "display_data"
    },
    {
     "data": {
      "application/javascript": [
       "(function(root) {\n",
       "  function embed_document(root) {\n",
       "    \n",
       "  var docs_json = {\"8bdc7f8e-b578-4dfa-9c57-b5fe27b1a1e7\":{\"roots\":{\"references\":[{\"attributes\":{\"below\":[{\"id\":\"1014\"}],\"center\":[{\"id\":\"1017\"},{\"id\":\"1021\"}],\"left\":[{\"id\":\"1018\"}],\"plot_height\":500,\"plot_width\":1000,\"renderers\":[{\"id\":\"1040\"}],\"title\":{\"id\":\"1004\"},\"toolbar\":{\"id\":\"1030\"},\"toolbar_location\":\"left\",\"x_range\":{\"id\":\"1006\"},\"x_scale\":{\"id\":\"1010\"},\"y_range\":{\"id\":\"1008\"},\"y_scale\":{\"id\":\"1012\"}},\"id\":\"1003\",\"subtype\":\"Figure\",\"type\":\"Plot\"},{\"attributes\":{},\"id\":\"1006\",\"type\":\"DataRange1d\"},{\"attributes\":{\"interval\":1},\"id\":\"1042\",\"type\":\"SingleIntervalTicker\"},{\"attributes\":{\"data_source\":{\"id\":\"1002\"},\"glyph\":{\"id\":\"1038\"},\"hover_glyph\":null,\"muted_glyph\":null,\"nonselection_glyph\":{\"id\":\"1039\"},\"selection_glyph\":null,\"view\":{\"id\":\"1041\"}},\"id\":\"1040\",\"type\":\"GlyphRenderer\"},{\"attributes\":{\"fill_alpha\":{\"value\":0.1},\"fill_color\":{\"value\":\"#1f77b4\"},\"line_alpha\":{\"value\":0.1},\"line_color\":{\"value\":\"#1f77b4\"},\"top\":{\"field\":\"label_count\"},\"width\":{\"value\":0.5},\"x\":{\"field\":\"label\"}},\"id\":\"1039\",\"type\":\"VBar\"},{\"attributes\":{\"bottom_units\":\"screen\",\"fill_alpha\":0.5,\"fill_color\":\"lightgrey\",\"left_units\":\"screen\",\"level\":\"overlay\",\"line_alpha\":1.0,\"line_color\":\"black\",\"line_dash\":[4,4],\"line_width\":2,\"right_units\":\"screen\",\"top_units\":\"screen\"},\"id\":\"1027\",\"type\":\"BoxAnnotation\"},{\"attributes\":{\"callback\":null,\"tooltips\":[[\"label\",\"@label\"],[\"count\",\"@label_count\"]]},\"id\":\"1029\",\"type\":\"HoverTool\"},{\"attributes\":{\"fill_alpha\":0.5,\"fill_color\":\"lightgrey\",\"level\":\"overlay\",\"line_alpha\":1.0,\"line_color\":\"black\",\"line_dash\":[4,4],\"line_width\":2,\"xs_units\":\"screen\",\"ys_units\":\"screen\"},\"id\":\"1028\",\"type\":\"PolyAnnotation\"},{\"attributes\":{},\"id\":\"1022\",\"type\":\"PanTool\"},{\"attributes\":{\"active_drag\":\"auto\",\"active_inspect\":\"auto\",\"active_multi\":null,\"active_scroll\":\"auto\",\"active_tap\":\"auto\",\"tools\":[{\"id\":\"1022\"},{\"id\":\"1023\"},{\"id\":\"1024\"},{\"id\":\"1025\"},{\"id\":\"1026\"},{\"id\":\"1029\"}]},\"id\":\"1030\",\"type\":\"Toolbar\"},{\"attributes\":{},\"id\":\"1023\",\"type\":\"WheelZoomTool\"},{\"attributes\":{},\"id\":\"1050\",\"type\":\"Selection\"},{\"attributes\":{},\"id\":\"1024\",\"type\":\"ResetTool\"},{\"attributes\":{\"axis\":{\"id\":\"1014\"},\"grid_line_color\":null,\"ticker\":null},\"id\":\"1017\",\"type\":\"Grid\"},{\"attributes\":{\"overlay\":{\"id\":\"1028\"}},\"id\":\"1025\",\"type\":\"PolySelectTool\"},{\"attributes\":{\"text\":\"Distribution Of True Labels In The Validation Dataset\"},\"id\":\"1004\",\"type\":\"Title\"},{\"attributes\":{\"overlay\":{\"id\":\"1027\"}},\"id\":\"1026\",\"type\":\"BoxZoomTool\"},{\"attributes\":{},\"id\":\"1047\",\"type\":\"BasicTickFormatter\"},{\"attributes\":{},\"id\":\"1051\",\"type\":\"UnionRenderers\"},{\"attributes\":{},\"id\":\"1012\",\"type\":\"LinearScale\"},{\"attributes\":{\"axis_label\":\"Count Of Samples Per Label\",\"formatter\":{\"id\":\"1047\"},\"ticker\":{\"id\":\"1019\"}},\"id\":\"1018\",\"type\":\"LinearAxis\"},{\"attributes\":{\"source\":{\"id\":\"1002\"}},\"id\":\"1041\",\"type\":\"CDSView\"},{\"attributes\":{},\"id\":\"1010\",\"type\":\"LinearScale\"},{\"attributes\":{\"axis_label\":\"Labels\",\"formatter\":{\"id\":\"1045\"},\"ticker\":{\"id\":\"1042\"}},\"id\":\"1014\",\"type\":\"LinearAxis\"},{\"attributes\":{},\"id\":\"1019\",\"type\":\"BasicTicker\"},{\"attributes\":{},\"id\":\"1045\",\"type\":\"BasicTickFormatter\"},{\"attributes\":{\"fill_color\":{\"value\":\"#1f77b4\"},\"line_color\":{\"value\":\"#1f77b4\"},\"top\":{\"field\":\"label_count\"},\"width\":{\"value\":0.5},\"x\":{\"field\":\"label\"}},\"id\":\"1038\",\"type\":\"VBar\"},{\"attributes\":{\"start\":0},\"id\":\"1008\",\"type\":\"DataRange1d\"},{\"attributes\":{\"data\":{\"label\":{\"__ndarray__\":\"AAAAAAAAgD8=\",\"dtype\":\"float32\",\"order\":\"little\",\"shape\":[2]},\"label_count\":[8610,1560]},\"selected\":{\"id\":\"1050\"},\"selection_policy\":{\"id\":\"1051\"}},\"id\":\"1002\",\"type\":\"ColumnDataSource\"},{\"attributes\":{\"axis\":{\"id\":\"1018\"},\"dimension\":1,\"ticker\":null},\"id\":\"1021\",\"type\":\"Grid\"}],\"root_ids\":[\"1003\"]},\"title\":\"Bokeh Application\",\"version\":\"2.2.3\"}};\n",
       "  var render_items = [{\"docid\":\"8bdc7f8e-b578-4dfa-9c57-b5fe27b1a1e7\",\"root_ids\":[\"1003\"],\"roots\":{\"1003\":\"e8a910c9-1fe6-44be-87d2-05174295f6fa\"}}];\n",
       "  root.Bokeh.embed.embed_items_notebook(docs_json, render_items);\n",
       "\n",
       "  }\n",
       "  if (root.Bokeh !== undefined) {\n",
       "    embed_document(root);\n",
       "  } else {\n",
       "    var attempts = 0;\n",
       "    var timer = setInterval(function(root) {\n",
       "      if (root.Bokeh !== undefined) {\n",
       "        clearInterval(timer);\n",
       "        embed_document(root);\n",
       "      } else {\n",
       "        attempts++;\n",
       "        if (attempts > 100) {\n",
       "          clearInterval(timer);\n",
       "          console.log(\"Bokeh: ERROR: Unable to run BokehJS code because BokehJS library is missing\");\n",
       "        }\n",
       "      }\n",
       "    }, 10, root)\n",
       "  }\n",
       "})(window);"
      ],
      "application/vnd.bokehjs_exec.v0+json": ""
     },
     "metadata": {
      "application/vnd.bokehjs_exec.v0+json": {
       "id": "1003"
      }
     },
     "output_type": "display_data"
    }
   ],
   "source": [
    "import numpy as np\n",
    "from bokeh.models.tickers import SingleIntervalTicker\n",
    "\n",
    "def plot_label_distribution():\n",
    "    labels = []\n",
    "    label_steps = trial.tensor('labels').steps()\n",
    "    for step in label_steps:\n",
    "        label = trial.tensor('labels').value(step)\n",
    "        if objective_metric in [\"binary:logistic\", \"multi:softmax\"]:\n",
    "            label = label.round()\n",
    "        labels.append(label)\n",
    "    \n",
    "    labels, label_counts = np.unique(labels, return_counts=True)\n",
    "    TOOLS=\"pan,wheel_zoom,reset,poly_select,box_zoom\"\n",
    "    TOOLTIPS = [\n",
    "        (\"label\", \"@label\"),\n",
    "        (\"count\", \"@label_count\"),\n",
    "    ]\n",
    "    source = ColumnDataSource(data=dict(label=labels, label_count=label_counts))\n",
    "    p = figure(\n",
    "        title=f\"Distribution Of True Labels In The Validation Dataset\",\n",
    "        toolbar_location=\"left\", \n",
    "        tools=TOOLS,\n",
    "        tooltips=TOOLTIPS,\n",
    "        plot_height=500,\n",
    "        plot_width=1000\n",
    "    )\n",
    "    p.vbar(x='label', top='label_count', source=source, width=0.5)\n",
    "    p.xgrid.grid_line_color = None\n",
    "    p.xaxis.axis_label = 'Labels'\n",
    "    p.yaxis.axis_label = 'Count Of Samples Per Label'\n",
    "    p.y_range.start = 0\n",
    "    p.xaxis.ticker = SingleIntervalTicker(interval=1)\n",
    "\n",
    "    show(p)\n",
    "    \n",
    "avail_steps = trial.steps()\n",
    "if \"labels\" in tensor_names and 'predictions' in tensor_names:\n",
    "    plot_label_distribution()\n",
    "else:\n",
    "    error_message = \"\\n\\\n",
    "    Labels and Predictions are missing in the debugger data output.\\n\\\n",
    "    Please check if labels and predictions are included in your Debugger Hook Config.\\n\\\n",
    "    \"\n",
    "    display(Markdown(error_message))"
   ]
  },
  {
   "cell_type": "markdown",
   "metadata": {
    "papermill": {
     "duration": 0.009102,
     "end_time": "2022-08-27T15:07:20.573816",
     "exception": false,
     "start_time": "2022-08-27T15:07:20.564714",
     "status": "completed"
    },
    "tags": []
   },
   "source": [
    "## Loss vs Step Graph <a name=\"section2\"></a> \n",
    "\n",
    "SageMaker Debugger automatically captures loss values of the [XGBoost Learning Task Parameters](https://xgboost.readthedocs.io/en/latest/parameter.html#learning-task-parameters).\n",
    "\n",
    "The loss curves provide the following insights.\n",
    "\n",
    "* An **underfitting** model *(high bias)* has high training error and high validation error. Underfitting means that your model is not converging while training, resulting in a generalization failure on both training and validation data sets.\n",
    "* An **overfitting** model *(high variance)* has extremely low training error but a high validation error. Overfitting happens when your model is trained too well to fit the noisy training data, resulting in negative impacts on your model performance on validation set.\n",
    "\n",
    "\n",
    "**Suggestions**:\n",
    "\n",
    "* If underfitting, the model is not suitable to your dataset, or the model parameters are not properly set up. You might want to consider:\n",
    "    * adding more features\n",
    "    * increasing the complexity of your model — increase the depth of each tree, `max_depth`\n",
    "    * tuning the hyperparameters — decrease the `gamma` and `eta` parameters \n",
    "    * decreasing regularization parameters — the `lambda` and `alpha` parameters\n",
    "    * or even training and comparing with other algorithms.\n",
    "* If overfitting, the model is too complex and trains to fit on the noisiness of the training set. You might want to consider:\n",
    "    * reducing the depth of each tree, max_depth\n",
    "    * increasing the min_child_weight parameter\n",
    "    * tuning the hyperparameters — increase the `gamma` and `eta` parameters\n",
    "    * increasing regularization parameters — the `lambda` and `alpha` parameters\n",
    "    * increasing the `subsample` and `colsample_bytree` parameters\n",
    "    * pruning a tree to remove the least significant feature — referring to the next sections where the feature importance scores are provided."
   ]
  },
  {
   "cell_type": "code",
   "execution_count": 10,
   "metadata": {
    "execution": {
     "iopub.execute_input": "2022-08-27T15:07:20.674000Z",
     "iopub.status.busy": "2022-08-27T15:07:20.673397Z",
     "iopub.status.idle": "2022-08-27T15:07:20.864792Z",
     "shell.execute_reply": "2022-08-27T15:07:20.865309Z"
    },
    "papermill": {
     "duration": 0.282869,
     "end_time": "2022-08-27T15:07:20.865464",
     "exception": false,
     "start_time": "2022-08-27T15:07:20.582595",
     "status": "completed"
    },
    "tags": [
     "hide-input"
    ]
   },
   "outputs": [
    {
     "data": {
      "text/html": [
       "\n",
       "\n",
       "\n",
       "\n",
       "\n",
       "\n",
       "  <div class=\"bk-root\" id=\"0ba74c14-cc06-4384-aeca-9681a48a59a0\" data-root-id=\"1092\"></div>\n"
      ]
     },
     "metadata": {},
     "output_type": "display_data"
    },
    {
     "data": {
      "application/javascript": [
       "(function(root) {\n",
       "  function embed_document(root) {\n",
       "    \n",
       "  var docs_json = {\"d1610341-131e-47ad-98f6-e965cfe2ccee\":{\"roots\":{\"references\":[{\"attributes\":{\"below\":[{\"id\":\"1103\"}],\"center\":[{\"id\":\"1106\"},{\"id\":\"1110\"},{\"id\":\"1141\"}],\"left\":[{\"id\":\"1107\"}],\"renderers\":[{\"id\":\"1130\"},{\"id\":\"1147\"}],\"title\":{\"id\":\"1093\"},\"toolbar\":{\"id\":\"1119\"},\"x_range\":{\"id\":\"1095\"},\"x_scale\":{\"id\":\"1099\"},\"y_range\":{\"id\":\"1097\"},\"y_scale\":{\"id\":\"1101\"}},\"id\":\"1092\",\"subtype\":\"Figure\",\"type\":\"Plot\"},{\"attributes\":{\"axis\":{\"id\":\"1107\"},\"dimension\":1,\"ticker\":null},\"id\":\"1110\",\"type\":\"Grid\"},{\"attributes\":{\"axis_label\":\"Steps\",\"formatter\":{\"id\":\"1134\"},\"ticker\":{\"id\":\"1104\"}},\"id\":\"1103\",\"type\":\"LinearAxis\"},{\"attributes\":{},\"id\":\"1139\",\"type\":\"Selection\"},{\"attributes\":{},\"id\":\"1101\",\"type\":\"LinearScale\"},{\"attributes\":{\"bottom_units\":\"screen\",\"fill_alpha\":0.5,\"fill_color\":\"lightgrey\",\"left_units\":\"screen\",\"level\":\"overlay\",\"line_alpha\":1.0,\"line_color\":\"black\",\"line_dash\":[4,4],\"line_width\":2,\"right_units\":\"screen\",\"top_units\":\"screen\"},\"id\":\"1116\",\"type\":\"BoxAnnotation\"},{\"attributes\":{},\"id\":\"1134\",\"type\":\"BasicTickFormatter\"},{\"attributes\":{\"data\":{\"error\":[{\"__ndarray__\":\"Zcix9Qzhwj8=\",\"dtype\":\"float64\",\"order\":\"little\",\"shape\":[1]},{\"__ndarray__\":\"jX3JxoMtwj8=\",\"dtype\":\"float64\",\"order\":\"little\",\"shape\":[1]},{\"__ndarray__\":\"eV2/YDdswT8=\",\"dtype\":\"float64\",\"order\":\"little\",\"shape\":[1]},{\"__ndarray__\":\"7kEIyJdQwT8=\",\"dtype\":\"float64\",\"order\":\"little\",\"shape\":[1]},{\"__ndarray__\":\"QWX8+4wLwT8=\",\"dtype\":\"float64\",\"order\":\"little\",\"shape\":[1]},{\"__ndarray__\":\"oRLXMa64wD8=\",\"dtype\":\"float64\",\"order\":\"little\",\"shape\":[1]},{\"__ndarray__\":\"cceb/BadwD8=\",\"dtype\":\"float64\",\"order\":\"little\",\"shape\":[1]},{\"__ndarray__\":\"r7Mh/8wgwD8=\",\"dtype\":\"float64\",\"order\":\"little\",\"shape\":[1]},{\"__ndarray__\":\"M/lmmxvTvz8=\",\"dtype\":\"float64\",\"order\":\"little\",\"shape\":[1]},{\"__ndarray__\":\"7na9NEWAvz8=\",\"dtype\":\"float64\",\"order\":\"little\",\"shape\":[1]}],\"step\":[0,5,10,15,20,25,30,35,40,45]},\"selected\":{\"id\":\"1139\"},\"selection_policy\":{\"id\":\"1140\"}},\"id\":\"1126\",\"type\":\"ColumnDataSource\"},{\"attributes\":{\"label\":{\"value\":\"train-error\"},\"renderers\":[{\"id\":\"1130\"}]},\"id\":\"1142\",\"type\":\"LegendItem\"},{\"attributes\":{\"fill_alpha\":0.5,\"fill_color\":\"lightgrey\",\"level\":\"overlay\",\"line_alpha\":1.0,\"line_color\":\"black\",\"line_dash\":[4,4],\"line_width\":2,\"xs_units\":\"screen\",\"ys_units\":\"screen\"},\"id\":\"1117\",\"type\":\"PolyAnnotation\"},{\"attributes\":{},\"id\":\"1111\",\"type\":\"PanTool\"},{\"attributes\":{\"active_drag\":\"auto\",\"active_inspect\":\"auto\",\"active_multi\":null,\"active_scroll\":\"auto\",\"active_tap\":\"auto\",\"tools\":[{\"id\":\"1111\"},{\"id\":\"1112\"},{\"id\":\"1113\"},{\"id\":\"1114\"},{\"id\":\"1115\"},{\"id\":\"1118\"}]},\"id\":\"1119\",\"type\":\"Toolbar\"},{\"attributes\":{},\"id\":\"1099\",\"type\":\"LinearScale\"},{\"attributes\":{\"dimensions\":\"width\"},\"id\":\"1112\",\"type\":\"WheelZoomTool\"},{\"attributes\":{\"overlay\":{\"id\":\"1116\"}},\"id\":\"1115\",\"type\":\"BoxSelectTool\"},{\"attributes\":{},\"id\":\"1113\",\"type\":\"ResetTool\"},{\"attributes\":{\"line_alpha\":0.1,\"line_color\":\"cornflowerblue\",\"line_width\":2,\"x\":{\"field\":\"step\"},\"y\":{\"field\":\"error\"}},\"id\":\"1129\",\"type\":\"Line\"},{\"attributes\":{},\"id\":\"1140\",\"type\":\"UnionRenderers\"},{\"attributes\":{\"axis\":{\"id\":\"1103\"},\"ticker\":null},\"id\":\"1106\",\"type\":\"Grid\"},{\"attributes\":{},\"id\":\"1136\",\"type\":\"BasicTickFormatter\"},{\"attributes\":{\"line_color\":\"cornflowerblue\",\"line_width\":2,\"x\":{\"field\":\"step\"},\"y\":{\"field\":\"error\"}},\"id\":\"1128\",\"type\":\"Line\"},{\"attributes\":{\"overlay\":{\"id\":\"1117\"}},\"id\":\"1114\",\"type\":\"PolySelectTool\"},{\"attributes\":{},\"id\":\"1108\",\"type\":\"BasicTicker\"},{\"attributes\":{\"line_alpha\":0.1,\"line_color\":\"tomato\",\"line_width\":2,\"x\":{\"field\":\"step\"},\"y\":{\"field\":\"error\"}},\"id\":\"1146\",\"type\":\"Line\"},{\"attributes\":{\"label\":{\"value\":\"validation-error\"},\"renderers\":[{\"id\":\"1147\"}]},\"id\":\"1160\",\"type\":\"LegendItem\"},{\"attributes\":{},\"id\":\"1159\",\"type\":\"UnionRenderers\"},{\"attributes\":{\"data_source\":{\"id\":\"1126\"},\"glyph\":{\"id\":\"1128\"},\"hover_glyph\":null,\"muted_glyph\":null,\"nonselection_glyph\":{\"id\":\"1129\"},\"selection_glyph\":null,\"view\":{\"id\":\"1131\"}},\"id\":\"1130\",\"type\":\"GlyphRenderer\"},{\"attributes\":{},\"id\":\"1104\",\"type\":\"BasicTicker\"},{\"attributes\":{\"line_color\":\"tomato\",\"line_width\":2,\"x\":{\"field\":\"step\"},\"y\":{\"field\":\"error\"}},\"id\":\"1145\",\"type\":\"Line\"},{\"attributes\":{\"source\":{\"id\":\"1126\"}},\"id\":\"1131\",\"type\":\"CDSView\"},{\"attributes\":{\"data_source\":{\"id\":\"1143\"},\"glyph\":{\"id\":\"1145\"},\"hover_glyph\":null,\"muted_glyph\":null,\"nonselection_glyph\":{\"id\":\"1146\"},\"selection_glyph\":null,\"view\":{\"id\":\"1148\"}},\"id\":\"1147\",\"type\":\"GlyphRenderer\"},{\"attributes\":{\"callback\":null,\"tooltips\":[[\"error\",\"@error\"],[\"step\",\"@step\"]]},\"id\":\"1118\",\"type\":\"HoverTool\"},{\"attributes\":{},\"id\":\"1158\",\"type\":\"Selection\"},{\"attributes\":{\"source\":{\"id\":\"1143\"}},\"id\":\"1148\",\"type\":\"CDSView\"},{\"attributes\":{},\"id\":\"1097\",\"type\":\"DataRange1d\"},{\"attributes\":{\"text\":\"Training and Validation Loss\"},\"id\":\"1093\",\"type\":\"Title\"},{\"attributes\":{\"data\":{\"error\":[{\"__ndarray__\":\"MuauJeSDxD8=\",\"dtype\":\"float64\",\"order\":\"little\",\"shape\":[1]},{\"__ndarray__\":\"Zcix9Qzhwj8=\",\"dtype\":\"float64\",\"order\":\"little\",\"shape\":[1]},{\"__ndarray__\":\"eei7W1miwz8=\",\"dtype\":\"float64\",\"order\":\"little\",\"shape\":[1]},{\"__ndarray__\":\"MuauJeSDxD8=\",\"dtype\":\"float64\",\"order\":\"little\",\"shape\":[1]},{\"__ndarray__\":\"seB+wAMDxD8=\",\"dtype\":\"float64\",\"order\":\"little\",\"shape\":[1]},{\"__ndarray__\":\"6NhBJa5jxD8=\",\"dtype\":\"float64\",\"order\":\"little\",\"shape\":[1]},{\"__ndarray__\":\"n8vUJHhDxD8=\",\"dtype\":\"float64\",\"order\":\"little\",\"shape\":[1]},{\"__ndarray__\":\"6NhBJa5jxD8=\",\"dtype\":\"float64\",\"order\":\"little\",\"shape\":[1]},{\"__ndarray__\":\"Z9MRwM3iwz8=\",\"dtype\":\"float64\",\"order\":\"little\",\"shape\":[1]},{\"__ndarray__\":\"+u3rwDkjxD8=\",\"dtype\":\"float64\",\"order\":\"little\",\"shape\":[1]}],\"step\":[0,5,10,15,20,25,30,35,40,45]},\"selected\":{\"id\":\"1158\"},\"selection_policy\":{\"id\":\"1159\"}},\"id\":\"1143\",\"type\":\"ColumnDataSource\"},{\"attributes\":{\"click_policy\":\"hide\",\"items\":[{\"id\":\"1142\"},{\"id\":\"1160\"}],\"location\":\"center_right\"},\"id\":\"1141\",\"type\":\"Legend\"},{\"attributes\":{},\"id\":\"1095\",\"type\":\"DataRange1d\"},{\"attributes\":{\"axis_label\":\"Loss (Error)\",\"formatter\":{\"id\":\"1136\"},\"ticker\":{\"id\":\"1108\"}},\"id\":\"1107\",\"type\":\"LinearAxis\"}],\"root_ids\":[\"1092\"]},\"title\":\"Bokeh Application\",\"version\":\"2.2.3\"}};\n",
       "  var render_items = [{\"docid\":\"d1610341-131e-47ad-98f6-e965cfe2ccee\",\"root_ids\":[\"1092\"],\"roots\":{\"1092\":\"0ba74c14-cc06-4384-aeca-9681a48a59a0\"}}];\n",
       "  root.Bokeh.embed.embed_items_notebook(docs_json, render_items);\n",
       "\n",
       "  }\n",
       "  if (root.Bokeh !== undefined) {\n",
       "    embed_document(root);\n",
       "  } else {\n",
       "    var attempts = 0;\n",
       "    var timer = setInterval(function(root) {\n",
       "      if (root.Bokeh !== undefined) {\n",
       "        clearInterval(timer);\n",
       "        embed_document(root);\n",
       "      } else {\n",
       "        attempts++;\n",
       "        if (attempts > 100) {\n",
       "          clearInterval(timer);\n",
       "          console.log(\"Bokeh: ERROR: Unable to run BokehJS code because BokehJS library is missing\");\n",
       "        }\n",
       "      }\n",
       "    }, 10, root)\n",
       "  }\n",
       "})(window);"
      ],
      "application/vnd.bokehjs_exec.v0+json": ""
     },
     "metadata": {
      "application/vnd.bokehjs_exec.v0+json": {
       "id": "1092"
      }
     },
     "output_type": "display_data"
    }
   ],
   "source": [
    "from bokeh.models import ColumnDataSource\n",
    "from bokeh.models import HoverTool\n",
    "import re\n",
    "\n",
    "\n",
    "def get_data(trial, tname):\n",
    "    \"\"\"\n",
    "    For the given tensor name, walks through all the iterations\n",
    "    for which you have data and fetches the values.\n",
    "    Returns the set of steps and the values.\n",
    "    \"\"\"\n",
    "    tensor = trial.tensor(tname)\n",
    "    steps = tensor.steps()\n",
    "    vals = [tensor.value(s) for s in steps]\n",
    "    return steps, vals\n",
    "\n",
    "def plot_evaluation_metrics():\n",
    "    collection_name = \"metrics\"\n",
    "    regex='.*'\n",
    "    tensors = trial.collection(collection_name).tensor_names\n",
    "    TOOLS=\"pan,xwheel_zoom,reset,poly_select,box_select\"    \n",
    "    TOOLTIPS = [\n",
    "        (\"error\", \"@error\"),\n",
    "        (\"step\", \"@step\"),\n",
    "    ]\n",
    "    p = figure(\n",
    "        tools=TOOLS, \n",
    "        title=\"Training and Validation Loss\", \n",
    "        tooltips=TOOLTIPS, \n",
    "        x_axis_label=\"Steps\", \n",
    "        y_axis_label=\"Loss (Error)\"\n",
    "    )\n",
    "    plots = []\n",
    "    colors = [\"tomato\", \"cornflowerblue\"]\n",
    "    for tensor_name in sorted(tensors):\n",
    "        if re.match(regex, tensor_name):\n",
    "            steps, data = get_data(trial, tensor_name)\n",
    "            source = ColumnDataSource(data=dict(step=steps, error=data))\n",
    "            p.line(\n",
    "                x='step',\n",
    "                y='error', \n",
    "                line_width=2, \n",
    "                source=source, \n",
    "                color=colors.pop(),\n",
    "                legend_label=f\"{tensor_name}\"\n",
    "            )\n",
    "            plots.append(p)\n",
    "    p.legend.location = \"center_right\"\n",
    "    p.legend.click_policy=\"hide\"\n",
    "\n",
    "    show(p)\n",
    "if len(trial.tensor_names(collection=\"metrics\")) > 0:    \n",
    "    plot_evaluation_metrics()\n",
    "else:\n",
    "    error_message = \"\\n\\\n",
    "    Metrics are missing in the debugger data output.\\n\\\n",
    "    Please check if metrics are included in your Debugger Hook Config.\\n\\\n",
    "    \"\n",
    "    display(Markdown(error_message))"
   ]
  },
  {
   "cell_type": "markdown",
   "metadata": {
    "papermill": {
     "duration": 0.01386,
     "end_time": "2022-08-27T15:07:20.889946",
     "exception": false,
     "start_time": "2022-08-27T15:07:20.876086",
     "status": "completed"
    },
    "tags": []
   },
   "source": [
    "## Feature Importance <a name=\"section3\"></a>\n",
    "\n",
    "Feature importance refers to techniques that assign scores to input features based on how useful they are at predicting a target variable.\n",
    "The supported importance types for XGBoost are:\n",
    "\n",
    "* **Weight** (or **Frequency**) is the percentage representing the relative number of times a particular feature occurs in the trees of the model.\n",
    "* **Gain** is the improvement in accuracy brought by a feature to the branches it is on. *The Gain is the most relevant attribute to interpret the relative importance of each feature.*\n",
    "* **Coverage** measures the relative quantity of observations concerned by a feature. "
   ]
  },
  {
   "cell_type": "code",
   "execution_count": 11,
   "metadata": {
    "execution": {
     "iopub.execute_input": "2022-08-27T15:07:20.982553Z",
     "iopub.status.busy": "2022-08-27T15:07:20.981653Z",
     "iopub.status.idle": "2022-08-27T15:07:20.983803Z",
     "shell.execute_reply": "2022-08-27T15:07:20.984179Z"
    },
    "papermill": {
     "duration": 0.022124,
     "end_time": "2022-08-27T15:07:20.984325",
     "exception": false,
     "start_time": "2022-08-27T15:07:20.962201",
     "status": "completed"
    },
    "tags": [
     "hide-input"
    ]
   },
   "outputs": [],
   "source": [
    "from bokeh.models import ColorBar\n",
    "from bokeh.palettes import Spectral6\n",
    "from bokeh.transform import factor_cmap\n",
    "from bokeh.models.mappers import CategoricalColorMapper\n",
    "\n",
    "def plot_feature_importance(importance_type=\"gain\"):\n",
    "    SUPPORTED_IMPORTANCE_TYPES = [\"weight\", \"gain\", \"cover\"]\n",
    "    if importance_type not in SUPPORTED_IMPORTANCE_TYPES:\n",
    "        raise ValueError(f\"{importance_type} is not one of the supported importance types.\")\n",
    "    feature_names = trial.tensor_names(regex=f\"feature_importance/{importance_type}/.*\")\n",
    "    if len(feature_names) == 0:\n",
    "        return None\n",
    "    last_step = trial.tensor(feature_names[0]).steps()[-1]\n",
    "    def sorter(f_name):\n",
    "        f_name = f_name.split('/')[-1]\n",
    "        return int(f_name[1:])\n",
    "    TOOLTIPS = [\n",
    "        (\"feature\", \"@feature\"),\n",
    "        (\"importance\", \"@importance\"),\n",
    "    ]\n",
    "\n",
    "    features = [tensor_name.split('/')[-1] for tensor_name in sorted(feature_names, key=sorter)]\n",
    "    importances = [trial.tensor(tensor_name).value(last_step)[0]*100 for tensor_name in sorted(feature_names, key=sorter)]\n",
    "    \n",
    "    source = ColumnDataSource(data=dict(feature=features, importance=importances))\n",
    "    plot_height = len(features)*25\n",
    "    y_max = max(importances)\n",
    "    p = figure(\n",
    "        y_range=features, \n",
    "        title=f\"Feature {importance_type}\",\n",
    "        toolbar_location=None,  \n",
    "        tooltips=TOOLTIPS,\n",
    "        plot_height=plot_height\n",
    "    )\n",
    "    p.hbar(height=0.5, y='feature', right='importance', source=source)\n",
    "    p.xgrid.grid_line_color = None\n",
    "    p.x_range.start = 0\n",
    "    p.x_range.end = round(1.10*y_max, 2) # x_range = 110% of y_max\n",
    "    p.xaxis.axis_label = 'Importance'\n",
    "    p.yaxis.axis_label = 'Feature'\n",
    "\n",
    "    show(p)\n"
   ]
  },
  {
   "cell_type": "code",
   "execution_count": 12,
   "metadata": {
    "execution": {
     "iopub.execute_input": "2022-08-27T15:07:21.079922Z",
     "iopub.status.busy": "2022-08-27T15:07:21.079403Z",
     "iopub.status.idle": "2022-08-27T15:07:21.382311Z",
     "shell.execute_reply": "2022-08-27T15:07:21.382741Z"
    },
    "papermill": {
     "duration": 0.318175,
     "end_time": "2022-08-27T15:07:21.382883",
     "exception": false,
     "start_time": "2022-08-27T15:07:21.064708",
     "status": "completed"
    },
    "tags": [
     "hide-input"
    ]
   },
   "outputs": [
    {
     "data": {
      "text/html": [
       "\n",
       "\n",
       "\n",
       "\n",
       "\n",
       "\n",
       "  <div class=\"bk-root\" id=\"472c2d44-b4dd-4172-a16b-583cf999d115\" data-root-id=\"1236\"></div>\n"
      ]
     },
     "metadata": {},
     "output_type": "display_data"
    },
    {
     "data": {
      "application/javascript": [
       "(function(root) {\n",
       "  function embed_document(root) {\n",
       "    \n",
       "  var docs_json = {\"9512cb3c-6e49-4d23-98a2-ed546f07b995\":{\"roots\":{\"references\":[{\"attributes\":{\"below\":[{\"id\":\"1247\"}],\"center\":[{\"id\":\"1250\"},{\"id\":\"1253\"}],\"left\":[{\"id\":\"1251\"}],\"plot_height\":250,\"renderers\":[{\"id\":\"1273\"}],\"title\":{\"id\":\"1237\"},\"toolbar\":{\"id\":\"1262\"},\"toolbar_location\":null,\"x_range\":{\"id\":\"1239\"},\"x_scale\":{\"id\":\"1243\"},\"y_range\":{\"id\":\"1241\"},\"y_scale\":{\"id\":\"1245\"}},\"id\":\"1236\",\"subtype\":\"Figure\",\"type\":\"Plot\"},{\"attributes\":{},\"id\":\"1243\",\"type\":\"LinearScale\"},{\"attributes\":{\"active_drag\":\"auto\",\"active_inspect\":\"auto\",\"active_multi\":null,\"active_scroll\":\"auto\",\"active_tap\":\"auto\",\"tools\":[{\"id\":\"1254\"},{\"id\":\"1255\"},{\"id\":\"1256\"},{\"id\":\"1257\"},{\"id\":\"1258\"},{\"id\":\"1259\"},{\"id\":\"1261\"}]},\"id\":\"1262\",\"type\":\"Toolbar\"},{\"attributes\":{\"overlay\":{\"id\":\"1260\"}},\"id\":\"1256\",\"type\":\"BoxZoomTool\"},{\"attributes\":{},\"id\":\"1296\",\"type\":\"BasicTickFormatter\"},{\"attributes\":{\"fill_color\":{\"value\":\"#1f77b4\"},\"height\":{\"value\":0.5},\"line_color\":{\"value\":\"#1f77b4\"},\"right\":{\"field\":\"importance\"},\"y\":{\"field\":\"feature\"}},\"id\":\"1271\",\"type\":\"HBar\"},{\"attributes\":{\"axis_label\":\"Feature\",\"formatter\":{\"id\":\"1298\"},\"ticker\":{\"id\":\"1252\"}},\"id\":\"1251\",\"type\":\"CategoricalAxis\"},{\"attributes\":{\"axis_label\":\"Importance\",\"formatter\":{\"id\":\"1296\"},\"ticker\":{\"id\":\"1248\"}},\"id\":\"1247\",\"type\":\"LinearAxis\"},{\"attributes\":{\"factors\":[\"f0\",\"f1\",\"f4\",\"f7\",\"f9\",\"f10\",\"f11\",\"f12\",\"f13\",\"f14\"]},\"id\":\"1241\",\"type\":\"FactorRange\"},{\"attributes\":{},\"id\":\"1259\",\"type\":\"HelpTool\"},{\"attributes\":{},\"id\":\"1248\",\"type\":\"BasicTicker\"},{\"attributes\":{},\"id\":\"1255\",\"type\":\"WheelZoomTool\"},{\"attributes\":{\"fill_alpha\":{\"value\":0.1},\"fill_color\":{\"value\":\"#1f77b4\"},\"height\":{\"value\":0.5},\"line_alpha\":{\"value\":0.1},\"line_color\":{\"value\":\"#1f77b4\"},\"right\":{\"field\":\"importance\"},\"y\":{\"field\":\"feature\"}},\"id\":\"1272\",\"type\":\"HBar\"},{\"attributes\":{},\"id\":\"1300\",\"type\":\"Selection\"},{\"attributes\":{},\"id\":\"1252\",\"type\":\"CategoricalTicker\"},{\"attributes\":{},\"id\":\"1257\",\"type\":\"SaveTool\"},{\"attributes\":{},\"id\":\"1298\",\"type\":\"CategoricalTickFormatter\"},{\"attributes\":{},\"id\":\"1245\",\"type\":\"CategoricalScale\"},{\"attributes\":{\"axis\":{\"id\":\"1247\"},\"grid_line_color\":null,\"ticker\":null},\"id\":\"1250\",\"type\":\"Grid\"},{\"attributes\":{\"end\":18.21,\"start\":0},\"id\":\"1239\",\"type\":\"DataRange1d\"},{\"attributes\":{\"data\":{\"feature\":[\"f0\",\"f1\",\"f4\",\"f7\",\"f9\",\"f10\",\"f11\",\"f12\",\"f13\",\"f14\"],\"importance\":[13.636363636363635,2.922077922077922,7.467532467532467,0.974025974025974,12.662337662337661,13.311688311688311,8.116883116883116,14.935064935064934,9.415584415584416,16.558441558441558]},\"selected\":{\"id\":\"1300\"},\"selection_policy\":{\"id\":\"1301\"}},\"id\":\"1235\",\"type\":\"ColumnDataSource\"},{\"attributes\":{\"bottom_units\":\"screen\",\"fill_alpha\":0.5,\"fill_color\":\"lightgrey\",\"left_units\":\"screen\",\"level\":\"overlay\",\"line_alpha\":1.0,\"line_color\":\"black\",\"line_dash\":[4,4],\"line_width\":2,\"right_units\":\"screen\",\"top_units\":\"screen\"},\"id\":\"1260\",\"type\":\"BoxAnnotation\"},{\"attributes\":{\"axis\":{\"id\":\"1251\"},\"dimension\":1,\"ticker\":null},\"id\":\"1253\",\"type\":\"Grid\"},{\"attributes\":{\"callback\":null,\"tooltips\":[[\"feature\",\"@feature\"],[\"importance\",\"@importance\"]]},\"id\":\"1261\",\"type\":\"HoverTool\"},{\"attributes\":{\"text\":\"Feature weight\"},\"id\":\"1237\",\"type\":\"Title\"},{\"attributes\":{},\"id\":\"1258\",\"type\":\"ResetTool\"},{\"attributes\":{\"source\":{\"id\":\"1235\"}},\"id\":\"1274\",\"type\":\"CDSView\"},{\"attributes\":{},\"id\":\"1254\",\"type\":\"PanTool\"},{\"attributes\":{},\"id\":\"1301\",\"type\":\"UnionRenderers\"},{\"attributes\":{\"data_source\":{\"id\":\"1235\"},\"glyph\":{\"id\":\"1271\"},\"hover_glyph\":null,\"muted_glyph\":null,\"nonselection_glyph\":{\"id\":\"1272\"},\"selection_glyph\":null,\"view\":{\"id\":\"1274\"}},\"id\":\"1273\",\"type\":\"GlyphRenderer\"}],\"root_ids\":[\"1236\"]},\"title\":\"Bokeh Application\",\"version\":\"2.2.3\"}};\n",
       "  var render_items = [{\"docid\":\"9512cb3c-6e49-4d23-98a2-ed546f07b995\",\"root_ids\":[\"1236\"],\"roots\":{\"1236\":\"472c2d44-b4dd-4172-a16b-583cf999d115\"}}];\n",
       "  root.Bokeh.embed.embed_items_notebook(docs_json, render_items);\n",
       "\n",
       "  }\n",
       "  if (root.Bokeh !== undefined) {\n",
       "    embed_document(root);\n",
       "  } else {\n",
       "    var attempts = 0;\n",
       "    var timer = setInterval(function(root) {\n",
       "      if (root.Bokeh !== undefined) {\n",
       "        clearInterval(timer);\n",
       "        embed_document(root);\n",
       "      } else {\n",
       "        attempts++;\n",
       "        if (attempts > 100) {\n",
       "          clearInterval(timer);\n",
       "          console.log(\"Bokeh: ERROR: Unable to run BokehJS code because BokehJS library is missing\");\n",
       "        }\n",
       "      }\n",
       "    }, 10, root)\n",
       "  }\n",
       "})(window);"
      ],
      "application/vnd.bokehjs_exec.v0+json": ""
     },
     "metadata": {
      "application/vnd.bokehjs_exec.v0+json": {
       "id": "1236"
      }
     },
     "output_type": "display_data"
    },
    {
     "data": {
      "text/html": [
       "\n",
       "\n",
       "\n",
       "\n",
       "\n",
       "\n",
       "  <div class=\"bk-root\" id=\"62e95e61-2358-43df-a9c4-e6a8e2df790c\" data-root-id=\"1343\"></div>\n"
      ]
     },
     "metadata": {},
     "output_type": "display_data"
    },
    {
     "data": {
      "application/javascript": [
       "(function(root) {\n",
       "  function embed_document(root) {\n",
       "    \n",
       "  var docs_json = {\"5e14b48d-6810-403f-b94b-cfbce0da5d8e\":{\"roots\":{\"references\":[{\"attributes\":{\"below\":[{\"id\":\"1354\"}],\"center\":[{\"id\":\"1357\"},{\"id\":\"1360\"}],\"left\":[{\"id\":\"1358\"}],\"plot_height\":250,\"renderers\":[{\"id\":\"1380\"}],\"title\":{\"id\":\"1344\"},\"toolbar\":{\"id\":\"1369\"},\"toolbar_location\":null,\"x_range\":{\"id\":\"1346\"},\"x_scale\":{\"id\":\"1350\"},\"y_range\":{\"id\":\"1348\"},\"y_scale\":{\"id\":\"1352\"}},\"id\":\"1343\",\"subtype\":\"Figure\",\"type\":\"Plot\"},{\"attributes\":{\"active_drag\":\"auto\",\"active_inspect\":\"auto\",\"active_multi\":null,\"active_scroll\":\"auto\",\"active_tap\":\"auto\",\"tools\":[{\"id\":\"1361\"},{\"id\":\"1362\"},{\"id\":\"1363\"},{\"id\":\"1364\"},{\"id\":\"1365\"},{\"id\":\"1366\"},{\"id\":\"1368\"}]},\"id\":\"1369\",\"type\":\"Toolbar\"},{\"attributes\":{\"overlay\":{\"id\":\"1367\"}},\"id\":\"1363\",\"type\":\"BoxZoomTool\"},{\"attributes\":{\"data\":{\"feature\":[\"f0\",\"f1\",\"f4\",\"f7\",\"f9\",\"f10\",\"f11\",\"f12\",\"f13\",\"f14\"],\"importance\":[14.085170235393019,7.973928615353683,11.178337577720265,8.974995074665099,8.69980904885085,11.283998094926623,8.846134155325263,9.000112928832966,9.645191993282252,10.312322275649963]},\"selected\":{\"id\":\"1415\"},\"selection_policy\":{\"id\":\"1416\"}},\"id\":\"1342\",\"type\":\"ColumnDataSource\"},{\"attributes\":{\"factors\":[\"f0\",\"f1\",\"f4\",\"f7\",\"f9\",\"f10\",\"f11\",\"f12\",\"f13\",\"f14\"]},\"id\":\"1348\",\"type\":\"FactorRange\"},{\"attributes\":{},\"id\":\"1359\",\"type\":\"CategoricalTicker\"},{\"attributes\":{},\"id\":\"1366\",\"type\":\"HelpTool\"},{\"attributes\":{\"fill_color\":{\"value\":\"#1f77b4\"},\"height\":{\"value\":0.5},\"line_color\":{\"value\":\"#1f77b4\"},\"right\":{\"field\":\"importance\"},\"y\":{\"field\":\"feature\"}},\"id\":\"1378\",\"type\":\"HBar\"},{\"attributes\":{\"source\":{\"id\":\"1342\"}},\"id\":\"1381\",\"type\":\"CDSView\"},{\"attributes\":{\"data_source\":{\"id\":\"1342\"},\"glyph\":{\"id\":\"1378\"},\"hover_glyph\":null,\"muted_glyph\":null,\"nonselection_glyph\":{\"id\":\"1379\"},\"selection_glyph\":null,\"view\":{\"id\":\"1381\"}},\"id\":\"1380\",\"type\":\"GlyphRenderer\"},{\"attributes\":{\"bottom_units\":\"screen\",\"fill_alpha\":0.5,\"fill_color\":\"lightgrey\",\"left_units\":\"screen\",\"level\":\"overlay\",\"line_alpha\":1.0,\"line_color\":\"black\",\"line_dash\":[4,4],\"line_width\":2,\"right_units\":\"screen\",\"top_units\":\"screen\"},\"id\":\"1367\",\"type\":\"BoxAnnotation\"},{\"attributes\":{},\"id\":\"1362\",\"type\":\"WheelZoomTool\"},{\"attributes\":{},\"id\":\"1361\",\"type\":\"PanTool\"},{\"attributes\":{\"axis\":{\"id\":\"1358\"},\"dimension\":1,\"ticker\":null},\"id\":\"1360\",\"type\":\"Grid\"},{\"attributes\":{\"axis_label\":\"Importance\",\"formatter\":{\"id\":\"1411\"},\"ticker\":{\"id\":\"1355\"}},\"id\":\"1354\",\"type\":\"LinearAxis\"},{\"attributes\":{},\"id\":\"1352\",\"type\":\"CategoricalScale\"},{\"attributes\":{},\"id\":\"1415\",\"type\":\"Selection\"},{\"attributes\":{\"callback\":null,\"tooltips\":[[\"feature\",\"@feature\"],[\"importance\",\"@importance\"]]},\"id\":\"1368\",\"type\":\"HoverTool\"},{\"attributes\":{},\"id\":\"1416\",\"type\":\"UnionRenderers\"},{\"attributes\":{\"end\":15.49,\"start\":0},\"id\":\"1346\",\"type\":\"DataRange1d\"},{\"attributes\":{\"fill_alpha\":{\"value\":0.1},\"fill_color\":{\"value\":\"#1f77b4\"},\"height\":{\"value\":0.5},\"line_alpha\":{\"value\":0.1},\"line_color\":{\"value\":\"#1f77b4\"},\"right\":{\"field\":\"importance\"},\"y\":{\"field\":\"feature\"}},\"id\":\"1379\",\"type\":\"HBar\"},{\"attributes\":{},\"id\":\"1364\",\"type\":\"SaveTool\"},{\"attributes\":{},\"id\":\"1355\",\"type\":\"BasicTicker\"},{\"attributes\":{},\"id\":\"1413\",\"type\":\"CategoricalTickFormatter\"},{\"attributes\":{},\"id\":\"1411\",\"type\":\"BasicTickFormatter\"},{\"attributes\":{\"axis_label\":\"Feature\",\"formatter\":{\"id\":\"1413\"},\"ticker\":{\"id\":\"1359\"}},\"id\":\"1358\",\"type\":\"CategoricalAxis\"},{\"attributes\":{},\"id\":\"1365\",\"type\":\"ResetTool\"},{\"attributes\":{\"text\":\"Feature gain\"},\"id\":\"1344\",\"type\":\"Title\"},{\"attributes\":{},\"id\":\"1350\",\"type\":\"LinearScale\"},{\"attributes\":{\"axis\":{\"id\":\"1354\"},\"grid_line_color\":null,\"ticker\":null},\"id\":\"1357\",\"type\":\"Grid\"}],\"root_ids\":[\"1343\"]},\"title\":\"Bokeh Application\",\"version\":\"2.2.3\"}};\n",
       "  var render_items = [{\"docid\":\"5e14b48d-6810-403f-b94b-cfbce0da5d8e\",\"root_ids\":[\"1343\"],\"roots\":{\"1343\":\"62e95e61-2358-43df-a9c4-e6a8e2df790c\"}}];\n",
       "  root.Bokeh.embed.embed_items_notebook(docs_json, render_items);\n",
       "\n",
       "  }\n",
       "  if (root.Bokeh !== undefined) {\n",
       "    embed_document(root);\n",
       "  } else {\n",
       "    var attempts = 0;\n",
       "    var timer = setInterval(function(root) {\n",
       "      if (root.Bokeh !== undefined) {\n",
       "        clearInterval(timer);\n",
       "        embed_document(root);\n",
       "      } else {\n",
       "        attempts++;\n",
       "        if (attempts > 100) {\n",
       "          clearInterval(timer);\n",
       "          console.log(\"Bokeh: ERROR: Unable to run BokehJS code because BokehJS library is missing\");\n",
       "        }\n",
       "      }\n",
       "    }, 10, root)\n",
       "  }\n",
       "})(window);"
      ],
      "application/vnd.bokehjs_exec.v0+json": ""
     },
     "metadata": {
      "application/vnd.bokehjs_exec.v0+json": {
       "id": "1343"
      }
     },
     "output_type": "display_data"
    },
    {
     "data": {
      "text/html": [
       "\n",
       "\n",
       "\n",
       "\n",
       "\n",
       "\n",
       "  <div class=\"bk-root\" id=\"9927e07f-99ca-4faf-bc74-691984a85b8d\" data-root-id=\"1458\"></div>\n"
      ]
     },
     "metadata": {},
     "output_type": "display_data"
    },
    {
     "data": {
      "application/javascript": [
       "(function(root) {\n",
       "  function embed_document(root) {\n",
       "    \n",
       "  var docs_json = {\"b419d595-81ca-4d74-93fa-f5afa07b53a1\":{\"roots\":{\"references\":[{\"attributes\":{\"below\":[{\"id\":\"1469\"}],\"center\":[{\"id\":\"1472\"},{\"id\":\"1475\"}],\"left\":[{\"id\":\"1473\"}],\"plot_height\":250,\"renderers\":[{\"id\":\"1495\"}],\"title\":{\"id\":\"1459\"},\"toolbar\":{\"id\":\"1484\"},\"toolbar_location\":null,\"x_range\":{\"id\":\"1461\"},\"x_scale\":{\"id\":\"1465\"},\"y_range\":{\"id\":\"1463\"},\"y_scale\":{\"id\":\"1467\"}},\"id\":\"1458\",\"subtype\":\"Figure\",\"type\":\"Plot\"},{\"attributes\":{\"data_source\":{\"id\":\"1457\"},\"glyph\":{\"id\":\"1493\"},\"hover_glyph\":null,\"muted_glyph\":null,\"nonselection_glyph\":{\"id\":\"1494\"},\"selection_glyph\":null,\"view\":{\"id\":\"1496\"}},\"id\":\"1495\",\"type\":\"GlyphRenderer\"},{\"attributes\":{\"bottom_units\":\"screen\",\"fill_alpha\":0.5,\"fill_color\":\"lightgrey\",\"left_units\":\"screen\",\"level\":\"overlay\",\"line_alpha\":1.0,\"line_color\":\"black\",\"line_dash\":[4,4],\"line_width\":2,\"right_units\":\"screen\",\"top_units\":\"screen\"},\"id\":\"1482\",\"type\":\"BoxAnnotation\"},{\"attributes\":{\"text\":\"Feature cover\"},\"id\":\"1459\",\"type\":\"Title\"},{\"attributes\":{\"axis_label\":\"Feature\",\"formatter\":{\"id\":\"1536\"},\"ticker\":{\"id\":\"1474\"}},\"id\":\"1473\",\"type\":\"CategoricalAxis\"},{\"attributes\":{\"fill_color\":{\"value\":\"#1f77b4\"},\"height\":{\"value\":0.5},\"line_color\":{\"value\":\"#1f77b4\"},\"right\":{\"field\":\"importance\"},\"y\":{\"field\":\"feature\"}},\"id\":\"1493\",\"type\":\"HBar\"},{\"attributes\":{},\"id\":\"1474\",\"type\":\"CategoricalTicker\"},{\"attributes\":{\"callback\":null,\"tooltips\":[[\"feature\",\"@feature\"],[\"importance\",\"@importance\"]]},\"id\":\"1483\",\"type\":\"HoverTool\"},{\"attributes\":{},\"id\":\"1539\",\"type\":\"UnionRenderers\"},{\"attributes\":{\"axis\":{\"id\":\"1469\"},\"grid_line_color\":null,\"ticker\":null},\"id\":\"1472\",\"type\":\"Grid\"},{\"attributes\":{},\"id\":\"1538\",\"type\":\"Selection\"},{\"attributes\":{\"axis_label\":\"Importance\",\"formatter\":{\"id\":\"1534\"},\"ticker\":{\"id\":\"1470\"}},\"id\":\"1469\",\"type\":\"LinearAxis\"},{\"attributes\":{},\"id\":\"1467\",\"type\":\"CategoricalScale\"},{\"attributes\":{\"factors\":[\"f0\",\"f1\",\"f4\",\"f7\",\"f9\",\"f10\",\"f11\",\"f12\",\"f13\",\"f14\"]},\"id\":\"1463\",\"type\":\"FactorRange\"},{\"attributes\":{},\"id\":\"1476\",\"type\":\"PanTool\"},{\"attributes\":{},\"id\":\"1465\",\"type\":\"LinearScale\"},{\"attributes\":{},\"id\":\"1470\",\"type\":\"BasicTicker\"},{\"attributes\":{\"active_drag\":\"auto\",\"active_inspect\":\"auto\",\"active_multi\":null,\"active_scroll\":\"auto\",\"active_tap\":\"auto\",\"tools\":[{\"id\":\"1476\"},{\"id\":\"1477\"},{\"id\":\"1478\"},{\"id\":\"1479\"},{\"id\":\"1480\"},{\"id\":\"1481\"},{\"id\":\"1483\"}]},\"id\":\"1484\",\"type\":\"Toolbar\"},{\"attributes\":{\"source\":{\"id\":\"1457\"}},\"id\":\"1496\",\"type\":\"CDSView\"},{\"attributes\":{},\"id\":\"1534\",\"type\":\"BasicTickFormatter\"},{\"attributes\":{\"data\":{\"feature\":[\"f0\",\"f1\",\"f4\",\"f7\",\"f9\",\"f10\",\"f11\",\"f12\",\"f13\",\"f14\"],\"importance\":[15.35893199639769,10.701779859822151,10.97233363473184,3.046183805367927,8.648972926668472,11.288821411665015,11.434516983732088,10.373115910358502,8.006395281840096,10.168948189416218]},\"selected\":{\"id\":\"1538\"},\"selection_policy\":{\"id\":\"1539\"}},\"id\":\"1457\",\"type\":\"ColumnDataSource\"},{\"attributes\":{\"overlay\":{\"id\":\"1482\"}},\"id\":\"1478\",\"type\":\"BoxZoomTool\"},{\"attributes\":{},\"id\":\"1477\",\"type\":\"WheelZoomTool\"},{\"attributes\":{},\"id\":\"1479\",\"type\":\"SaveTool\"},{\"attributes\":{},\"id\":\"1480\",\"type\":\"ResetTool\"},{\"attributes\":{},\"id\":\"1481\",\"type\":\"HelpTool\"},{\"attributes\":{\"fill_alpha\":{\"value\":0.1},\"fill_color\":{\"value\":\"#1f77b4\"},\"height\":{\"value\":0.5},\"line_alpha\":{\"value\":0.1},\"line_color\":{\"value\":\"#1f77b4\"},\"right\":{\"field\":\"importance\"},\"y\":{\"field\":\"feature\"}},\"id\":\"1494\",\"type\":\"HBar\"},{\"attributes\":{},\"id\":\"1536\",\"type\":\"CategoricalTickFormatter\"},{\"attributes\":{\"end\":16.89,\"start\":0},\"id\":\"1461\",\"type\":\"DataRange1d\"},{\"attributes\":{\"axis\":{\"id\":\"1473\"},\"dimension\":1,\"ticker\":null},\"id\":\"1475\",\"type\":\"Grid\"}],\"root_ids\":[\"1458\"]},\"title\":\"Bokeh Application\",\"version\":\"2.2.3\"}};\n",
       "  var render_items = [{\"docid\":\"b419d595-81ca-4d74-93fa-f5afa07b53a1\",\"root_ids\":[\"1458\"],\"roots\":{\"1458\":\"9927e07f-99ca-4faf-bc74-691984a85b8d\"}}];\n",
       "  root.Bokeh.embed.embed_items_notebook(docs_json, render_items);\n",
       "\n",
       "  }\n",
       "  if (root.Bokeh !== undefined) {\n",
       "    embed_document(root);\n",
       "  } else {\n",
       "    var attempts = 0;\n",
       "    var timer = setInterval(function(root) {\n",
       "      if (root.Bokeh !== undefined) {\n",
       "        clearInterval(timer);\n",
       "        embed_document(root);\n",
       "      } else {\n",
       "        attempts++;\n",
       "        if (attempts > 100) {\n",
       "          clearInterval(timer);\n",
       "          console.log(\"Bokeh: ERROR: Unable to run BokehJS code because BokehJS library is missing\");\n",
       "        }\n",
       "      }\n",
       "    }, 10, root)\n",
       "  }\n",
       "})(window);"
      ],
      "application/vnd.bokehjs_exec.v0+json": ""
     },
     "metadata": {
      "application/vnd.bokehjs_exec.v0+json": {
       "id": "1458"
      }
     },
     "output_type": "display_data"
    }
   ],
   "source": [
    "from bokeh.layouts import gridplot\n",
    "\n",
    "SUPPORTED_IMPORTANCE_TYPES = [\"weight\", \"gain\", \"cover\"]\n",
    "plots = []\n",
    "feature_names = trial.tensor_names(regex=f\"feature_importance/.*\")\n",
    "if len(feature_names) == 0:\n",
    "    heading = Markdown('### No feature importance was saved.\\n\\\n",
    "    - Check dataset sanity\\n\\\n",
    "    - Or if booster was not in [gbtree, dart]\\n\\\n",
    "    - Or if booster was None\\n\\\n",
    "    ')\n",
    "    display(heading)\n",
    "else:\n",
    "    for importance_type in SUPPORTED_IMPORTANCE_TYPES:\n",
    "        plot_feature_importance(importance_type=importance_type)\n",
    "\n"
   ]
  },
  {
   "cell_type": "code",
   "execution_count": 13,
   "metadata": {
    "execution": {
     "iopub.execute_input": "2022-08-27T15:07:21.471263Z",
     "iopub.status.busy": "2022-08-27T15:07:21.470732Z",
     "iopub.status.idle": "2022-08-27T15:07:21.475421Z",
     "shell.execute_reply": "2022-08-27T15:07:21.475787Z"
    },
    "papermill": {
     "duration": 0.083202,
     "end_time": "2022-08-27T15:07:21.475932",
     "exception": false,
     "start_time": "2022-08-27T15:07:21.392730",
     "status": "completed"
    },
    "tags": [
     "hide-input"
    ]
   },
   "outputs": [
    {
     "data": {
      "text/markdown": [
       "## Confusion Matrix <a name=\"section4\"></a>\n",
       "The following Confusion Matrix shows a breakdown of the classification results.\n",
       "* The cells on the principal diagonal shows the True Positive counts.\n",
       "* The off-diagonal cells count the number of misclassified predictions.\n"
      ],
      "text/plain": [
       "<IPython.core.display.Markdown object>"
      ]
     },
     "metadata": {},
     "output_type": "display_data"
    }
   ],
   "source": [
    "from IPython.display import display, Markdown\n",
    "\n",
    "s='## Confusion Matrix <a name=\"section4\"></a>\\n\\\n",
    "The following Confusion Matrix shows a breakdown of the classification results.\\n\\\n",
    "* The cells on the principal diagonal shows the True Positive counts.\\n\\\n",
    "* The off-diagonal cells count the number of misclassified predictions.\\n\\\n",
    "'\n",
    "\n",
    "if objective_metric in [\"binary:logistic\", \"multi:softmax\"]:\n",
    "    display(Markdown(s))"
   ]
  },
  {
   "cell_type": "code",
   "execution_count": 14,
   "metadata": {
    "execution": {
     "iopub.execute_input": "2022-08-27T15:07:21.579534Z",
     "iopub.status.busy": "2022-08-27T15:07:21.578661Z",
     "iopub.status.idle": "2022-08-27T15:07:23.997726Z",
     "shell.execute_reply": "2022-08-27T15:07:23.998133Z"
    },
    "papermill": {
     "duration": 2.512844,
     "end_time": "2022-08-27T15:07:23.998287",
     "exception": false,
     "start_time": "2022-08-27T15:07:21.485443",
     "status": "completed"
    },
    "tags": [
     "hide-input"
    ]
   },
   "outputs": [],
   "source": [
    "import numpy as np\n",
    "import matplotlib.pyplot as plt\n",
    "import seaborn as sns\n",
    "\n",
    "# Credits: https://github.com/DTrimarchi10/confusion_matrix\n",
    "def make_confusion_matrix(cf,\n",
    "                          group_names=None,\n",
    "                          categories='auto',\n",
    "                          count=True,\n",
    "                          percent=True,\n",
    "                          cbar=True,\n",
    "                          xyticks=True,\n",
    "                          xyplotlabels=True,\n",
    "                          sum_stats=True,\n",
    "                          figsize=None,\n",
    "                          cmap='Blues',\n",
    "                          title=None):\n",
    "    '''\n",
    "    This function will make a pretty plot of an sklearn Confusion Matrix cm using a Seaborn heatmap visualization.\n",
    "    Arguments\n",
    "    ---------\n",
    "    cf:            confusion matrix to be passed in\n",
    "    group_names:   List of strings that represent the labels row by row to be shown in each square.\n",
    "    categories:    List of strings containing the categories to be displayed on the x,y axis. Default is 'auto'\n",
    "    count:         If True, show the raw number in the confusion matrix. Default is True.\n",
    "    normalize:     If True, show the proportions for each category. Default is True.\n",
    "    cbar:          If True, show the color bar. The cbar values are based off the values in the confusion matrix.\n",
    "                   Default is True.\n",
    "    xyticks:       If True, show x and y ticks. Default is True.\n",
    "    xyplotlabels:  If True, show 'True Label' and 'Predicted Label' on the figure. Default is True.\n",
    "    sum_stats:     If True, display summary statistics below the figure. Default is True.\n",
    "    figsize:       Tuple representing the figure size. Default will be the matplotlib rcParams value.\n",
    "    cmap:          Colormap of the values displayed from matplotlib.pyplot.cm. Default is 'Blues'\n",
    "                   See http://matplotlib.org/examples/color/colormaps_reference.html\n",
    "                   \n",
    "    title:         Title for the heatmap. Default is None.\n",
    "    '''\n",
    "\n",
    "\n",
    "    # CODE TO GENERATE TEXT INSIDE EACH SQUARE\n",
    "    blanks = ['' for i in range(cf.size)]\n",
    "\n",
    "    if group_names and len(group_names)==cf.size:\n",
    "        group_labels = [\"{}\\n\".format(value) for value in group_names]\n",
    "    else:\n",
    "        group_labels = blanks\n",
    "\n",
    "    if count:\n",
    "        group_counts = [\"{0:0.0f}\\n\".format(value) for value in cf.flatten()]\n",
    "    else:\n",
    "        group_counts = blanks\n",
    "\n",
    "    if percent:\n",
    "        group_percentages = [\"{0:.2%}\".format(value) for value in cf.flatten()/np.sum(cf)]\n",
    "    else:\n",
    "        group_percentages = blanks\n",
    "\n",
    "    box_labels = [f\"{v1}{v2}{v3}\".strip() for v1, v2, v3 in zip(group_labels,group_counts,group_percentages)]\n",
    "    box_labels = np.asarray(box_labels).reshape(cf.shape[0],cf.shape[1])\n",
    "\n",
    "\n",
    "    # CODE TO GENERATE SUMMARY STATISTICS & TEXT FOR SUMMARY STATS\n",
    "    if sum_stats:\n",
    "        #Accuracy is sum of diagonal divided by total observations\n",
    "        accuracy  = np.trace(cf) / float(np.sum(cf))\n",
    "\n",
    "        #if it is a binary confusion matrix, show some more stats\n",
    "        if len(cf)==2:\n",
    "            #Metrics for Binary Confusion Matrices\n",
    "            precision = cf[1,1] / sum(cf[:,1])\n",
    "            recall    = cf[1,1] / sum(cf[1,:])\n",
    "            f1_score  = 2*precision*recall / (precision + recall)\n",
    "            stats_text = \"\\n\\nAccuracy={:0.3f}\\nPrecision={:0.3f}\\nRecall={:0.3f}\\nF1 Score={:0.3f}\".format(\n",
    "                accuracy,precision,recall,f1_score)\n",
    "        else:\n",
    "            stats_text = \"\\n\\nAccuracy={:0.3f}\".format(accuracy)\n",
    "    else:\n",
    "        stats_text = \"\"\n",
    "\n",
    "\n",
    "    # SET FIGURE PARAMETERS ACCORDING TO OTHER ARGUMENTS\n",
    "    if figsize==None:\n",
    "        #Get default figure size if not set\n",
    "        figsize = plt.rcParams.get('figure.figsize')\n",
    "\n",
    "    if xyticks==False:\n",
    "        #Do not show categories if xyticks is False\n",
    "        categories=False\n",
    "\n",
    "\n",
    "    # MAKE THE HEATMAP VISUALIZATION\n",
    "    plt.figure(figsize=figsize)\n",
    "    sns.heatmap(cf,annot=box_labels,fmt=\"\",cmap=cmap,cbar=cbar,xticklabels=categories,yticklabels=categories)\n",
    "\n",
    "    if xyplotlabels:\n",
    "        plt.ylabel('True label')\n",
    "        plt.xlabel('Predicted label' + stats_text)\n",
    "    else:\n",
    "        plt.xlabel(stats_text)\n",
    "    \n",
    "    if title:\n",
    "        plt.title(title)\n",
    "        \n"
   ]
  },
  {
   "cell_type": "code",
   "execution_count": 15,
   "metadata": {
    "execution": {
     "iopub.execute_input": "2022-08-27T15:07:24.082882Z",
     "iopub.status.busy": "2022-08-27T15:07:24.081702Z",
     "iopub.status.idle": "2022-08-27T15:07:25.076561Z",
     "shell.execute_reply": "2022-08-27T15:07:25.077005Z"
    },
    "papermill": {
     "duration": 1.013201,
     "end_time": "2022-08-27T15:07:25.077165",
     "exception": false,
     "start_time": "2022-08-27T15:07:24.063964",
     "status": "completed"
    },
    "tags": [
     "hide-input"
    ]
   },
   "outputs": [
    {
     "data": {
      "image/png": "[encoded data removed]",
      "text/plain": [
       "<Figure size 864x864 with 2 Axes>"
      ]
     },
     "metadata": {
      "needs_background": "light"
     },
     "output_type": "display_data"
    }
   ],
   "source": [
    "import numpy as np\n",
    "import matplotlib.pyplot as plt\n",
    "import math\n",
    "import seaborn as sns\n",
    "from sklearn.metrics import confusion_matrix, classification_report\n",
    "from IPython.display import display, clear_output, HTML\n",
    "from bokeh.models.mappers import LinearColorMapper\n",
    "\n",
    "\n",
    "def plot_confusion_for_one_step(trial, step, title, ax=None, normalize=False):\n",
    "    predictions = trial.tensor(\"predictions\").value(step).round()\n",
    "    labels = trial.tensor(\"labels\").value(step).round()\n",
    "    cm = confusion_matrix(\n",
    "        labels,\n",
    "        predictions,\n",
    "    )\n",
    "    num_classes = len(np.unique(labels))\n",
    "    fig_height = num_classes+10\n",
    "    make_confusion_matrix(cm, figsize=(fig_height,fig_height))\n",
    "\n",
    "\n",
    "obj_names_for_error_plots = [\"binary:logistic\", \"multi:softmax\"]\n",
    "\n",
    "\n",
    "if 'labels' in tensor_names and 'predictions' in tensor_names:\n",
    "    if objective_metric in obj_names_for_error_plots:\n",
    "        step = trial.steps()[-1]\n",
    "        plot_confusion_for_one_step(trial, step=step, title=\"Confusion Matrix\")\n",
    "else:\n",
    "    error_message = \"\\n\\\n",
    "    Labels and Predictions are missing in the debugger data output.\\n\\\n",
    "    Please check if labels and predictions are included in your Debugger Hook Config.\\n\\\n",
    "    \"\n",
    "    display(Markdown(error_message))\n"
   ]
  },
  {
   "cell_type": "code",
   "execution_count": 16,
   "metadata": {
    "execution": {
     "iopub.execute_input": "2022-08-27T15:07:25.168172Z",
     "iopub.status.busy": "2022-08-27T15:07:25.167372Z",
     "iopub.status.idle": "2022-08-27T15:07:25.170187Z",
     "shell.execute_reply": "2022-08-27T15:07:25.170615Z"
    },
    "papermill": {
     "duration": 0.083208,
     "end_time": "2022-08-27T15:07:25.170759",
     "exception": false,
     "start_time": "2022-08-27T15:07:25.087551",
     "status": "completed"
    },
    "tags": [
     "hide-input"
    ]
   },
   "outputs": [
    {
     "data": {
      "text/markdown": [
       "## Evaluation of the Confusion Matrix<a name=\"section4-1\"></a>\n",
       "The following statistics summary of the confusion matrix is provided using \n",
       "the [Scikit-learn Metrics and Scoring APIs](https://scikit-learn.org/stable/modules/model_evaluation.html).\n",
       "You can use the following score metrics to evaluate the performance of your model: \n",
       "accuracy, precision, recall, and F1-score.\n",
       "\n",
       "For more information, see the following Scikit-learn documentation:\n",
       "- [Accuracy Score](https://scikit-learn.org/stable/modules/generated/sklearn.metrics.accuracy_score.html)\n",
       "- [Precision Score](https://scikit-learn.org/stable/modules/generated/sklearn.metrics.precision_score.html#sklearn.metrics.precision_score)\n",
       "- [Recall Score](https://scikit-learn.org/stable/modules/generated/sklearn.metrics.recall_score.html#sklearn.metrics.recall_score)\n",
       "- [F1-Score](https://scikit-learn.org/stable/modules/generated/sklearn.metrics.f1_score.html#sklearn.metrics.f1_score)\n"
      ],
      "text/plain": [
       "<IPython.core.display.Markdown object>"
      ]
     },
     "metadata": {},
     "output_type": "display_data"
    }
   ],
   "source": [
    "from IPython.display import display, Markdown\n",
    "\n",
    "s='## Evaluation of the Confusion Matrix<a name=\"section4-1\"></a>\\n\\\n",
    "The following statistics summary of the confusion matrix is provided using \\n\\\n",
    "the [Scikit-learn Metrics and Scoring APIs](https://scikit-learn.org/stable/modules/model_evaluation.html).\\n\\\n",
    "You can use the following score metrics to evaluate the performance of your model: \\n\\\n",
    "accuracy, precision, recall, and F1-score.\\n\\\n",
    "\\n\\\n",
    "For more information, see the following Scikit-learn documentation:\\n\\\n",
    "- [Accuracy Score](https://scikit-learn.org/stable/modules/generated/sklearn.metrics.accuracy_score.html)\\n\\\n",
    "- [Precision Score](https://scikit-learn.org/stable/modules/generated/sklearn.metrics.precision_score.html#sklearn.metrics.precision_score)\\n\\\n",
    "- [Recall Score](https://scikit-learn.org/stable/modules/generated/sklearn.metrics.recall_score.html#sklearn.metrics.recall_score)\\n\\\n",
    "- [F1-Score](https://scikit-learn.org/stable/modules/generated/sklearn.metrics.f1_score.html#sklearn.metrics.f1_score)\\n\\\n",
    "'\n",
    "\n",
    "if objective_metric in [\"binary:logistic\", \"multi:softmax\"]:\n",
    "    display(Markdown(s))"
   ]
  },
  {
   "cell_type": "code",
   "execution_count": 17,
   "metadata": {
    "execution": {
     "iopub.execute_input": "2022-08-27T15:07:25.261971Z",
     "iopub.status.busy": "2022-08-27T15:07:25.261037Z",
     "iopub.status.idle": "2022-08-27T15:07:25.373102Z",
     "shell.execute_reply": "2022-08-27T15:07:25.372626Z"
    },
    "papermill": {
     "duration": 0.192663,
     "end_time": "2022-08-27T15:07:25.373231",
     "exception": false,
     "start_time": "2022-08-27T15:07:25.180568",
     "status": "completed"
    },
    "tags": [
     "hide-input"
    ]
   },
   "outputs": [
    {
     "data": {
      "text/markdown": [
       "**Overall Accuracy**\n",
       "        \n",
       "        Overall Accuracy: 0.843"
      ],
      "text/plain": [
       "<IPython.core.display.Markdown object>"
      ]
     },
     "metadata": {},
     "output_type": "display_data"
    },
    {
     "data": {
      "text/markdown": [
       "**Micro Performance Metrics**\n",
       "        \n",
       "        Performance metrics calculated globally by counting the total true positives, false negatives, and false positives.\n",
       "        \n",
       "        Micro Precision: 0.843\n",
       "        Micro Recall: 0.843\n",
       "        Micro F1-score: 0.843\n",
       "        "
      ],
      "text/plain": [
       "<IPython.core.display.Markdown object>"
      ]
     },
     "metadata": {},
     "output_type": "display_data"
    },
    {
     "data": {
      "text/markdown": [
       "**Macro Performance Metrics**\n",
       "        \n",
       "        Performance metrics calculated for each label, and find their unweighted mean. \n",
       "        This does not take the class imbalance problem into account.\n",
       "        \n",
       "        Macro Precision: 0.651\n",
       "        Macro Recall: 0.54\n",
       "        Macro F1-score: 0.54\n",
       "        "
      ],
      "text/plain": [
       "<IPython.core.display.Markdown object>"
      ]
     },
     "metadata": {},
     "output_type": "display_data"
    },
    {
     "data": {
      "text/markdown": [
       "**Weighted Performance Metrics**\n",
       "        \n",
       "        Performance metrics calculated for each label and their average weighted by support \n",
       "        (the number of true instances for each label). \n",
       "        This extends the macro option to take the class imbalance into account. \n",
       "        It might result in an F-score that is not between precision and recall. \n",
       "        \n",
       "        Weighted Precision: 0.794\n",
       "        Weighted Recall: 0.843\n",
       "        Weighted F1-score: 0.799\n",
       "        "
      ],
      "text/plain": [
       "<IPython.core.display.Markdown object>"
      ]
     },
     "metadata": {},
     "output_type": "display_data"
    },
    {
     "data": {
      "text/markdown": [
       "**Classification Report**\n",
       "            \n",
       "            The summary of the precision, recall, and F1-score for each class."
      ],
      "text/plain": [
       "<IPython.core.display.Markdown object>"
      ]
     },
     "metadata": {},
     "output_type": "display_data"
    },
    {
     "name": "stdout",
     "output_type": "stream",
     "text": [
      "              precision    recall  f1-score   support\n",
      "\n",
      "         0.0       0.86      0.98      0.91       861\n",
      "         1.0       0.44      0.10      0.17       156\n",
      "\n",
      "    accuracy                           0.84      1017\n",
      "   macro avg       0.65      0.54      0.54      1017\n",
      "weighted avg       0.79      0.84      0.80      1017\n",
      "\n"
     ]
    }
   ],
   "source": [
    "#importing accuracy_score, precision_score, recall_score, f1_score\n",
    "from sklearn.metrics import accuracy_score, precision_score, recall_score, f1_score\n",
    "\n",
    "obj_names_for_error_plots = [\"binary:logistic\", \"multi:softmax\"]\n",
    "\n",
    "if objective_metric in obj_names_for_error_plots:\n",
    "\n",
    "    y_test=trial.tensor(\"labels\").value(plot_step).round()\n",
    "    y_pred=trial.tensor(\"predictions\").value(plot_step).round()\n",
    "    display(Markdown(\n",
    "        '**Overall Accuracy**\\n\\\n",
    "        \\n\\\n",
    "        Overall Accuracy: '\n",
    "        +str(round(accuracy_score(y_test, y_pred),3))\n",
    "    ))\n",
    "    \n",
    "    display(Markdown(\n",
    "        '**Micro Performance Metrics**\\n\\\n",
    "        \\n\\\n",
    "        Performance metrics calculated globally by counting the total true positives, false negatives, and false positives.\\n\\\n",
    "        \\n\\\n",
    "        Micro Precision: '+str(round(precision_score(y_test, y_pred, average='micro'),3))+'\\n\\\n",
    "        Micro Recall: '+str(round(recall_score(y_test, y_pred, average='micro'),3))+'\\n\\\n",
    "        Micro F1-score: '+str(round(f1_score(y_test, y_pred, average='micro'),3))+'\\n\\\n",
    "        '\n",
    "    ))\n",
    "    \n",
    "    display(Markdown(\n",
    "        '**Macro Performance Metrics**\\n\\\n",
    "        \\n\\\n",
    "        Performance metrics calculated for each label, and find their unweighted mean. \\n\\\n",
    "        This does not take the class imbalance problem into account.\\n\\\n",
    "        \\n\\\n",
    "        Macro Precision: '+str(round(precision_score(y_test, y_pred, average='macro'),3))+'\\n\\\n",
    "        Macro Recall: '+str(round(recall_score(y_test, y_pred, average='macro'),3))+'\\n\\\n",
    "        Macro F1-score: '+str(round(f1_score(y_test, y_pred, average='macro'),3))+'\\n\\\n",
    "        '\n",
    "    ))\n",
    "    \n",
    "    display(Markdown(\n",
    "        '**Weighted Performance Metrics**\\n\\\n",
    "        \\n\\\n",
    "        Performance metrics calculated for each label and their average weighted by support \\n\\\n",
    "        (the number of true instances for each label). \\n\\\n",
    "        This extends the macro option to take the class imbalance into account. \\n\\\n",
    "        It might result in an F-score that is not between precision and recall. \\n\\\n",
    "        \\n\\\n",
    "        Weighted Precision: '+str(round(precision_score(y_test, y_pred, average='weighted'),3))+'\\n\\\n",
    "        Weighted Recall: '+str(round(recall_score(y_test, y_pred, average='weighted'),3))+'\\n\\\n",
    "        Weighted F1-score: '+str(round(f1_score(y_test, y_pred, average='weighted'),3))+'\\n\\\n",
    "        '\n",
    "    ))\n",
    "    \n",
    "    \n",
    "    from sklearn.metrics import classification_report\n",
    "    if 'labels' in tensor_names and 'predictions' in tensor_names:\n",
    "        display(Markdown(\n",
    "            '**Classification Report**\\n\\\n",
    "            \\n\\\n",
    "            The summary of the precision, recall, and F1-score for each class.'\n",
    "        ))\n",
    "        print(classification_report(y_test, y_pred))\n",
    "    else:\n",
    "        error_message = \"\\n\\\n",
    "        Labels and Predictions are missing in the debugger data output.\\n\\\n",
    "        Please check if labels and predictions are included in your Debugger Hook Config.\\n\\\n",
    "        \"\n",
    "        display(Markdown(error_message))"
   ]
  },
  {
   "cell_type": "code",
   "execution_count": 18,
   "metadata": {
    "execution": {
     "iopub.execute_input": "2022-08-27T15:07:25.472354Z",
     "iopub.status.busy": "2022-08-27T15:07:25.471645Z",
     "iopub.status.idle": "2022-08-27T15:07:25.474420Z",
     "shell.execute_reply": "2022-08-27T15:07:25.474907Z"
    },
    "papermill": {
     "duration": 0.091232,
     "end_time": "2022-08-27T15:07:25.475051",
     "exception": false,
     "start_time": "2022-08-27T15:07:25.383819",
     "status": "completed"
    },
    "tags": [
     "hide-input"
    ]
   },
   "outputs": [
    {
     "data": {
      "text/markdown": [
       "## Accuracy Rate of Each Diagonal Element over Iteration <a name=\"section4-2\"></a>\n",
       "The following graph shows the progression in accuracy rate of each class over iterations.\n",
       "- Each line is calculated by dividing the count of each diagonal element over the total population at validation steps captured by Debugger.\n",
       "- This plot provides visibility into the progression in the class-level accuracy, and you can evaluate which class is not well classified.\n",
       "If a certain class is under-performing, this might be, for example, due to the imbalanced class problem.\n",
       "It is recommended to see the first section, [The Distribution of True Labels of the Dataset](#section1),\n",
       "for more information about your data and suggested actions.\n"
      ],
      "text/plain": [
       "<IPython.core.display.Markdown object>"
      ]
     },
     "metadata": {},
     "output_type": "display_data"
    }
   ],
   "source": [
    "from IPython.display import display, Markdown\n",
    "\n",
    "s='## Accuracy Rate of Each Diagonal Element over Iteration <a name=\"section4-2\"></a>\\n\\\n",
    "\\\n",
    "The following graph shows the progression in accuracy rate of each class over iterations.\\n\\\n",
    "\\\n",
    "- Each line is calculated by dividing the count of each diagonal element over the total population at validation steps captured by Debugger.\\n\\\n",
    "- This plot provides visibility into the progression in the class-level accuracy, and you can evaluate which class is not well classified.\\n\\\n",
    "If a certain class is under-performing, this might be, for example, due to the imbalanced class problem.\\n\\\n",
    "It is recommended to see the first section, [The Distribution of True Labels of the Dataset](#section1),\\n\\\n",
    "for more information about your data and suggested actions.\\n\\\n",
    "'\n",
    "\n",
    "if objective_metric in [\"binary:logistic\", \"multi:softmax\"]:\n",
    "    display(Markdown(s))"
   ]
  },
  {
   "cell_type": "code",
   "execution_count": 19,
   "metadata": {
    "execution": {
     "iopub.execute_input": "2022-08-27T15:07:25.578399Z",
     "iopub.status.busy": "2022-08-27T15:07:25.576813Z",
     "iopub.status.idle": "2022-08-27T15:07:25.878040Z",
     "shell.execute_reply": "2022-08-27T15:07:25.877347Z"
    },
    "papermill": {
     "duration": 0.39256,
     "end_time": "2022-08-27T15:07:25.878161",
     "exception": false,
     "start_time": "2022-08-27T15:07:25.485601",
     "status": "completed"
    },
    "tags": [
     "hide-input"
    ]
   },
   "outputs": [
    {
     "data": {
      "text/html": [
       "\n",
       "\n",
       "\n",
       "\n",
       "\n",
       "\n",
       "  <div class=\"bk-root\" id=\"2ca7448d-fa03-452e-a322-e632e7210b84\" data-root-id=\"1580\"></div>\n"
      ]
     },
     "metadata": {},
     "output_type": "display_data"
    },
    {
     "data": {
      "application/javascript": [
       "(function(root) {\n",
       "  function embed_document(root) {\n",
       "    \n",
       "  var docs_json = {\"b6032079-d279-479c-9742-d46c2be7ce9c\":{\"roots\":{\"references\":[{\"attributes\":{\"below\":[{\"id\":\"1591\"}],\"center\":[{\"id\":\"1594\"},{\"id\":\"1598\"},{\"id\":\"1632\"}],\"left\":[{\"id\":\"1595\"}],\"plot_height\":500,\"plot_width\":1000,\"renderers\":[{\"id\":\"1620\"},{\"id\":\"1638\"},{\"id\":\"1657\"}],\"title\":{\"id\":\"1581\"},\"toolbar\":{\"id\":\"1609\"},\"toolbar_location\":\"left\",\"x_range\":{\"id\":\"1583\"},\"x_scale\":{\"id\":\"1587\"},\"y_range\":{\"id\":\"1585\"},\"y_scale\":{\"id\":\"1589\"}},\"id\":\"1580\",\"subtype\":\"Figure\",\"type\":\"Plot\"},{\"attributes\":{},\"id\":\"1599\",\"type\":\"PanTool\"},{\"attributes\":{\"line_alpha\":0.1,\"line_color\":\"rgb(216, 242, 111)\",\"line_width\":4,\"x\":{\"field\":\"steps\"},\"y\":{\"field\":\"stat\"}},\"id\":\"1656\",\"type\":\"Line\"},{\"attributes\":{\"label\":{\"value\":\"1\"},\"renderers\":[{\"id\":\"1657\"}]},\"id\":\"1673\",\"type\":\"LegendItem\"},{\"attributes\":{\"fill_alpha\":0.5,\"fill_color\":\"lightgrey\",\"level\":\"overlay\",\"line_alpha\":1.0,\"line_color\":\"black\",\"line_dash\":[4,4],\"line_width\":2,\"xs_units\":\"screen\",\"ys_units\":\"screen\"},\"id\":\"1607\",\"type\":\"PolyAnnotation\"},{\"attributes\":{\"start\":0},\"id\":\"1585\",\"type\":\"DataRange1d\"},{\"attributes\":{},\"id\":\"1600\",\"type\":\"WheelZoomTool\"},{\"attributes\":{},\"id\":\"1671\",\"type\":\"Selection\"},{\"attributes\":{},\"id\":\"1624\",\"type\":\"BasicTickFormatter\"},{\"attributes\":{},\"id\":\"1583\",\"type\":\"DataRange1d\"},{\"attributes\":{},\"id\":\"1601\",\"type\":\"ResetTool\"},{\"attributes\":{},\"id\":\"1626\",\"type\":\"BasicTickFormatter\"},{\"attributes\":{\"data\":{},\"selected\":{\"id\":\"1630\"},\"selection_policy\":{\"id\":\"1631\"}},\"id\":\"1617\",\"type\":\"ColumnDataSource\"},{\"attributes\":{\"bottom_units\":\"screen\",\"fill_alpha\":0.5,\"fill_color\":\"lightgrey\",\"left_units\":\"screen\",\"level\":\"overlay\",\"line_alpha\":1.0,\"line_color\":\"black\",\"line_dash\":[4,4],\"line_width\":2,\"right_units\":\"screen\",\"top_units\":\"screen\"},\"id\":\"1605\",\"type\":\"BoxAnnotation\"},{\"attributes\":{},\"id\":\"1672\",\"type\":\"UnionRenderers\"},{\"attributes\":{\"overlay\":{\"id\":\"1607\"}},\"id\":\"1602\",\"type\":\"PolySelectTool\"},{\"attributes\":{\"data\":{\"stat\":[0.9825783972125436,0.9976771196283392,0.9907084785133565,0.9825783972125436,0.9860627177700348,0.9825783972125436,0.9802555168408827,0.9779326364692218,0.9802555168408827,0.9767711962833914],\"steps\":[0,5,10,15,20,25,30,35,40,45]},\"selected\":{\"id\":\"1650\"},\"selection_policy\":{\"id\":\"1651\"}},\"id\":\"1634\",\"type\":\"ColumnDataSource\"},{\"attributes\":{\"active_drag\":\"auto\",\"active_inspect\":\"auto\",\"active_multi\":null,\"active_scroll\":\"auto\",\"active_tap\":\"auto\",\"tools\":[{\"id\":\"1599\"},{\"id\":\"1600\"},{\"id\":\"1601\"},{\"id\":\"1602\"},{\"id\":\"1603\"},{\"id\":\"1604\"},{\"id\":\"1608\"}]},\"id\":\"1609\",\"type\":\"Toolbar\"},{\"attributes\":{\"click_policy\":\"hide\",\"items\":[{\"id\":\"1633\"},{\"id\":\"1652\"},{\"id\":\"1673\"}],\"location\":\"center_right\"},\"id\":\"1632\",\"type\":\"Legend\"},{\"attributes\":{\"overlay\":{\"id\":\"1605\"}},\"id\":\"1603\",\"type\":\"BoxSelectTool\"},{\"attributes\":{},\"id\":\"1587\",\"type\":\"LinearScale\"},{\"attributes\":{\"label\":{\"value\":\"0\"},\"renderers\":[{\"id\":\"1638\"}]},\"id\":\"1652\",\"type\":\"LegendItem\"},{\"attributes\":{},\"id\":\"1630\",\"type\":\"Selection\"},{\"attributes\":{\"overlay\":{\"id\":\"1606\"}},\"id\":\"1604\",\"type\":\"BoxZoomTool\"},{\"attributes\":{\"fill_color\":{\"value\":\"#ffffff\"},\"line_color\":{\"value\":\"#ffffff\"},\"size\":{\"units\":\"screen\",\"value\":1e-08},\"x\":{\"value\":0},\"y\":{\"value\":0}},\"id\":\"1618\",\"type\":\"Circle\"},{\"attributes\":{},\"id\":\"1631\",\"type\":\"UnionRenderers\"},{\"attributes\":{},\"id\":\"1589\",\"type\":\"LinearScale\"},{\"attributes\":{\"bottom_units\":\"screen\",\"fill_alpha\":0.5,\"fill_color\":\"lightgrey\",\"left_units\":\"screen\",\"level\":\"overlay\",\"line_alpha\":1.0,\"line_color\":\"black\",\"line_dash\":[4,4],\"line_width\":2,\"right_units\":\"screen\",\"top_units\":\"screen\"},\"id\":\"1606\",\"type\":\"BoxAnnotation\"},{\"attributes\":{},\"id\":\"1651\",\"type\":\"UnionRenderers\"},{\"attributes\":{\"line_alpha\":0.1,\"line_color\":\"rgb(178, 15, 153)\",\"line_width\":4,\"x\":{\"field\":\"steps\"},\"y\":{\"field\":\"stat\"}},\"id\":\"1637\",\"type\":\"Line\"},{\"attributes\":{\"line_color\":\"rgb(178, 15, 153)\",\"line_width\":4,\"x\":{\"field\":\"steps\"},\"y\":{\"field\":\"stat\"}},\"id\":\"1636\",\"type\":\"Line\"},{\"attributes\":{\"axis_label\":\"Iteration\",\"formatter\":{\"id\":\"1624\"},\"ticker\":{\"id\":\"1592\"}},\"id\":\"1591\",\"type\":\"LinearAxis\"},{\"attributes\":{\"data_source\":{\"id\":\"1617\"},\"glyph\":{\"id\":\"1618\"},\"hover_glyph\":null,\"muted_glyph\":null,\"nonselection_glyph\":{\"id\":\"1619\"},\"selection_glyph\":null,\"view\":{\"id\":\"1621\"}},\"id\":\"1620\",\"type\":\"GlyphRenderer\"},{\"attributes\":{},\"id\":\"1650\",\"type\":\"Selection\"},{\"attributes\":{\"fill_alpha\":{\"value\":0.1},\"fill_color\":{\"value\":\"#ffffff\"},\"line_alpha\":{\"value\":0.1},\"line_color\":{\"value\":\"#ffffff\"},\"size\":{\"units\":\"screen\",\"value\":1e-08},\"x\":{\"value\":0},\"y\":{\"value\":0}},\"id\":\"1619\",\"type\":\"Circle\"},{\"attributes\":{},\"id\":\"1592\",\"type\":\"BasicTicker\"},{\"attributes\":{\"data\":{\"stat\":[0.05128205128205128,0.05128205128205128,0.05128205128205128,0.05128205128205128,0.057692307692307696,0.057692307692307696,0.07692307692307693,0.08333333333333333,0.09615384615384616,0.10256410256410256],\"steps\":[0,5,10,15,20,25,30,35,40,45]},\"selected\":{\"id\":\"1671\"},\"selection_policy\":{\"id\":\"1672\"}},\"id\":\"1653\",\"type\":\"ColumnDataSource\"},{\"attributes\":{},\"id\":\"1596\",\"type\":\"BasicTicker\"},{\"attributes\":{\"source\":{\"id\":\"1634\"}},\"id\":\"1639\",\"type\":\"CDSView\"},{\"attributes\":{\"axis\":{\"id\":\"1595\"},\"dimension\":1,\"ticker\":null},\"id\":\"1598\",\"type\":\"Grid\"},{\"attributes\":{\"axis_label\":\"Accuracy\",\"formatter\":{\"id\":\"1626\"},\"ticker\":{\"id\":\"1596\"}},\"id\":\"1595\",\"type\":\"LinearAxis\"},{\"attributes\":{\"text\":\"Accuracy Rate of Each Diagonal Element over Iteration\"},\"id\":\"1581\",\"type\":\"Title\"},{\"attributes\":{\"data_source\":{\"id\":\"1634\"},\"glyph\":{\"id\":\"1636\"},\"hover_glyph\":null,\"muted_glyph\":null,\"name\":\"0\",\"nonselection_glyph\":{\"id\":\"1637\"},\"selection_glyph\":null,\"view\":{\"id\":\"1639\"}},\"id\":\"1638\",\"type\":\"GlyphRenderer\"},{\"attributes\":{\"line_color\":\"rgb(216, 242, 111)\",\"line_width\":4,\"x\":{\"field\":\"steps\"},\"y\":{\"field\":\"stat\"}},\"id\":\"1655\",\"type\":\"Line\"},{\"attributes\":{\"label\":{\"value\":\"Class Names\"},\"renderers\":[{\"id\":\"1620\"}]},\"id\":\"1633\",\"type\":\"LegendItem\"},{\"attributes\":{\"source\":{\"id\":\"1653\"}},\"id\":\"1658\",\"type\":\"CDSView\"},{\"attributes\":{\"axis\":{\"id\":\"1591\"},\"grid_line_color\":null,\"ticker\":null},\"id\":\"1594\",\"type\":\"Grid\"},{\"attributes\":{\"source\":{\"id\":\"1617\"}},\"id\":\"1621\",\"type\":\"CDSView\"},{\"attributes\":{\"data_source\":{\"id\":\"1653\"},\"glyph\":{\"id\":\"1655\"},\"hover_glyph\":null,\"muted_glyph\":null,\"name\":\"1\",\"nonselection_glyph\":{\"id\":\"1656\"},\"selection_glyph\":null,\"view\":{\"id\":\"1658\"}},\"id\":\"1657\",\"type\":\"GlyphRenderer\"},{\"attributes\":{\"callback\":null,\"tooltips\":[[\"step\",\"@steps\"],[\"accuracy\",\"@stat\"]]},\"id\":\"1608\",\"type\":\"HoverTool\"}],\"root_ids\":[\"1580\"]},\"title\":\"Bokeh Application\",\"version\":\"2.2.3\"}};\n",
       "  var render_items = [{\"docid\":\"b6032079-d279-479c-9742-d46c2be7ce9c\",\"root_ids\":[\"1580\"],\"roots\":{\"1580\":\"2ca7448d-fa03-452e-a322-e632e7210b84\"}}];\n",
       "  root.Bokeh.embed.embed_items_notebook(docs_json, render_items);\n",
       "\n",
       "  }\n",
       "  if (root.Bokeh !== undefined) {\n",
       "    embed_document(root);\n",
       "  } else {\n",
       "    var attempts = 0;\n",
       "    var timer = setInterval(function(root) {\n",
       "      if (root.Bokeh !== undefined) {\n",
       "        clearInterval(timer);\n",
       "        embed_document(root);\n",
       "      } else {\n",
       "        attempts++;\n",
       "        if (attempts > 100) {\n",
       "          clearInterval(timer);\n",
       "          console.log(\"Bokeh: ERROR: Unable to run BokehJS code because BokehJS library is missing\");\n",
       "        }\n",
       "      }\n",
       "    }, 10, root)\n",
       "  }\n",
       "})(window);"
      ],
      "application/vnd.bokehjs_exec.v0+json": ""
     },
     "metadata": {
      "application/vnd.bokehjs_exec.v0+json": {
       "id": "1580"
      }
     },
     "output_type": "display_data"
    }
   ],
   "source": [
    "from collections import defaultdict\n",
    "from scipy import stats\n",
    "from bokeh.models.tickers import SingleIntervalTicker\n",
    "import random\n",
    "import numpy as np\n",
    "from sklearn.metrics import confusion_matrix\n",
    "\n",
    "\n",
    "def color_gen():\n",
    "    co=(round(random.random()*250),round(random.random()*250),round(random.random()*250))\n",
    "    return co\n",
    "def plot_accuracy_rate():\n",
    "    class_to_accuracy_map = defaultdict(list)\n",
    "    label_steps = trial.tensor('labels').steps()\n",
    "    pred_steps = trial.tensor('predictions').steps()\n",
    "    validation_steps = sorted(list(set(label_steps).intersection(set(pred_steps))))\n",
    "    for step in validation_steps:\n",
    "        predictions = trial.tensor(\"predictions\").value(step).round()\n",
    "        labels = trial.tensor(\"labels\").value(step).round()\n",
    "        cm = confusion_matrix(\n",
    "            labels,\n",
    "            predictions\n",
    "        )\n",
    "        cm = cm.astype('float') / cm.sum(axis=1)[:, np.newaxis]\n",
    "        for class_ in range(len(cm)):\n",
    "            class_to_accuracy_map[class_].append(cm[class_][class_])\n",
    "\n",
    "    TOOLS=\"pan,wheel_zoom,reset,poly_select,box_select,box_zoom\"\n",
    "    TOOLTIPS = [\n",
    "        (\"step\", \"@steps\"),\n",
    "        (\"accuracy\", \"@stat\"),\n",
    "    ] \n",
    "    bin_names = []\n",
    "    data_list = []\n",
    "    p = figure( \n",
    "        title=f\"Accuracy Rate of Each Diagonal Element over Iteration\",\n",
    "        toolbar_location=\"left\", \n",
    "        tools=TOOLS,\n",
    "        tooltips=TOOLTIPS,\n",
    "        plot_height=500,\n",
    "        plot_width=1000\n",
    "    )\n",
    "    p.circle(0, 0, size=0.00000001, color= \"#ffffff\", legend_label=\"Class Names\")\n",
    "    for class_ in class_to_accuracy_map:\n",
    "        source = ColumnDataSource(\n",
    "            data=dict(\n",
    "                steps=validation_steps, \n",
    "                stat=class_to_accuracy_map[class_]\n",
    "            )\n",
    "        )\n",
    "        p.line(\n",
    "            'steps', \n",
    "            'stat', \n",
    "            name=str(class_), \n",
    "            color=color_gen(), \n",
    "            line_width=4,\n",
    "            source=source, \n",
    "            legend_label=str(class_)\n",
    "        )\n",
    "    p.legend.location = \"center_right\"\n",
    "    p.legend.click_policy=\"hide\"\n",
    "    p.xgrid.grid_line_color = None\n",
    "    p.xaxis.axis_label = 'Iteration'\n",
    "    p.yaxis.axis_label = 'Accuracy'\n",
    "    p.y_range.start = 0\n",
    "\n",
    "    show(p)\n",
    "\n",
    "avail_steps = trial.steps()\n",
    "obj_names_for_error_plots = [\"binary:logistic\", \"multi:softmax\"]\n",
    "if objective_metric in obj_names_for_error_plots:\n",
    "    if 'labels' in tensor_names and 'predictions' in tensor_names:\n",
    "        plot_accuracy_rate()\n",
    "    else:\n",
    "        error_message = \"\\n\\\n",
    "        Labels and Predictions are missing in the debugger data output.\\n\\\n",
    "        Please check if labels and predictions are included in your Debugger Hook Config.\\n\\\n",
    "        \"\n",
    "        display(Markdown(error_message))"
   ]
  },
  {
   "cell_type": "code",
   "execution_count": 20,
   "metadata": {
    "execution": {
     "iopub.execute_input": "2022-08-27T15:07:25.983122Z",
     "iopub.status.busy": "2022-08-27T15:07:25.982571Z",
     "iopub.status.idle": "2022-08-27T15:07:26.061761Z",
     "shell.execute_reply": "2022-08-27T15:07:26.061235Z"
    },
    "papermill": {
     "duration": 0.09553,
     "end_time": "2022-08-27T15:07:26.061887",
     "exception": false,
     "start_time": "2022-08-27T15:07:25.966357",
     "status": "completed"
    },
    "tags": [
     "hide-input"
    ]
   },
   "outputs": [
    {
     "data": {
      "text/markdown": [
       "## Receiver Operating Characteristic Curve <a name=\"section5\"></a>\n",
       "\n",
       "The *Receiver Operating Characteristic* curve shows the performance of binary classification.\n",
       "\n",
       "* It measures the ratio of TPR over FPR, and the **Area Under Curve** (AUC) approaches to 1 as the model performance improves. The lowest AUC value is 0.5 (the area under the line of no-discrimination). \n",
       "* If the AUC value is less than 0.6, it means that your model significantly under-performs. Consider improving your data, tuning the model parameters, pruning the trees, or trying other classifiers.\n",
       "\n"
      ],
      "text/plain": [
       "<IPython.core.display.Markdown object>"
      ]
     },
     "metadata": {},
     "output_type": "display_data"
    }
   ],
   "source": [
    "from IPython.display import display, Markdown\n",
    "\n",
    "s='## Receiver Operating Characteristic Curve <a name=\"section5\"></a>\\n\\\n",
    "\\n\\\n",
    "The *Receiver Operating Characteristic* curve shows the performance of binary classification.\\n\\\n",
    "\\n\\\n",
    "* It measures the ratio of TPR over FPR, and the **Area Under Curve** (AUC) approaches to 1 as the model performance improves. The lowest AUC value is 0.5 (the area under the line of no-discrimination). \\n\\\n",
    "* If the AUC value is less than 0.6, it means that your model significantly under-performs. Consider improving your data, tuning the model parameters, pruning the trees, or trying other classifiers.\\n\\\n",
    "\\n\\\n",
    "'\n",
    "\n",
    "if objective_metric in [\"binary:logistic\"]:\n",
    "    display(Markdown(s))\n"
   ]
  },
  {
   "cell_type": "code",
   "execution_count": 21,
   "metadata": {
    "execution": {
     "iopub.execute_input": "2022-08-27T15:07:26.161105Z",
     "iopub.status.busy": "2022-08-27T15:07:26.160367Z",
     "iopub.status.idle": "2022-08-27T15:07:26.274032Z",
     "shell.execute_reply": "2022-08-27T15:07:26.274488Z"
    },
    "papermill": {
     "duration": 0.201791,
     "end_time": "2022-08-27T15:07:26.274635",
     "exception": false,
     "start_time": "2022-08-27T15:07:26.072844",
     "status": "completed"
    },
    "tags": [
     "hide-input"
    ]
   },
   "outputs": [
    {
     "data": {
      "text/html": [
       "\n",
       "\n",
       "\n",
       "\n",
       "\n",
       "\n",
       "  <div class=\"bk-root\" id=\"d4c3c551-c2fb-4cb6-bac5-192481de5245\" data-root-id=\"1802\"></div>\n"
      ]
     },
     "metadata": {},
     "output_type": "display_data"
    },
    {
     "data": {
      "application/javascript": [
       "(function(root) {\n",
       "  function embed_document(root) {\n",
       "    \n",
       "  var docs_json = {\"b58f72df-afe2-4969-9f4f-fb701af7a24d\":{\"roots\":{\"references\":[{\"attributes\":{\"below\":[{\"id\":\"1813\"}],\"center\":[{\"id\":\"1816\"},{\"id\":\"1820\"},{\"id\":\"1855\"}],\"left\":[{\"id\":\"1817\"}],\"renderers\":[{\"id\":\"1839\"},{\"id\":\"1844\"}],\"title\":{\"id\":\"1803\"},\"toolbar\":{\"id\":\"1829\"},\"x_range\":{\"id\":\"1805\"},\"x_scale\":{\"id\":\"1809\"},\"y_range\":{\"id\":\"1807\"},\"y_scale\":{\"id\":\"1811\"}},\"id\":\"1802\",\"subtype\":\"Figure\",\"type\":\"Plot\"},{\"attributes\":{},\"id\":\"1818\",\"type\":\"BasicTicker\"},{\"attributes\":{},\"id\":\"1814\",\"type\":\"BasicTicker\"},{\"attributes\":{\"fill_alpha\":0.5,\"fill_color\":\"lightgrey\",\"level\":\"overlay\",\"line_alpha\":1.0,\"line_color\":\"black\",\"line_dash\":[4,4],\"line_width\":2,\"xs_units\":\"screen\",\"ys_units\":\"screen\"},\"id\":\"1827\",\"type\":\"PolyAnnotation\"},{\"attributes\":{\"axis\":{\"id\":\"1813\"},\"ticker\":null},\"id\":\"1816\",\"type\":\"Grid\"},{\"attributes\":{\"data\":{\"thresh\":{\"__ndarray__\":\"rublP1vNSz95bEo/qIZIP2WAPT9yXjc/bEQzP6FiLD/UVig/sushP2ZAIT+hgRo/UB4RP5JDDj9VFg4/rQQMP1MEBD/BwwI/kmYCPwgr/D6zM/U+3lLxPoex6j6MHeo+rhHpPuxX5j4FXM0+P2XKPtjmyD5LlMc+ZqDFPtxfwz47vsI+pxzBPoXFtz6E5rU+qfeyPgTgqz5DmKE+80egPuuZnz6NmZw+azmcPu40mz6IIpg+EimXPiAPjj7T1I0+QGiNPhRgjT415oo+epKKPiUyhz7T34Y+QiqDPm2rgj4p14E+UJyBPuj2fz4hNHw+UfV4Pt9Cdz7qD3U+zZ50PlGmbz4RRm4+rqBrPic5aj4UKmU+uyBlPlHOWT6sElc+GfdUPp/KVD4VcFE+L0BRPoNNSj4000g+AptFPop7RT7p1j8+g6g+PqTtPT4Z1zs+PYM4PiiTNj7NcTY+gWU2PpOqNT4JkjU+SfgzPiRjMj6Y0zE+DucwPvE6Lz6QJC8+Z0otPv1JLT573yc+duMmPsexID5tPCA+7DUfPqqjHj5B8R0+F08dPnVqGj48Uxo+nusZPrzBGT5hUhQ+XvYTPj9kCz7KSAs+mX4KPuktCj6IeAk+7pkIPhSTBz7Phgc+CesGPk25Bj7LEQY+t8gFPkd1BT7dMAU+5LACPpZ6Aj41DwI+H54BPmHk/D2uRfw9wbfzPawt8z39ve49o53uPQW96j1AJek9EyLpPXlj6D1UV+Y9YlLmPano5T3UnuU9VA/iPTIK4j2dK989m/fePVJ93j06Kd49aafbPZd52z0USts9HMraPXPI1j3nntY91HrWPUQG1j3EStQ9U0LTPf6vzT1cYc09nMPJPSu+yT1zPsY9pDLGPVxDwz3RUMI9xwnAPb6avz1jHb89e4q+PeHVuT24U7k9pyy4PdL5tz1VvLE9hROwPeTirz25g689cEmtPcGwrD2ubas9i1urPTaOqj1uTqo9YbSnPfBMpz3AGJ89gQmfPWarnj1NT549M36cPVtvnD0L2Js9Gt6aPfhJlT21N5U9kDWNPbD6jD2Q8oc9N9eHPa/Fhj2wo4Y9QgWGPUBZhT0LCYU9e++EPfV/gT3dzoA9yNd+PcKkfj2V2HM9YXxzPfdrZT1ZKmU99A5dPTc8XD2W8VI9UNRSPcYkUT1tV089DBxLPX6iSj1vtkU9enJFPULXRD1sG0Q9wro/PdBWPz0/MS89FVUuPbmDHz1M/h492UQaPTQeGj3TsxI9hnQSPb/XAT1QPAE90oj7PJgh+zxZYNA8aNbMPFTruzzNBrs8HouTPEv0kjxhwHA8R5pnPJBFOjw=\",\"dtype\":\"float32\",\"order\":\"little\",\"shape\":[251]},\"x_fpr\":{\"__ndarray__\":\"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\",\"dtype\":\"float64\",\"order\":\"little\",\"shape\":[251]},\"y_tpr\":{\"__ndarray__\":\"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\",\"dtype\":\"float64\",\"order\":\"little\",\"shape\":[251]}},\"selected\":{\"id\":\"1853\"},\"selection_policy\":{\"id\":\"1854\"}},\"id\":\"1801\",\"type\":\"ColumnDataSource\"},{\"attributes\":{},\"id\":\"1854\",\"type\":\"UnionRenderers\"},{\"attributes\":{\"axis\":{\"id\":\"1817\"},\"dimension\":1,\"ticker\":null},\"id\":\"1820\",\"type\":\"Grid\"},{\"attributes\":{\"bottom_units\":\"screen\",\"fill_alpha\":0.5,\"fill_color\":\"lightgrey\",\"left_units\":\"screen\",\"level\":\"overlay\",\"line_alpha\":1.0,\"line_color\":\"black\",\"line_dash\":[4,4],\"line_width\":2,\"right_units\":\"screen\",\"top_units\":\"screen\"},\"id\":\"1826\",\"type\":\"BoxAnnotation\"},{\"attributes\":{\"axis_label\":\"True Positive Rate\",\"formatter\":{\"id\":\"1850\"},\"ticker\":{\"id\":\"1818\"}},\"id\":\"1817\",\"type\":\"LinearAxis\"},{\"attributes\":{},\"id\":\"1848\",\"type\":\"BasicTickFormatter\"},{\"attributes\":{\"active_drag\":\"auto\",\"active_inspect\":\"auto\",\"active_multi\":null,\"active_scroll\":\"auto\",\"active_tap\":\"auto\",\"tools\":[{\"id\":\"1821\"},{\"id\":\"1822\"},{\"id\":\"1823\"},{\"id\":\"1824\"},{\"id\":\"1825\"},{\"id\":\"1828\"}]},\"id\":\"1829\",\"type\":\"Toolbar\"},{\"attributes\":{\"data_source\":{\"id\":\"1801\"},\"glyph\":{\"id\":\"1837\"},\"hover_glyph\":null,\"muted_glyph\":null,\"nonselection_glyph\":{\"id\":\"1838\"},\"selection_glyph\":null,\"view\":{\"id\":\"1840\"}},\"id\":\"1839\",\"type\":\"GlyphRenderer\"},{\"attributes\":{\"data_source\":{\"id\":\"1801\"},\"glyph\":{\"id\":\"1842\"},\"hover_glyph\":null,\"muted_glyph\":null,\"name\":\"ROC\",\"nonselection_glyph\":{\"id\":\"1843\"},\"selection_glyph\":null,\"view\":{\"id\":\"1845\"}},\"id\":\"1844\",\"type\":\"GlyphRenderer\"},{\"attributes\":{\"source\":{\"id\":\"1801\"}},\"id\":\"1840\",\"type\":\"CDSView\"},{\"attributes\":{\"callback\":null,\"tooltips\":[[\"TPR\",\"@y_tpr\"],[\"FPR\",\"@x_fpr\"],[\"Thresh\",\"@thresh\"]]},\"id\":\"1828\",\"type\":\"HoverTool\"},{\"attributes\":{},\"id\":\"1821\",\"type\":\"PanTool\"},{\"attributes\":{},\"id\":\"1822\",\"type\":\"WheelZoomTool\"},{\"attributes\":{\"items\":[{\"id\":\"1856\"}],\"location\":\"bottom_right\"},\"id\":\"1855\",\"type\":\"Legend\"},{\"attributes\":{},\"id\":\"1809\",\"type\":\"LinearScale\"},{\"attributes\":{},\"id\":\"1823\",\"type\":\"ResetTool\"},{\"attributes\":{},\"id\":\"1805\",\"type\":\"DataRange1d\"},{\"attributes\":{\"overlay\":{\"id\":\"1827\"}},\"id\":\"1824\",\"type\":\"PolySelectTool\"},{\"attributes\":{\"overlay\":{\"id\":\"1826\"}},\"id\":\"1825\",\"type\":\"BoxZoomTool\"},{\"attributes\":{},\"id\":\"1850\",\"type\":\"BasicTickFormatter\"},{\"attributes\":{\"fill_color\":{\"value\":\"orange\"},\"line_color\":{\"value\":\"orange\"},\"size\":{\"units\":\"screen\",\"value\":5},\"x\":{\"field\":\"x_fpr\"},\"y\":{\"field\":\"y_tpr\"}},\"id\":\"1842\",\"type\":\"Circle\"},{\"attributes\":{},\"id\":\"1807\",\"type\":\"DataRange1d\"},{\"attributes\":{},\"id\":\"1853\",\"type\":\"Selection\"},{\"attributes\":{\"text\":\"ROC curve\"},\"id\":\"1803\",\"type\":\"Title\"},{\"attributes\":{\"label\":{\"value\":\"Area Under Curve:\\n 0.6528\"},\"renderers\":[{\"id\":\"1844\"}]},\"id\":\"1856\",\"type\":\"LegendItem\"},{\"attributes\":{\"source\":{\"id\":\"1801\"}},\"id\":\"1845\",\"type\":\"CDSView\"},{\"attributes\":{},\"id\":\"1811\",\"type\":\"LinearScale\"},{\"attributes\":{\"line_color\":\"blue\",\"x\":{\"field\":\"x_fpr\"},\"y\":{\"field\":\"y_tpr\"}},\"id\":\"1837\",\"type\":\"Line\"},{\"attributes\":{\"line_alpha\":0.1,\"line_color\":\"blue\",\"x\":{\"field\":\"x_fpr\"},\"y\":{\"field\":\"y_tpr\"}},\"id\":\"1838\",\"type\":\"Line\"},{\"attributes\":{\"fill_alpha\":{\"value\":0.1},\"fill_color\":{\"value\":\"orange\"},\"line_alpha\":{\"value\":0.1},\"line_color\":{\"value\":\"orange\"},\"size\":{\"units\":\"screen\",\"value\":5},\"x\":{\"field\":\"x_fpr\"},\"y\":{\"field\":\"y_tpr\"}},\"id\":\"1843\",\"type\":\"Circle\"},{\"attributes\":{\"axis_label\":\"False Positive Rate\",\"formatter\":{\"id\":\"1848\"},\"ticker\":{\"id\":\"1814\"}},\"id\":\"1813\",\"type\":\"LinearAxis\"}],\"root_ids\":[\"1802\"]},\"title\":\"Bokeh Application\",\"version\":\"2.2.3\"}};\n",
       "  var render_items = [{\"docid\":\"b58f72df-afe2-4969-9f4f-fb701af7a24d\",\"root_ids\":[\"1802\"],\"roots\":{\"1802\":\"d4c3c551-c2fb-4cb6-bac5-192481de5245\"}}];\n",
       "  root.Bokeh.embed.embed_items_notebook(docs_json, render_items);\n",
       "\n",
       "  }\n",
       "  if (root.Bokeh !== undefined) {\n",
       "    embed_document(root);\n",
       "  } else {\n",
       "    var attempts = 0;\n",
       "    var timer = setInterval(function(root) {\n",
       "      if (root.Bokeh !== undefined) {\n",
       "        clearInterval(timer);\n",
       "        embed_document(root);\n",
       "      } else {\n",
       "        attempts++;\n",
       "        if (attempts > 100) {\n",
       "          clearInterval(timer);\n",
       "          console.log(\"Bokeh: ERROR: Unable to run BokehJS code because BokehJS library is missing\");\n",
       "        }\n",
       "      }\n",
       "    }, 10, root)\n",
       "  }\n",
       "})(window);"
      ],
      "application/vnd.bokehjs_exec.v0+json": ""
     },
     "metadata": {
      "application/vnd.bokehjs_exec.v0+json": {
       "id": "1802"
      }
     },
     "output_type": "display_data"
    }
   ],
   "source": [
    "from sklearn.metrics import roc_curve, auc\n",
    "\n",
    "\n",
    "# ROC Curve Will Only Be Plotted For Binary Classifiers\n",
    "\n",
    "def plot_roc_curve():\n",
    "    y_preds = trial.tensor('predictions').value(plot_step)\n",
    "    labels = trial.tensor('labels').value(plot_step)\n",
    "    fpr, tpr, thresholds = roc_curve(labels, y_preds)\n",
    "    roc_auc = auc(fpr, tpr)\n",
    "    # PLOT ROC curve\n",
    "    source_ROC = ColumnDataSource(\n",
    "        data=dict(x_fpr=fpr, \n",
    "                  y_tpr=tpr,\n",
    "                  thresh=thresholds,\n",
    "                 )\n",
    "    )\n",
    "    auc_legend = f'Area Under Curve:\\n {(round(roc_auc, 5))}'\n",
    "    TOOLTIPS=[(\"TPR\", \"@y_tpr\"), (\"FPR\", \"@x_fpr\"), (\"Thresh\", \"@thresh\")]\n",
    "    TOOLS=\"pan,wheel_zoom,reset,poly_select,box_zoom\"\n",
    "    p = figure(title=f'ROC curve', tools=TOOLS, tooltips=TOOLTIPS)\n",
    "    p.line('x_fpr', 'y_tpr', line_width=1, color=\"blue\", source=source_ROC)\n",
    "    p.circle('x_fpr', 'y_tpr', size=5, color=\"orange\", legend_label=auc_legend, source=source_ROC, name='ROC')\n",
    "    p.xaxis.axis_label = 'False Positive Rate'\n",
    "    p.yaxis.axis_label = 'True Positive Rate'\n",
    "    p.legend.location = 'bottom_right'\n",
    "    show(p)\n",
    "    \n",
    "if objective_metric in [\"binary:logistic\"]:\n",
    "    if 'labels' in tensor_names and 'predictions' in tensor_names:\n",
    "        plot_roc_curve()\n",
    "    else:\n",
    "        error_message = \"\\n\\\n",
    "        Labels and Predictions are missing in the debugger data output.\\n\\\n",
    "        Please check if labels and predictions are included in your Debugger Hook Config.\\n\\\n",
    "        \"\n",
    "        display(Markdown(error_message))"
   ]
  },
  {
   "cell_type": "code",
   "execution_count": 22,
   "metadata": {
    "execution": {
     "iopub.execute_input": "2022-08-27T15:07:26.370758Z",
     "iopub.status.busy": "2022-08-27T15:07:26.370025Z",
     "iopub.status.idle": "2022-08-27T15:07:26.372988Z",
     "shell.execute_reply": "2022-08-27T15:07:26.373399Z"
    },
    "papermill": {
     "duration": 0.08761,
     "end_time": "2022-08-27T15:07:26.373579",
     "exception": false,
     "start_time": "2022-08-27T15:07:26.285969",
     "status": "completed"
    },
    "tags": [
     "hide-input"
    ]
   },
   "outputs": [
    {
     "data": {
      "text/markdown": [
       "## Distribution of Residuals at the Last Saved Step <a name=\"section6\"></a>\n",
       "\n",
       "The following histogram shows the distribution of residuals captured at the last step by Debugger.\n",
       "\n",
       "The residual is calculated as **predicted minus true** in this visualization. \n",
       "\n",
       "\n",
       "- For **regression**, the distribution should show a normal distribution centered at zero if the model is well trained.\n",
       "- For **classification**, the distribution shows how the number of correct prediction counts (at the zero residual bin) dominates over the number of wrong prediction counts.\n",
       "\n",
       "\n"
      ],
      "text/plain": [
       "<IPython.core.display.Markdown object>"
      ]
     },
     "metadata": {},
     "output_type": "display_data"
    }
   ],
   "source": [
    "from IPython.display import display, Markdown\n",
    "\n",
    "s = '## Distribution of Residuals at the Last Saved Step <a name=\"section6\"></a>\\n\\\n",
    "\\n\\\n",
    "The following histogram shows the distribution of residuals captured at the last step by Debugger.\\n\\\n",
    "\\n\\\n",
    "The residual is calculated as **predicted minus true** in this visualization. \\n\\\n",
    "\\n\\\n",
    "\\n\\\n",
    "- For **regression**, the distribution should show a normal distribution centered at zero if the model is well trained.\\n\\\n",
    "- For **classification**, the distribution shows how the number of correct prediction counts (at the zero residual bin) dominates over the number of wrong prediction counts.\\n\\\n",
    "\\n\\\n",
    "\\n\\\n",
    "'\n",
    "\n",
    "if objective_metric in SUPPORTED_OBJECTIVES:\n",
    "    display(Markdown(s))\n"
   ]
  },
  {
   "cell_type": "code",
   "execution_count": 23,
   "metadata": {
    "execution": {
     "iopub.execute_input": "2022-08-27T15:07:26.474386Z",
     "iopub.status.busy": "2022-08-27T15:07:26.469971Z",
     "iopub.status.idle": "2022-08-27T15:07:26.658112Z",
     "shell.execute_reply": "2022-08-27T15:07:26.658589Z"
    },
    "papermill": {
     "duration": 0.273981,
     "end_time": "2022-08-27T15:07:26.658793",
     "exception": false,
     "start_time": "2022-08-27T15:07:26.384812",
     "status": "completed"
    },
    "tags": [
     "hide-input"
    ]
   },
   "outputs": [
    {
     "data": {
      "text/html": [
       "\n",
       "\n",
       "\n",
       "\n",
       "\n",
       "\n",
       "  <div class=\"bk-root\" id=\"dbd2b67d-99f2-4fd8-be74-352ccc38e82a\" data-root-id=\"2020\"></div>\n"
      ]
     },
     "metadata": {},
     "output_type": "display_data"
    },
    {
     "data": {
      "application/javascript": [
       "(function(root) {\n",
       "  function embed_document(root) {\n",
       "    \n",
       "  var docs_json = {\"271a3198-9af5-47d3-94bc-406357d52ecc\":{\"roots\":{\"references\":[{\"attributes\":{\"children\":[{\"id\":\"2019\"},{\"id\":\"2017\"}]},\"id\":\"2020\",\"type\":\"Row\"},{\"attributes\":{\"active_drag\":\"auto\",\"active_inspect\":\"auto\",\"active_multi\":null,\"active_scroll\":\"auto\",\"active_tap\":\"auto\",\"tools\":[{\"id\":\"1987\"},{\"id\":\"1988\"},{\"id\":\"1989\"},{\"id\":\"1990\"},{\"id\":\"1991\"},{\"id\":\"1994\"}]},\"id\":\"1995\",\"type\":\"Toolbar\"},{\"attributes\":{\"dimensions\":\"width\"},\"id\":\"1988\",\"type\":\"WheelZoomTool\"},{\"attributes\":{\"axis_label\":\"Error Count\",\"formatter\":{\"id\":\"2011\"},\"ticker\":{\"id\":\"1984\"}},\"id\":\"1983\",\"type\":\"LinearAxis\"},{\"attributes\":{\"children\":[[{\"id\":\"1968\"},0,0]]},\"id\":\"2017\",\"type\":\"GridBox\"},{\"attributes\":{\"data\":{\"left\":{\"__ndarray__\":\"AACAv110Ub+66CK/L7rovumii76MLrq9jC66Pemiiz4vuug+uugiP110UT8=\",\"dtype\":\"float32\",\"order\":\"little\",\"shape\":[11]},\"right\":{\"__ndarray__\":\"XXRRv7roIr8vuui+6aKLvowuur2MLro96aKLPi+66D666CI/XXRRPwAAgD8=\",\"dtype\":\"float32\",\"order\":\"little\",\"shape\":[11]},\"top\":[140,0,0,0,0,857,0,0,0,0,20]},\"selected\":{\"id\":\"2014\"},\"selection_policy\":{\"id\":\"2015\"}},\"id\":\"2002\",\"type\":\"ColumnDataSource\"},{\"attributes\":{\"callback\":null,\"tooltips\":[[\"error\",\"$x\"],[\"count\",\"$y\"]]},\"id\":\"1994\",\"type\":\"HoverTool\"},{\"attributes\":{},\"id\":\"1987\",\"type\":\"PanTool\"},{\"attributes\":{\"below\":[{\"id\":\"1979\"}],\"center\":[{\"id\":\"1982\"},{\"id\":\"1986\"}],\"left\":[{\"id\":\"1983\"}],\"plot_height\":500,\"plot_width\":500,\"renderers\":[{\"id\":\"2005\"}],\"title\":{\"id\":\"1969\"},\"toolbar\":{\"id\":\"1995\"},\"toolbar_location\":null,\"x_range\":{\"id\":\"1971\"},\"x_scale\":{\"id\":\"1975\"},\"y_range\":{\"id\":\"1973\"},\"y_scale\":{\"id\":\"1977\"}},\"id\":\"1968\",\"subtype\":\"Figure\",\"type\":\"Plot\"},{\"attributes\":{\"source\":{\"id\":\"2002\"}},\"id\":\"2006\",\"type\":\"CDSView\"},{\"attributes\":{\"axis\":{\"id\":\"1983\"},\"dimension\":1,\"grid_line_color\":\"white\",\"ticker\":null},\"id\":\"1986\",\"type\":\"Grid\"},{\"attributes\":{\"data_source\":{\"id\":\"2002\"},\"glyph\":{\"id\":\"2003\"},\"hover_glyph\":null,\"muted_glyph\":null,\"nonselection_glyph\":{\"id\":\"2004\"},\"selection_glyph\":null,\"view\":{\"id\":\"2006\"}},\"id\":\"2005\",\"type\":\"GlyphRenderer\"},{\"attributes\":{},\"id\":\"1984\",\"type\":\"BasicTicker\"},{\"attributes\":{\"toolbar\":{\"id\":\"2018\"},\"toolbar_location\":\"left\"},\"id\":\"2019\",\"type\":\"ToolbarBox\"},{\"attributes\":{},\"id\":\"1980\",\"type\":\"BasicTicker\"},{\"attributes\":{\"toolbars\":[{\"id\":\"1995\"}],\"tools\":[{\"id\":\"1987\"},{\"id\":\"1988\"},{\"id\":\"1989\"},{\"id\":\"1990\"},{\"id\":\"1991\"},{\"id\":\"1994\"}]},\"id\":\"2018\",\"type\":\"ProxyToolbar\"},{\"attributes\":{},\"id\":\"2009\",\"type\":\"BasicTickFormatter\"},{\"attributes\":{},\"id\":\"2011\",\"type\":\"BasicTickFormatter\"},{\"attributes\":{\"bottom\":{\"value\":0},\"fill_alpha\":{\"value\":0.5},\"fill_color\":{\"value\":\"navy\"},\"left\":{\"field\":\"left\"},\"line_alpha\":{\"value\":0.5},\"line_color\":{\"value\":\"white\"},\"right\":{\"field\":\"right\"},\"top\":{\"field\":\"top\"}},\"id\":\"2003\",\"type\":\"Quad\"},{\"attributes\":{\"axis\":{\"id\":\"1979\"},\"grid_line_color\":\"white\",\"ticker\":null},\"id\":\"1982\",\"type\":\"Grid\"},{\"attributes\":{},\"id\":\"2014\",\"type\":\"Selection\"},{\"attributes\":{\"bottom\":{\"value\":0},\"fill_alpha\":{\"value\":0.1},\"fill_color\":{\"value\":\"navy\"},\"left\":{\"field\":\"left\"},\"line_alpha\":{\"value\":0.1},\"line_color\":{\"value\":\"white\"},\"right\":{\"field\":\"right\"},\"top\":{\"field\":\"top\"}},\"id\":\"2004\",\"type\":\"Quad\"},{\"attributes\":{},\"id\":\"2015\",\"type\":\"UnionRenderers\"},{\"attributes\":{},\"id\":\"1989\",\"type\":\"ResetTool\"},{\"attributes\":{\"overlay\":{\"id\":\"1992\"}},\"id\":\"1990\",\"type\":\"BoxSelectTool\"},{\"attributes\":{\"text\":\"Error Distribution at step:45\"},\"id\":\"1969\",\"type\":\"Title\"},{\"attributes\":{},\"id\":\"1977\",\"type\":\"LinearScale\"},{\"attributes\":{},\"id\":\"1971\",\"type\":\"DataRange1d\"},{\"attributes\":{},\"id\":\"1975\",\"type\":\"LinearScale\"},{\"attributes\":{\"overlay\":{\"id\":\"1993\"}},\"id\":\"1991\",\"type\":\"BoxZoomTool\"},{\"attributes\":{\"bottom_units\":\"screen\",\"fill_alpha\":0.5,\"fill_color\":\"lightgrey\",\"left_units\":\"screen\",\"level\":\"overlay\",\"line_alpha\":1.0,\"line_color\":\"black\",\"line_dash\":[4,4],\"line_width\":2,\"right_units\":\"screen\",\"top_units\":\"screen\"},\"id\":\"1993\",\"type\":\"BoxAnnotation\"},{\"attributes\":{\"axis_label\":\"Error\",\"formatter\":{\"id\":\"2009\"},\"ticker\":{\"id\":\"1980\"}},\"id\":\"1979\",\"type\":\"LinearAxis\"},{\"attributes\":{\"bottom_units\":\"screen\",\"fill_alpha\":0.5,\"fill_color\":\"lightgrey\",\"left_units\":\"screen\",\"level\":\"overlay\",\"line_alpha\":1.0,\"line_color\":\"black\",\"line_dash\":[4,4],\"line_width\":2,\"right_units\":\"screen\",\"top_units\":\"screen\"},\"id\":\"1992\",\"type\":\"BoxAnnotation\"},{\"attributes\":{\"start\":0},\"id\":\"1973\",\"type\":\"DataRange1d\"}],\"root_ids\":[\"2020\"]},\"title\":\"Bokeh Application\",\"version\":\"2.2.3\"}};\n",
       "  var render_items = [{\"docid\":\"271a3198-9af5-47d3-94bc-406357d52ecc\",\"root_ids\":[\"2020\"],\"roots\":{\"2020\":\"dbd2b67d-99f2-4fd8-be74-352ccc38e82a\"}}];\n",
       "  root.Bokeh.embed.embed_items_notebook(docs_json, render_items);\n",
       "\n",
       "  }\n",
       "  if (root.Bokeh !== undefined) {\n",
       "    embed_document(root);\n",
       "  } else {\n",
       "    var attempts = 0;\n",
       "    var timer = setInterval(function(root) {\n",
       "      if (root.Bokeh !== undefined) {\n",
       "        clearInterval(timer);\n",
       "        embed_document(root);\n",
       "      } else {\n",
       "        attempts++;\n",
       "        if (attempts > 100) {\n",
       "          clearInterval(timer);\n",
       "          console.log(\"Bokeh: ERROR: Unable to run BokehJS code because BokehJS library is missing\");\n",
       "        }\n",
       "      }\n",
       "    }, 10, root)\n",
       "  }\n",
       "})(window);"
      ],
      "application/vnd.bokehjs_exec.v0+json": ""
     },
     "metadata": {
      "application/vnd.bokehjs_exec.v0+json": {
       "id": "2020"
      }
     },
     "output_type": "display_data"
    }
   ],
   "source": [
    "import numpy as np\n",
    "import scipy.special\n",
    "\n",
    "from bokeh.layouts import gridplot\n",
    "from bokeh.plotting import figure, output_file, show\n",
    "\n",
    "\n",
    "def make_plot(title, hist, edges, x):\n",
    "    TOOLS=\"pan,xwheel_zoom,reset,box_select,box_zoom\"    \n",
    "    TOOLTIPS = [\n",
    "        (\"error\", \"$x\"),\n",
    "        (\"count\", \"$y\"),\n",
    "    ]\n",
    "    p = figure(\n",
    "        title=title,  \n",
    "        tools=TOOLS,\n",
    "        toolbar_location=\"left\",\n",
    "        tooltips=TOOLTIPS\n",
    "    )\n",
    "    p.quad(top=hist, bottom=0, left=edges[:-1], right=edges[1:],\n",
    "           fill_color=\"navy\", line_color=\"white\", alpha=0.5)\n",
    "    p.y_range.start = 0\n",
    "    p.xaxis.axis_label = 'Error'\n",
    "    p.yaxis.axis_label = 'Error Count'\n",
    "    p.grid.grid_line_color=\"white\"\n",
    "    return p\n",
    "\n",
    "# Normal Distribution\n",
    "from scipy.stats import norm\n",
    "if 'labels' in tensor_names \\\n",
    "    and 'predictions' in tensor_names \\\n",
    "        and objective_metric in SUPPORTED_OBJECTIVES:\n",
    "    pred = trial.tensor('predictions').value(plot_step)\n",
    "    target = trial.tensor('labels').value(plot_step)\n",
    "    if objective_metric in [\"binary:logistic\", \"multi:softmax\"]:\n",
    "        pred = pred.round()\n",
    "        target = target.round()\n",
    "    error = pred-target\n",
    "    hist, edges = np.histogram(error, density=False,bins=\"auto\")\n",
    "    mu, sigma = norm.fit(error)\n",
    "    text_mu = round(mu,5)\n",
    "    text_sigma = round(sigma,5)\n",
    "    x = np.linspace(min(error), max(error))\n",
    "    p1 = make_plot(f\"Error Distribution at step:{plot_step}\", hist, edges, x)\n",
    "    show(gridplot([p1], ncols=2, plot_width=500, plot_height=500, toolbar_location=\"left\"))"
   ]
  },
  {
   "cell_type": "code",
   "execution_count": 24,
   "metadata": {
    "execution": {
     "iopub.execute_input": "2022-08-27T15:07:26.759077Z",
     "iopub.status.busy": "2022-08-27T15:07:26.758492Z",
     "iopub.status.idle": "2022-08-27T15:07:26.761742Z",
     "shell.execute_reply": "2022-08-27T15:07:26.761234Z"
    },
    "papermill": {
     "duration": 0.088811,
     "end_time": "2022-08-27T15:07:26.761869",
     "exception": false,
     "start_time": "2022-08-27T15:07:26.673058",
     "status": "completed"
    },
    "tags": [
     "hide-input"
    ]
   },
   "outputs": [],
   "source": [
    "from IPython.display import display, Markdown\n",
    "\n",
    "s = '## Absolute Validation Error per Label Bin over Iteration <a name=\"section7\"></a>\\n\\\n",
    "The following graph shows the progression of error (or residual) over iterations.\\n\\\n",
    "- The absolute validation error of each bin should reduce over time.\\n\\\n",
    "- Use this graph to identify poorly performing bins.\\n\\\n",
    "- Interact with the graph by toggling different classes by clicking on the legend.\\n\\\n",
    "'\n",
    "if objective_metric in [\"reg:squarederror\"]:\n",
    "    display(Markdown(s))\n"
   ]
  },
  {
   "cell_type": "code",
   "execution_count": 25,
   "metadata": {
    "execution": {
     "iopub.execute_input": "2022-08-27T15:07:26.865942Z",
     "iopub.status.busy": "2022-08-27T15:07:26.864954Z",
     "iopub.status.idle": "2022-08-27T15:07:26.867002Z",
     "shell.execute_reply": "2022-08-27T15:07:26.867696Z"
    },
    "papermill": {
     "duration": 0.093938,
     "end_time": "2022-08-27T15:07:26.867868",
     "exception": false,
     "start_time": "2022-08-27T15:07:26.773930",
     "status": "completed"
    },
    "tags": [
     "hide-input"
    ]
   },
   "outputs": [],
   "source": [
    "from scipy import stats\n",
    "from bokeh.models.tickers import SingleIntervalTicker\n",
    "import random\n",
    "\n",
    "def color_gen():\n",
    "    co=(round(random.random()*250),round(random.random()*250),round(random.random()*250))\n",
    "    return co\n",
    "def plot_abs_validation_error_per_label_bin_over_iteration():\n",
    "    label_steps = trial.tensor('labels').steps()\n",
    "    pred_steps = trial.tensor('predictions').steps()\n",
    "    validation_steps = sorted(list(set(label_steps).intersection(set(pred_steps))))\n",
    "    step_abs_error = []\n",
    "    for step in validation_steps:\n",
    "        label = trial.tensor('labels').value(step)\n",
    "        pred = trial.tensor('predictions').value(step)\n",
    "        abs_err = np.absolute(pred-label)\n",
    "        step_abs_error.append(abs_err)\n",
    "    labels = trial.tensor('labels').value(plot_step)\n",
    "    statistics, bin_edge, bin_num = stats.binned_statistic(labels, step_abs_error, 'mean', bins=10)\n",
    "    TOOLS=\"pan,wheel_zoom,reset,box_select,box_zoom\"\n",
    "    TOOLTIPS = [\n",
    "        (\"step\", \"@steps\"),\n",
    "        (\"bin\", \"$name\"),\n",
    "    ] \n",
    "    bin_names = []\n",
    "    data_list = []\n",
    "    p = figure( \n",
    "        title=f\"Absolute Validation Error Per Label Bin Over Iteration\",\n",
    "        toolbar_location=\"left\", \n",
    "        tools=TOOLS,\n",
    "        tooltips=TOOLTIPS,\n",
    "        plot_height=500,\n",
    "        plot_width=1000\n",
    "    )\n",
    "    for i in range(len(bin_edge)-1):\n",
    "        stat = statistics[:,i]\n",
    "        source = ColumnDataSource(\n",
    "            data=dict(\n",
    "                steps=validation_steps, \n",
    "                stat=stat\n",
    "            )\n",
    "        )\n",
    "        bin_name = str(round(bin_edge[i], 5))+\"-\"+str(round(bin_edge[i+1], 5))\n",
    "        p.line('steps', 'stat', name=bin_name, color=color_gen(), line_width=4, source=source, legend_label=bin_name)\n",
    "    p.legend.location = \"center_right\"\n",
    "    p.legend.click_policy=\"hide\"\n",
    "    p.xgrid.grid_line_color = None\n",
    "    p.xaxis.axis_label = 'Iteration'\n",
    "    p.yaxis.axis_label = 'Error'\n",
    "    p.y_range.start = 0\n",
    "\n",
    "    show(p)\n",
    "\n",
    "avail_steps = trial.steps()\n",
    "obj_names_for_error_plots = [\"reg:squarederror\"]\n",
    "if 'labels' in tensor_names and 'predictions' in tensor_names and objective_metric in obj_names_for_error_plots:\n",
    "    plot_abs_validation_error_per_label_bin_over_iteration()\n",
    "    "
   ]
  },
  {
   "cell_type": "code",
   "execution_count": 26,
   "metadata": {
    "execution": {
     "iopub.execute_input": "2022-08-27T15:07:26.958251Z",
     "iopub.status.busy": "2022-08-27T15:07:26.957382Z",
     "iopub.status.idle": "2022-08-27T15:07:26.961583Z",
     "shell.execute_reply": "2022-08-27T15:07:26.962048Z"
    },
    "papermill": {
     "duration": 0.082382,
     "end_time": "2022-08-27T15:07:26.962197",
     "exception": false,
     "start_time": "2022-08-27T15:07:26.879815",
     "status": "completed"
    },
    "tags": [
     "hide-input"
    ]
   },
   "outputs": [],
   "source": [
    "del trial"
   ]
  }
 ],
 "metadata": {
  "celltoolbar": "Tags",
  "file_extension": ".py",
  "kernelspec": {
   "display_name": "Python3",
   "language": "python",
   "name": "python3"
  },
  "language_info": {
   "codemirror_mode": {
    "name": "ipython",
    "version": 3
   },
   "file_extension": ".py",
   "mimetype": "text/x-python",
   "name": "python",
   "nbconvert_exporter": "python",
   "pygments_lexer": "ipython3",
   "version": "3.7.10"
  },
  "mimetype": "text/x-python",
  "name": "python",
  "nbconvert_exporter": "python",
  "papermill": {
   "duration": 13.919856,
   "end_time": "2022-08-27T15:07:28.371755",
   "environment_variables": {},
   "exception": null,
   "input_path": "/opt/ml/code/xgboost_report.ipynb",
   "output_path": "/opt/ml/processing/output/rule/.sagemaker-ignore/out.tmp",
   "parameters": {
    "path": "/opt/ml/processing/input/tensors",
    "plot_step": 45,
    "s3_path": "s3://rohan202/xgboost-as-a-built-in-algo/output/sagemaker-xgboost-2022-08-27-14-58-10-799/debug-output"
   },
   "start_time": "2022-08-27T15:07:14.451899",
   "version": "2.1.2"
  },
  "pygments_lexer": "ipython3",
  "version": "3.6.10"
 },
 "nbformat": 4,
 "nbformat_minor": 4
}