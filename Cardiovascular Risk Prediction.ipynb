{
 "cells": [
  {
   "cell_type": "markdown",
   "id": "21551a3f",
   "metadata": {},
   "source": [
    "# Cardiovascular Risk Prediction Project\n",
    "The dataset is from an ongoing cardiovascular study on residents of the town of Framingham, Massachusetts. The classification goal is to predict whether the patient has a 10-year risk of future coronary heart disease (CHD). The dataset provides the patients’ information. It includes over 4,000 records and 15 attributes."
   ]
  },
  {
   "cell_type": "markdown",
   "id": "b176e7a4",
   "metadata": {},
   "source": [
    "# Importing Libraries"
   ]
  },
  {
   "cell_type": "code",
   "execution_count": 1,
   "id": "6dd339b8",
   "metadata": {},
   "outputs": [],
   "source": [
    "import sagemaker\n",
    "import boto3\n",
    "from sagemaker.amazon.amazon_estimator import get_image_uri \n",
    "from sagemaker.session import s3_input, Session"
   ]
  },
  {
   "cell_type": "code",
   "execution_count": 2,
   "id": "b24d3daf",
   "metadata": {},
   "outputs": [
    {
     "name": "stdout",
     "output_type": "stream",
     "text": [
      "us-east-2\n"
     ]
    }
   ],
   "source": [
    "bucket_name = 'rohan202' # <--- CHANGE THIS VARIABLE TO A UNIQUE NAME FOR YOUR BUCKET\n",
    "my_region = boto3.session.Session().region_name # set the region of the instance\n",
    "print(my_region)"
   ]
  },
  {
   "cell_type": "code",
   "execution_count": 3,
   "id": "3f0b2a5a",
   "metadata": {},
   "outputs": [
    {
     "name": "stdout",
     "output_type": "stream",
     "text": [
      "S3 bucket created successfully\n"
     ]
    }
   ],
   "source": [
    "s3 = boto3.resource('s3')\n",
    "try:\n",
    "    if  my_region == 'us-east-1':\n",
    "        s3.create_bucket(Bucket=bucket_name)\n",
    "    print('S3 bucket created successfully')\n",
    "except Exception as e:\n",
    "    print('S3 error: ',e)"
   ]
  },
  {
   "cell_type": "code",
   "execution_count": 4,
   "id": "f9582c48",
   "metadata": {},
   "outputs": [
    {
     "name": "stdout",
     "output_type": "stream",
     "text": [
      "s3://rohan202/xgboost-as-a-built-in-algo/output\n"
     ]
    }
   ],
   "source": [
    "# set an output path where the trained model will be saved\n",
    "prefix = 'xgboost-as-a-built-in-algo'\n",
    "output_path ='s3://{}/{}/output'.format(bucket_name, prefix)\n",
    "print(output_path)"
   ]
  },
  {
   "cell_type": "code",
   "execution_count": 5,
   "id": "59a2747e",
   "metadata": {},
   "outputs": [
    {
     "name": "stdout",
     "output_type": "stream",
     "text": [
      "Success: Data loaded into dataframe.\n"
     ]
    }
   ],
   "source": [
    "import pandas as pd\n",
    "import urllib\n",
    "df= pd.read_csv('data_cardiovascular_risk.csv')\n",
    "\n",
    "try:\n",
    "    model_data = pd.read_csv('./data_cardiovascular_risk.csv',index_col=0)\n",
    "    print('Success: Data loaded into dataframe.')\n",
    "except Exception as e:\n",
    "    print('Data load error: ',e)"
   ]
  },
  {
   "cell_type": "code",
   "execution_count": 6,
   "id": "14e2232e",
   "metadata": {},
   "outputs": [
    {
     "name": "stdout",
     "output_type": "stream",
     "text": [
      "(2373, 16) (1017, 16)\n"
     ]
    }
   ],
   "source": [
    "### Train Test split\n",
    "import numpy as np\n",
    "train_data, test_data = np.split(model_data.sample(frac=1, random_state=1729), [int(0.7 * len(model_data))])\n",
    "print(train_data.shape, test_data.shape)"
   ]
  },
  {
   "cell_type": "code",
   "execution_count": 7,
   "id": "c2a93403",
   "metadata": {},
   "outputs": [
    {
     "data": {
      "text/html": [
       "<div>\n",
       "<style scoped>\n",
       "    .dataframe tbody tr th:only-of-type {\n",
       "        vertical-align: middle;\n",
       "    }\n",
       "\n",
       "    .dataframe tbody tr th {\n",
       "        vertical-align: top;\n",
       "    }\n",
       "\n",
       "    .dataframe thead th {\n",
       "        text-align: right;\n",
       "    }\n",
       "</style>\n",
       "<table border=\"1\" class=\"dataframe\">\n",
       "  <thead>\n",
       "    <tr style=\"text-align: right;\">\n",
       "      <th></th>\n",
       "      <th>age</th>\n",
       "      <th>education</th>\n",
       "      <th>cigsPerDay</th>\n",
       "      <th>BPMeds</th>\n",
       "      <th>prevalentStroke</th>\n",
       "      <th>prevalentHyp</th>\n",
       "      <th>diabetes</th>\n",
       "      <th>totChol</th>\n",
       "      <th>sysBP</th>\n",
       "      <th>diaBP</th>\n",
       "      <th>BMI</th>\n",
       "      <th>heartRate</th>\n",
       "      <th>glucose</th>\n",
       "      <th>TenYearCHD</th>\n",
       "    </tr>\n",
       "  </thead>\n",
       "  <tbody>\n",
       "    <tr>\n",
       "      <th>count</th>\n",
       "      <td>2373.000000</td>\n",
       "      <td>2314.000000</td>\n",
       "      <td>2354.000000</td>\n",
       "      <td>2340.000000</td>\n",
       "      <td>2373.000000</td>\n",
       "      <td>2373.000000</td>\n",
       "      <td>2373.000000</td>\n",
       "      <td>2345.000000</td>\n",
       "      <td>2373.000000</td>\n",
       "      <td>2373.000000</td>\n",
       "      <td>2362.000000</td>\n",
       "      <td>2372.000000</td>\n",
       "      <td>2156.000000</td>\n",
       "      <td>2373.000000</td>\n",
       "    </tr>\n",
       "    <tr>\n",
       "      <th>mean</th>\n",
       "      <td>49.691108</td>\n",
       "      <td>1.975367</td>\n",
       "      <td>8.830926</td>\n",
       "      <td>0.030769</td>\n",
       "      <td>0.007164</td>\n",
       "      <td>0.309735</td>\n",
       "      <td>0.029920</td>\n",
       "      <td>236.271642</td>\n",
       "      <td>132.488622</td>\n",
       "      <td>82.848083</td>\n",
       "      <td>25.793124</td>\n",
       "      <td>75.986509</td>\n",
       "      <td>81.889610</td>\n",
       "      <td>0.149600</td>\n",
       "    </tr>\n",
       "    <tr>\n",
       "      <th>std</th>\n",
       "      <td>8.642677</td>\n",
       "      <td>1.029524</td>\n",
       "      <td>11.760514</td>\n",
       "      <td>0.172729</td>\n",
       "      <td>0.084354</td>\n",
       "      <td>0.462482</td>\n",
       "      <td>0.170402</td>\n",
       "      <td>44.107194</td>\n",
       "      <td>22.817607</td>\n",
       "      <td>12.302435</td>\n",
       "      <td>4.178886</td>\n",
       "      <td>12.096783</td>\n",
       "      <td>25.157672</td>\n",
       "      <td>0.356754</td>\n",
       "    </tr>\n",
       "    <tr>\n",
       "      <th>min</th>\n",
       "      <td>33.000000</td>\n",
       "      <td>1.000000</td>\n",
       "      <td>0.000000</td>\n",
       "      <td>0.000000</td>\n",
       "      <td>0.000000</td>\n",
       "      <td>0.000000</td>\n",
       "      <td>0.000000</td>\n",
       "      <td>113.000000</td>\n",
       "      <td>83.500000</td>\n",
       "      <td>48.000000</td>\n",
       "      <td>15.960000</td>\n",
       "      <td>45.000000</td>\n",
       "      <td>40.000000</td>\n",
       "      <td>0.000000</td>\n",
       "    </tr>\n",
       "    <tr>\n",
       "      <th>25%</th>\n",
       "      <td>42.000000</td>\n",
       "      <td>1.000000</td>\n",
       "      <td>0.000000</td>\n",
       "      <td>0.000000</td>\n",
       "      <td>0.000000</td>\n",
       "      <td>0.000000</td>\n",
       "      <td>0.000000</td>\n",
       "      <td>206.000000</td>\n",
       "      <td>116.000000</td>\n",
       "      <td>74.000000</td>\n",
       "      <td>22.982500</td>\n",
       "      <td>68.000000</td>\n",
       "      <td>71.000000</td>\n",
       "      <td>0.000000</td>\n",
       "    </tr>\n",
       "    <tr>\n",
       "      <th>50%</th>\n",
       "      <td>49.000000</td>\n",
       "      <td>2.000000</td>\n",
       "      <td>0.000000</td>\n",
       "      <td>0.000000</td>\n",
       "      <td>0.000000</td>\n",
       "      <td>0.000000</td>\n",
       "      <td>0.000000</td>\n",
       "      <td>233.000000</td>\n",
       "      <td>128.000000</td>\n",
       "      <td>82.000000</td>\n",
       "      <td>25.350000</td>\n",
       "      <td>75.000000</td>\n",
       "      <td>78.000000</td>\n",
       "      <td>0.000000</td>\n",
       "    </tr>\n",
       "    <tr>\n",
       "      <th>75%</th>\n",
       "      <td>57.000000</td>\n",
       "      <td>3.000000</td>\n",
       "      <td>20.000000</td>\n",
       "      <td>0.000000</td>\n",
       "      <td>0.000000</td>\n",
       "      <td>1.000000</td>\n",
       "      <td>0.000000</td>\n",
       "      <td>263.000000</td>\n",
       "      <td>144.000000</td>\n",
       "      <td>90.000000</td>\n",
       "      <td>28.030000</td>\n",
       "      <td>83.000000</td>\n",
       "      <td>86.000000</td>\n",
       "      <td>0.000000</td>\n",
       "    </tr>\n",
       "    <tr>\n",
       "      <th>max</th>\n",
       "      <td>70.000000</td>\n",
       "      <td>4.000000</td>\n",
       "      <td>70.000000</td>\n",
       "      <td>1.000000</td>\n",
       "      <td>1.000000</td>\n",
       "      <td>1.000000</td>\n",
       "      <td>1.000000</td>\n",
       "      <td>600.000000</td>\n",
       "      <td>295.000000</td>\n",
       "      <td>142.500000</td>\n",
       "      <td>56.800000</td>\n",
       "      <td>143.000000</td>\n",
       "      <td>394.000000</td>\n",
       "      <td>1.000000</td>\n",
       "    </tr>\n",
       "  </tbody>\n",
       "</table>\n",
       "</div>"
      ],
      "text/plain": [
       "               age    education   cigsPerDay       BPMeds  prevalentStroke  \\\n",
       "count  2373.000000  2314.000000  2354.000000  2340.000000      2373.000000   \n",
       "mean     49.691108     1.975367     8.830926     0.030769         0.007164   \n",
       "std       8.642677     1.029524    11.760514     0.172729         0.084354   \n",
       "min      33.000000     1.000000     0.000000     0.000000         0.000000   \n",
       "25%      42.000000     1.000000     0.000000     0.000000         0.000000   \n",
       "50%      49.000000     2.000000     0.000000     0.000000         0.000000   \n",
       "75%      57.000000     3.000000    20.000000     0.000000         0.000000   \n",
       "max      70.000000     4.000000    70.000000     1.000000         1.000000   \n",
       "\n",
       "       prevalentHyp     diabetes      totChol        sysBP        diaBP  \\\n",
       "count   2373.000000  2373.000000  2345.000000  2373.000000  2373.000000   \n",
       "mean       0.309735     0.029920   236.271642   132.488622    82.848083   \n",
       "std        0.462482     0.170402    44.107194    22.817607    12.302435   \n",
       "min        0.000000     0.000000   113.000000    83.500000    48.000000   \n",
       "25%        0.000000     0.000000   206.000000   116.000000    74.000000   \n",
       "50%        0.000000     0.000000   233.000000   128.000000    82.000000   \n",
       "75%        1.000000     0.000000   263.000000   144.000000    90.000000   \n",
       "max        1.000000     1.000000   600.000000   295.000000   142.500000   \n",
       "\n",
       "               BMI    heartRate      glucose   TenYearCHD  \n",
       "count  2362.000000  2372.000000  2156.000000  2373.000000  \n",
       "mean     25.793124    75.986509    81.889610     0.149600  \n",
       "std       4.178886    12.096783    25.157672     0.356754  \n",
       "min      15.960000    45.000000    40.000000     0.000000  \n",
       "25%      22.982500    68.000000    71.000000     0.000000  \n",
       "50%      25.350000    75.000000    78.000000     0.000000  \n",
       "75%      28.030000    83.000000    86.000000     0.000000  \n",
       "max      56.800000   143.000000   394.000000     1.000000  "
      ]
     },
     "metadata": {},
     "output_type": "display_data"
    },
    {
     "data": {
      "image/png": "[encoded data removed]",
      "text/plain": [
       "<Figure size 1440x720 with 16 Axes>"
      ]
     },
     "metadata": {
      "needs_background": "light"
     },
     "output_type": "display_data"
    }
   ],
   "source": [
    "display(train_data.describe())\n",
    "hist = train_data.hist(bins=30, sharey=True, figsize=(20, 10))"
   ]
  },
  {
   "cell_type": "code",
   "execution_count": 8,
   "id": "72a0817e",
   "metadata": {},
   "outputs": [],
   "source": [
    "### Saving Train And Test Into Buckets\n",
    "## We start with Train Data\n",
    "import os\n",
    "pd.concat([train_data['TenYearCHD'], train_data.drop(['TenYearCHD'], \n",
    "                                                axis=1)], \n",
    "                                                axis=1).to_csv('train.csv', index=False, header=False)\n",
    "boto3.Session().resource('s3').Bucket(bucket_name).Object(os.path.join(prefix, 'train/train.csv')).upload_file('train.csv')\n",
    "s3_input_train = sagemaker.TrainingInput(s3_data='s3://{}/{}/train'.format(bucket_name, prefix), content_type='csv')"
   ]
  },
  {
   "cell_type": "code",
   "execution_count": 9,
   "id": "a4ca63a0",
   "metadata": {},
   "outputs": [],
   "source": [
    "# Test Data Into Buckets\n",
    "pd.concat([test_data['TenYearCHD'], test_data.drop(['TenYearCHD'], axis=1)], axis=1).to_csv('test.csv', index=False, header=False)\n",
    "boto3.Session().resource('s3').Bucket(bucket_name).Object(os.path.join(prefix, 'test/test.csv')).upload_file('test.csv')\n",
    "s3_input_test = sagemaker.TrainingInput(s3_data='s3://{}/{}/test'.format(bucket_name, prefix), content_type='csv')"
   ]
  },
  {
   "cell_type": "code",
   "execution_count": 10,
   "id": "244f3e16",
   "metadata": {},
   "outputs": [
    {
     "name": "stdout",
     "output_type": "stream",
     "text": [
      "257758044811.dkr.ecr.us-east-2.amazonaws.com/sagemaker-xgboost:1.0-1-cpu-py3\n"
     ]
    }
   ],
   "source": [
    "from sagemaker.debugger import Rule, rule_configs\n",
    "from sagemaker.amazon.amazon_estimator import image_uris\n",
    "container = image_uris.retrieve(region=boto3.Session().region_name, framework='xgboost', version='1.0-1')\n",
    "print(container)"
   ]
  },
  {
   "cell_type": "code",
   "execution_count": 11,
   "id": "f07c91a0",
   "metadata": {},
   "outputs": [],
   "source": [
    "# initialize hyperparameters\n",
    "hyperparameters = {\n",
    "        \"max_depth\":\"5\",\n",
    "        \"eta\":\"0.2\",\n",
    "        \"gamma\":\"4\",\n",
    "        \"min_child_weight\":\"6\",\n",
    "        \"subsample\":\"0.7\",\n",
    "        \"objective\":\"binary:logistic\",\n",
    "        \"num_round\":50\n",
    "        }"
   ]
  },
  {
   "cell_type": "code",
   "execution_count": 12,
   "id": "34035793",
   "metadata": {},
   "outputs": [
    {
     "name": "stderr",
     "output_type": "stream",
     "text": [
      "train_instance_count has been renamed in sagemaker>=2.\n",
      "See: https://sagemaker.readthedocs.io/en/stable/v2.html for details.\n",
      "train_instance_type has been renamed in sagemaker>=2.\n",
      "See: https://sagemaker.readthedocs.io/en/stable/v2.html for details.\n",
      "train_max_run has been renamed in sagemaker>=2.\n",
      "See: https://sagemaker.readthedocs.io/en/stable/v2.html for details.\n",
      "train_use_spot_instances has been renamed in sagemaker>=2.\n",
      "See: https://sagemaker.readthedocs.io/en/stable/v2.html for details.\n",
      "train_max_wait has been renamed in sagemaker>=2.\n",
      "See: https://sagemaker.readthedocs.io/en/stable/v2.html for details.\n",
      "train_volume_size has been renamed in sagemaker>=2.\n",
      "See: https://sagemaker.readthedocs.io/en/stable/v2.html for details.\n"
     ]
    }
   ],
   "source": [
    "xgb_model=sagemaker.estimator.Estimator(image_uri=container, \n",
    "                                          hyperparameters=hyperparameters,\n",
    "                                          role=sagemaker.get_execution_role(),\n",
    "                                          train_instance_count=1, \n",
    "                                          train_instance_type='ml.m5.2xlarge', \n",
    "                                          train_volume_size=5, # 5 GB \n",
    "                                          output_path=output_path,\n",
    "                                          train_use_spot_instances=True,\n",
    "                                          train_max_run=300,\n",
    "                                          train_max_wait=600,\n",
    "                                          rules=[Rule.sagemaker(rule_configs.create_xgboost_report())])\n",
    "                                        "
   ]
  },
  {
   "cell_type": "code",
   "execution_count": 13,
   "id": "2788e83d",
   "metadata": {},
   "outputs": [
    {
     "name": "stdout",
     "output_type": "stream",
     "text": [
      "2022-08-27 17:12:29 Starting - Starting the training job...\n",
      "2022-08-27 17:12:52 Starting - Preparing the instances for trainingCreateXgboostReport: InProgress\n",
      "ProfilerReport-1661620349: InProgress\n",
      ".........\n",
      "2022-08-27 17:14:28 Downloading - Downloading input data...\n",
      "2022-08-27 17:14:52 Training - Downloading the training image...\n",
      "2022-08-27 17:15:29 Uploading - Uploading generated training model.\u001b[34mINFO:sagemaker-containers:Imported framework sagemaker_xgboost_container.training\u001b[0m\n",
      "\u001b[34mINFO:sagemaker-containers:Failed to parse hyperparameter objective value binary:logistic to Json.\u001b[0m\n",
      "\u001b[34mReturning the value itself\u001b[0m\n",
      "\u001b[34mINFO:sagemaker-containers:No GPUs detected (normal if no gpus installed)\u001b[0m\n",
      "\u001b[34mINFO:sagemaker_xgboost_container.training:Running XGBoost Sagemaker in algorithm mode\u001b[0m\n",
      "\u001b[34mINFO:root:Determined delimiter of CSV input is ','\u001b[0m\n",
      "\u001b[34mINFO:root:Determined delimiter of CSV input is ','\u001b[0m\n",
      "\u001b[34mINFO:root:Determined delimiter of CSV input is ','\u001b[0m\n",
      "\u001b[34m[17:15:22] 2373x15 matrix with 35378 entries loaded from /opt/ml/input/data/train?format=csv&label_column=0&delimiter=,\u001b[0m\n",
      "\u001b[34mINFO:root:Determined delimiter of CSV input is ','\u001b[0m\n",
      "\u001b[34m[17:15:22] 1017x15 matrix with 15168 entries loaded from /opt/ml/input/data/validation?format=csv&label_column=0&delimiter=,\u001b[0m\n",
      "\u001b[34mINFO:root:Single node training.\u001b[0m\n",
      "\u001b[34m[2022-08-27 17:15:22.537 ip-10-0-113-168.us-east-2.compute.internal:1 INFO json_config.py:90] Creating hook from json_config at /opt/ml/input/config/debughookconfig.json.\u001b[0m\n",
      "\u001b[34m[2022-08-27 17:15:22.538 ip-10-0-113-168.us-east-2.compute.internal:1 INFO hook.py:151] tensorboard_dir has not been set for the hook. SMDebug will not be exporting tensorboard summaries.\u001b[0m\n",
      "\u001b[34m[2022-08-27 17:15:22.538 ip-10-0-113-168.us-east-2.compute.internal:1 INFO hook.py:196] Saving to /opt/ml/output/tensors\u001b[0m\n",
      "\u001b[34mINFO:root:Debug hook created from config\u001b[0m\n",
      "\u001b[34mINFO:root:Train matrix has 2373 rows\u001b[0m\n",
      "\u001b[34mINFO:root:Validation matrix has 1017 rows\u001b[0m\n",
      "\u001b[34m[17:15:22] WARNING: /workspace/src/learner.cc:328: \u001b[0m\n",
      "\u001b[34mParameters: { num_round } might not be used.\n",
      "  This may not be accurate due to some parameters are only used in language bindings but\n",
      "  passed down to XGBoost core.  Or some parameters are not used but slip through this\n",
      "  verification. Please open an issue if you find above cases.\u001b[0m\n",
      "\u001b[34m[0]#011train-error:0.14749#011validation-error:0.16028\u001b[0m\n",
      "\u001b[34m[2022-08-27 17:15:22.572 ip-10-0-113-168.us-east-2.compute.internal:1 INFO hook.py:325] Monitoring the collections: hyperparameters, predictions, feature_importance, metrics, labels\u001b[0m\n",
      "\u001b[34m[1]#011train-error:0.14412#011validation-error:0.15241\u001b[0m\n",
      "\u001b[34m[2]#011train-error:0.14286#011validation-error:0.15339\u001b[0m\n",
      "\u001b[34m[3]#011train-error:0.14159#011validation-error:0.15044\u001b[0m\n",
      "\u001b[34m[4]#011train-error:0.14328#011validation-error:0.14848\u001b[0m\n",
      "\u001b[34m[5]#011train-error:0.14201#011validation-error:0.14749\u001b[0m\n",
      "\u001b[34m[6]#011train-error:0.14075#011validation-error:0.14946\u001b[0m\n",
      "\u001b[34m[7]#011train-error:0.14033#011validation-error:0.14749\u001b[0m\n",
      "\u001b[34m[8]#011train-error:0.13991#011validation-error:0.14749\u001b[0m\n",
      "\u001b[34m[9]#011train-error:0.13906#011validation-error:0.14946\u001b[0m\n",
      "\u001b[34m[10]#011train-error:0.13612#011validation-error:0.15339\u001b[0m\n",
      "\u001b[34m[11]#011train-error:0.13569#011validation-error:0.15339\u001b[0m\n",
      "\u001b[34m[12]#011train-error:0.13612#011validation-error:0.15634\u001b[0m\n",
      "\u001b[34m[13]#011train-error:0.13485#011validation-error:0.15732\u001b[0m\n",
      "\u001b[34m[14]#011train-error:0.13485#011validation-error:0.15831\u001b[0m\n",
      "\u001b[34m[15]#011train-error:0.13527#011validation-error:0.16028\u001b[0m\n",
      "\u001b[34m[16]#011train-error:0.13527#011validation-error:0.16028\u001b[0m\n",
      "\u001b[34m[17]#011train-error:0.13485#011validation-error:0.15831\u001b[0m\n",
      "\u001b[34m[18]#011train-error:0.13359#011validation-error:0.15732\u001b[0m\n",
      "\u001b[34m[19]#011train-error:0.13274#011validation-error:0.15929\u001b[0m\n",
      "\u001b[34m[20]#011train-error:0.13317#011validation-error:0.15634\u001b[0m\n",
      "\u001b[34m[21]#011train-error:0.13359#011validation-error:0.15634\u001b[0m\n",
      "\u001b[34m[22]#011train-error:0.13232#011validation-error:0.15732\u001b[0m\n",
      "\u001b[34m[23]#011train-error:0.13148#011validation-error:0.15929\u001b[0m\n",
      "\u001b[34m[24]#011train-error:0.13148#011validation-error:0.15929\u001b[0m\n",
      "\u001b[34m[25]#011train-error:0.13064#011validation-error:0.15929\u001b[0m\n",
      "\u001b[34m[26]#011train-error:0.13359#011validation-error:0.15732\u001b[0m\n",
      "\u001b[34m[27]#011train-error:0.13274#011validation-error:0.15831\u001b[0m\n",
      "\u001b[34m[28]#011train-error:0.13190#011validation-error:0.15732\u001b[0m\n",
      "\u001b[34m[29]#011train-error:0.12979#011validation-error:0.15831\u001b[0m\n",
      "\u001b[34m[30]#011train-error:0.12979#011validation-error:0.15831\u001b[0m\n",
      "\u001b[34m[31]#011train-error:0.12895#011validation-error:0.15831\u001b[0m\n",
      "\u001b[34m[32]#011train-error:0.12642#011validation-error:0.15929\u001b[0m\n",
      "\u001b[34m[33]#011train-error:0.12516#011validation-error:0.15634\u001b[0m\n",
      "\u001b[34m[34]#011train-error:0.12516#011validation-error:0.15634\u001b[0m\n",
      "\u001b[34m[35]#011train-error:0.12600#011validation-error:0.15929\u001b[0m\n",
      "\u001b[34m[36]#011train-error:0.12516#011validation-error:0.15929\u001b[0m\n",
      "\u001b[34m[37]#011train-error:0.12431#011validation-error:0.15732\u001b[0m\n",
      "\u001b[34m[38]#011train-error:0.12474#011validation-error:0.15634\u001b[0m\n",
      "\u001b[34m[39]#011train-error:0.12431#011validation-error:0.15536\u001b[0m\n",
      "\u001b[34m[40]#011train-error:0.12431#011validation-error:0.15536\u001b[0m\n",
      "\u001b[34m[41]#011train-error:0.12431#011validation-error:0.15732\u001b[0m\n",
      "\u001b[34m[42]#011train-error:0.12305#011validation-error:0.15634\u001b[0m\n",
      "\u001b[34m[43]#011train-error:0.12221#011validation-error:0.15634\u001b[0m\n",
      "\u001b[34m[44]#011train-error:0.12305#011validation-error:0.15831\u001b[0m\n",
      "\u001b[34m[45]#011train-error:0.12305#011validation-error:0.15732\u001b[0m\n",
      "\u001b[34m[46]#011train-error:0.12221#011validation-error:0.15831\u001b[0m\n",
      "\u001b[34m[47]#011train-error:0.12179#011validation-error:0.15634\u001b[0m\n",
      "\u001b[34m[48]#011train-error:0.12052#011validation-error:0.15929\u001b[0m\n",
      "\u001b[34m[49]#011train-error:0.12052#011validation-error:0.15929\u001b[0m\n",
      "\n",
      "2022-08-27 17:15:52 Completed - Training job completed\n",
      "Training seconds: 72\n",
      "Billable seconds: 15\n",
      "Managed Spot Training savings: 79.2%\n"
     ]
    }
   ],
   "source": [
    "xgb_model.fit({\"train\": s3_input_train, \"validation\": s3_input_test}, wait=True)"
   ]
  }
 ],
 "metadata": {
  "kernelspec": {
   "display_name": "conda_python3",
   "language": "python",
   "name": "conda_python3"
  },
  "language_info": {
   "codemirror_mode": {
    "name": "ipython",
    "version": 3
   },
   "file_extension": ".py",
   "mimetype": "text/x-python",
   "name": "python",
   "nbconvert_exporter": "python",
   "pygments_lexer": "ipython3",
   "version": "3.8.12"
  }
 },
 "nbformat": 4,
 "nbformat_minor": 5
}
